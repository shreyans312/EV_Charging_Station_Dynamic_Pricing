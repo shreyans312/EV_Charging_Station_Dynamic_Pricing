{
 "cells": [
  {
   "cell_type": "code",
   "source": "",
   "metadata": {
    "colab": {
     "base_uri": "https://localhost:8080/"
    },
    "id": "oEPMIlsEC4jM",
    "outputId": "0c5e7f33-c322-4218-ed04-1b42e8523bcb",
    "ExecuteTime": {
     "end_time": "2025-07-03T19:28:58.722857Z",
     "start_time": "2025-07-03T19:28:58.711227Z"
    }
   },
   "id": "oEPMIlsEC4jM",
   "outputs": [],
   "execution_count": null
  },
  {
   "cell_type": "code",
   "id": "initial_id",
   "metadata": {
    "collapsed": true,
    "id": "initial_id",
    "ExecuteTime": {
     "end_time": "2025-07-03T16:59:01.538257Z",
     "start_time": "2025-07-03T16:58:58.986701Z"
    }
   },
   "source": [
    "import pandas as pd\n",
    "import numpy as np\n",
    "import torch\n",
    "import pickle\n",
    "import os\n",
    "from gurobipy import Model, GRB, quicksum\n",
    "from tqdm import tqdm\n",
    "from sklearn.metrics import mean_squared_error\n",
    "import torch.nn as nn\n",
    "import torch\n",
    "import joblib\n",
    "import matplotlib.pyplot as plt"
   ],
   "outputs": [],
   "execution_count": 2
  },
  {
   "metadata": {
    "id": "1dec720b31cb7982",
    "ExecuteTime": {
     "end_time": "2025-07-03T16:59:01.701122Z",
     "start_time": "2025-07-03T16:59:01.685467Z"
    }
   },
   "cell_type": "code",
   "source": [
    "DATA_PATH = 'C:/Users/shrey/Downloads/EV Charging Station Dynamic Pricing-20250701T181708Z-1-001/EV Charging Station Dynamic Pricing/data/urban_ev_combined.csv'\n",
    "DATA_DIR = 'C:/Users/shrey/Downloads/EV Charging Station Dynamic Pricing-20250701T181708Z-1-001/EV Charging Station Dynamic Pricing/data/'\n",
    "\n",
    "MODEL_DIR = 'C:/Users/shrey/Downloads/EV Charging Station Dynamic Pricing-20250701T181708Z-1-001/EV Charging Station Dynamic Pricing/models/'\n",
    "TARGET = 'volume'\n",
    "# Only using the selected features based on the importance\n",
    "features = [\n",
    "    'is_peak', 'duration', 'duration_24h_mean',\n",
    "    'charge_count', 'occupancy', 'e_price', 's_price', 'hour', 'area', 'power_kw'\n",
    "]\n",
    "\n",
    "P_MIN = 0.3 # min(e_price)=0.24 and min(s_price) = 0 however not setting it to 0 as it is not feasible for free charging station\n",
    "P_MAX = 1.45 # max(e_price) = 1.8 and max(s_price) = 1.45\n",
    "\n",
    "import csv\n",
    "\n",
    "output_file = \"C:/Users/shrey/Downloads/EV Charging Station Dynamic Pricing-20250701T181708Z-1-001/EV Charging Station Dynamic Pricing/optimized_zonewise_hourly_results.csv\"\n",
    "fieldnames = [\n",
    "    'zone_id', 'time', 'predicted_volume',\n",
    "    'static_price', 'optimal_price',\n",
    "    'static_revenue', 'optimal_revenue'\n",
    "]\n",
    "\n",
    "write_header = not os.path.exists(output_file)\n",
    "csv_file = open(output_file, mode='a', newline='')\n",
    "writer = csv.DictWriter(csv_file, fieldnames=fieldnames)\n",
    "\n",
    "if write_header:\n",
    "    writer.writeheader()"
   ],
   "id": "1dec720b31cb7982",
   "outputs": [],
   "execution_count": 3
  },
  {
   "metadata": {
    "id": "afc1e9842ca936b3",
    "ExecuteTime": {
     "end_time": "2025-07-03T16:59:03.894996Z",
     "start_time": "2025-07-03T16:59:01.799053Z"
    }
   },
   "cell_type": "code",
   "source": [
    "df = pd.read_csv(DATA_PATH, parse_dates=['time'])\n",
    "df['zone_id'] = df['zone_id'].astype(str)\n",
    "\n",
    "EPS = 1e-6\n",
    "df['power_kw'] = df['volume'] / (df['duration'] + EPS)\n",
    "df['power_kw'] = df['power_kw'].replace([np.inf, -np.inf], np.nan).fillna(0)\n",
    "\n",
    "s_price_df = pd.read_csv(DATA_DIR+'s_price.csv')\n",
    "s_price_df.rename(columns={s_price_df.columns[0]: 'time'}, inplace=True)\n",
    "s_price_df['time'] = pd.to_datetime(s_price_df['time'])\n",
    "s_price_df.set_index('time', inplace=True)\n",
    "s_price_df.columns = s_price_df.columns.astype(str)\n",
    "\n",
    "all_preds = []\n",
    "all_prices = []\n",
    "skipped_zones = []"
   ],
   "id": "afc1e9842ca936b3",
   "outputs": [],
   "execution_count": 4
  },
  {
   "metadata": {
    "id": "78889fc48bf2856",
    "ExecuteTime": {
     "end_time": "2025-07-03T16:59:03.958752Z",
     "start_time": "2025-07-03T16:59:03.910850Z"
    }
   },
   "cell_type": "code",
   "source": [
    "zone_ids = df['zone_id'].unique()\n",
    "\n",
    "# The hourly elasticity data is just estimate based on research papers although we need to calculate them by conducting actual study but since we have static prices data so this cannot be done\n",
    "\n",
    "hourly_epsilons = {\n",
    "    0:  0.15, 1: 0.25, 2: 0.25, 3: 0.3, 4: 0.35,\n",
    "    5:  0.4, 6: 0.5, 7: 0.7, 8: 0.8, 9: 0.9,\n",
    "    10: 0.8, 11: 0.7, 12: 0.6, 13: 0.7, 14: 0.75,\n",
    "    15: 0.8, 16: 0.85, 17: 1.0, 18: 1.1, 19: 1.0,\n",
    "    20: 0.9, 21: 0.8, 22: 0.5, 23: 0.3\n",
    "}\n",
    "def optimize_model(d_hat, s_prices, times):\n",
    "    m = Model(env=env, name=\"dynamic_pricing\")\n",
    "    m.setParam('OutputFlag', 0)\n",
    "\n",
    "    T = len(d_hat)\n",
    "    p = m.addVars(T, lb=P_MIN, ub=P_MAX, name=\"p\")\n",
    "    x = m.addVars(T, name=\"x\")\n",
    "    y = m.addVars(T, name=\"exp_approx\")\n",
    "    adjusted_demand = m.addVars(T, name=\"adjusted_demand\")\n",
    "\n",
    "\n",
    "    P_base = sum(s_prices)/len(s_prices)\n",
    "    lambda_price_penalty = 1.0 # to discourage very high prices\n",
    "\n",
    "    x_min = min((P_MIN - s_price) / s_price if s_price > 0 else -1 for s_price in s_prices)\n",
    "    x_max = max((P_MAX - s_price) / s_price if s_price > 0 else 1 for s_price in s_prices)\n",
    "\n",
    "    x_range = max(abs(x_min), abs(x_max))\n",
    "    x_vals = np.linspace(-x_range, x_range, num=15).tolist()\n",
    "\n",
    "\n",
    "    for t in range(T):\n",
    "        s_base = s_prices[t] if s_prices[t] > 0 else 0.3\n",
    "        m.addConstr(x[t] == (p[t] - s_base) / s_base)\n",
    "        hour = times[t].hour\n",
    "        epsilon = abs(hourly_epsilons.get(hour, 0.76))\n",
    "        y_vals = [np.exp(-epsilon * x_i) for x_i in x_vals]\n",
    "        m.addGenConstrPWL(x[t], y[t], x_vals, y_vals, name=f\"exp_pwl_{t}\") # PWL approximation as the function is non-linear\n",
    "        m.addConstr(adjusted_demand[t] == d_hat[t] * y[t])\n",
    "\n",
    "\n",
    "\n",
    "    revenue_objective = quicksum(p[t] * adjusted_demand[t] for t in range(T))\n",
    "    penalty_objective = lambda_price_penalty*quicksum((p[t] - s_prices[t])**2 for t in range(T))\n",
    "\n",
    "    m.setObjective(revenue_objective - penalty_objective, GRB.MAXIMIZE)\n",
    "    m.optimize()\n",
    "\n",
    "    p_opt = [p[t].X for t in range(T)]\n",
    "\n",
    "    opt_revenue = sum(\n",
    "        p_opt[t] * d_hat[t] * np.exp(\n",
    "            -abs(hourly_epsilons.get(times[t].hour, 0.5)) *\n",
    "            ((p_opt[t] - s_prices[t]) / s_prices[t] if s_prices[t] else 0)\n",
    "        )\n",
    "        for t in range(T)\n",
    "    )\n",
    "    static_revenue = sum(s_prices[t] * d_hat[t] for t in range(T))\n",
    "\n",
    "    return p_opt, opt_revenue, static_revenue"
   ],
   "id": "78889fc48bf2856",
   "outputs": [],
   "execution_count": 5
  },
  {
   "metadata": {
    "id": "6e874d8377b731eb",
    "ExecuteTime": {
     "end_time": "2025-07-03T16:59:04.012011Z",
     "start_time": "2025-07-03T16:59:03.995860Z"
    }
   },
   "cell_type": "code",
   "source": [
    "HIDDEN_SIZE = 128\n",
    "SEQ_LEN = 72\n",
    "class LSTM_Model(nn.Module):\n",
    "    def __init__(self, input_size):\n",
    "        super().__init__()\n",
    "        self.lstm = nn.LSTM(input_size=input_size, hidden_size=HIDDEN_SIZE, num_layers=2, batch_first=True, dropout=0.3)\n",
    "        self.fc = nn.Sequential(\n",
    "            nn.Linear(HIDDEN_SIZE, 64),\n",
    "            nn.ReLU(),\n",
    "            nn.Dropout(0.3),\n",
    "            nn.Linear(64, 1)\n",
    "        )\n",
    "\n",
    "    def forward(self, x):\n",
    "        out, _ = self.lstm(x)\n",
    "        out = out[:, -1, :]\n",
    "        return self.fc(out)"
   ],
   "id": "6e874d8377b731eb",
   "outputs": [],
   "execution_count": 6
  },
  {
   "metadata": {
    "colab": {
     "base_uri": "https://localhost:8080/",
     "height": 1000
    },
    "id": "1832a8c15a33a85e",
    "outputId": "62f1f671-33e4-430f-cd96-589e977c9c67",
    "ExecuteTime": {
     "end_time": "2025-07-03T18:49:26.209429Z",
     "start_time": "2025-07-03T16:59:12.978447Z"
    }
   },
   "cell_type": "code",
   "source": [
    "with open(os.path.join(MODEL_DIR, 'global_volume_scaler.pkl'), 'rb') as f:\n",
    "    global_volume_scaler = pickle.load(f)\n",
    "\n",
    "for zone_id in tqdm(zone_ids):\n",
    "    try:\n",
    "        df_zone = df[df['zone_id'] == zone_id].copy()\n",
    "\n",
    "        df_zone = df_zone.sort_values(by=['time'])\n",
    "\n",
    "        model_path = os.path.join(MODEL_DIR, f'zone_{zone_id}_model.pkl')\n",
    "        scaler_path = os.path.join(MODEL_DIR, f'zone_{zone_id}_scalers.pkl')\n",
    "        features_path = os.path.join(MODEL_DIR, f'zone_{zone_id}_features.pkl')\n",
    "\n",
    "        if not os.path.exists(model_path) or not os.path.exists(scaler_path) or not os.path.exists(features_path):\n",
    "            print(f'Skipping {zone_id}: missing parameters')\n",
    "            skipped_zones.append(zone_id)\n",
    "            continue\n",
    "\n",
    "        # Load model, scalers, and features\n",
    "        model = joblib.load(model_path)\n",
    "        input_size = model.lstm.input_size\n",
    "        model.lstm.flatten_parameters()\n",
    "\n",
    "        with open(scaler_path, 'rb') as f:\n",
    "            scalers = pickle.load(f)\n",
    "        with open(features_path, 'rb') as f:\n",
    "            zone_features = pickle.load(f)\n",
    "\n",
    "        zone_id_str = str(zone_id)\n",
    "\n",
    "\n",
    "        # Ensure features exist in dataframe and scale\n",
    "        for col in zone_features:\n",
    "            if col not in df_zone.columns:\n",
    "                print(f\"Zone {zone_id}: missing feature {col} in dataframe\")\n",
    "                raise ValueError(f\"Missing feature {col}\")\n",
    "            df_zone[col] = scalers[col].transform(df_zone[col].values.reshape(-1, 1)).flatten()\n",
    "\n",
    "        # Prepare sequences\n",
    "        X_seq, times, s_prices = [], [], []\n",
    "        for i in range(SEQ_LEN, len(df_zone)):\n",
    "            seq = df_zone.iloc[i - SEQ_LEN:i][zone_features].values.astype(np.float32)\n",
    "            if seq.shape[1] != input_size:\n",
    "                continue\n",
    "            X_seq.append(seq)\n",
    "            times.append(df_zone.iloc[i]['time'])\n",
    "            try:\n",
    "                s_price = s_price_df.loc[df_zone.iloc[i]['time'], zone_id_str]\n",
    "            except KeyError:\n",
    "                s_price = 0.0\n",
    "            s_prices.append(float(s_price))\n",
    "\n",
    "        if not X_seq:\n",
    "            continue\n",
    "\n",
    "        X_tensor = torch.tensor(np.stack(X_seq))\n",
    "        X_tensor = X_tensor.to(next(model.parameters()).device)\n",
    "\n",
    "        with torch.no_grad():\n",
    "            preds = model(X_tensor).squeeze().cpu().numpy()\n",
    "\n",
    "        log_preds = global_volume_scaler.inverse_transform(preds.reshape(-1, 1)).flatten()\n",
    "        preds = np.expm1(log_preds)\n",
    "        preds = np.clip(preds, 0.1, None)\n",
    "\n",
    "        p_opt, opt_rev, static_rev = optimize_model(preds, s_prices, times)\n",
    "\n",
    "        for t, ts in enumerate(times):\n",
    "            writer.writerow({\n",
    "              'zone_id': zone_id,\n",
    "              'time': ts,\n",
    "              'predicted_volume': preds[t],\n",
    "              'static_price': s_prices[t],\n",
    "              'optimal_price': p_opt[t],\n",
    "              'static_revenue': s_prices[t] * preds[t],\n",
    "              'optimal_revenue': p_opt[t] * preds[t],\n",
    "          })\n",
    "\n",
    "    except Exception as e:\n",
    "        print(f'Failed to optimize {zone_id}: {e}')\n"
   ],
   "id": "1832a8c15a33a85e",
   "outputs": [
    {
     "name": "stderr",
     "output_type": "stream",
     "text": [
      " 78%|███████▊  | 214/275 [1:27:51<20:55, 20.58s/it]"
     ]
    },
    {
     "name": "stdout",
     "output_type": "stream",
     "text": [
      "Failed to optimize 771: some x or y values are too big (>= 1e+30)\n"
     ]
    },
    {
     "name": "stderr",
     "output_type": "stream",
     "text": [
      "100%|██████████| 275/275 [1:50:13<00:00, 24.05s/it]\n"
     ]
    }
   ],
   "execution_count": 7
  },
  {
   "metadata": {
    "id": "fe19a9b3a31bfdc5",
    "ExecuteTime": {
     "end_time": "2025-07-03T18:49:33.254270Z",
     "start_time": "2025-07-03T18:49:28.376181Z"
    }
   },
   "cell_type": "code",
   "source": [
    "results = pd.read_csv('C:/Users/shrey/Downloads/EV Charging Station Dynamic Pricing-20250701T181708Z-1-001/EV Charging Station Dynamic Pricing/optimized_zonewise_hourly_results.csv')\n",
    "results['time'] = pd.to_datetime(results['time'])\n",
    "results['hour'] = results['time'].dt.hour\n",
    "summary = results.groupby('zone_id')[['static_revenue', 'optimal_revenue']].sum().reset_index()\n",
    "summary['gain_%'] = 100 * (summary['optimal_revenue'] - summary['static_revenue']) / summary['static_revenue']\n",
    "\n",
    "results.to_csv('C:/Users/shrey/Downloads/EV Charging Station Dynamic Pricing-20250701T181708Z-1-001/EV Charging Station Dynamic Pricing/pricing_results_by_hour.csv', index=False)\n",
    "summary.to_csv('C:/Users/shrey/Downloads/EV Charging Station Dynamic Pricing-20250701T181708Z-1-001/EV Charging Station Dynamic Pricing/zonewise_revenue_comparison.csv', index=False)\n"
   ],
   "id": "fe19a9b3a31bfdc5",
   "outputs": [],
   "execution_count": 8
  },
  {
   "metadata": {},
   "cell_type": "markdown",
   "source": "**Results Obtained**",
   "id": "2bde0588b220e675"
  },
  {
   "metadata": {
    "id": "99ac04237b3b2f3e",
    "ExecuteTime": {
     "end_time": "2025-07-03T18:52:26.982221Z",
     "start_time": "2025-07-03T18:52:25.822737Z"
    }
   },
   "cell_type": "code",
   "source": "import seaborn as sns",
   "id": "99ac04237b3b2f3e",
   "outputs": [],
   "execution_count": 9
  },
  {
   "metadata": {
    "ExecuteTime": {
     "end_time": "2025-07-03T19:04:13.982590Z",
     "start_time": "2025-07-03T19:04:13.806411Z"
    }
   },
   "cell_type": "code",
   "source": [
    "df = pd.read_csv('C:/Users/shrey/Downloads/EV Charging Station Dynamic Pricing-20250701T181708Z-1-001/EV Charging Station Dynamic Pricing/zonewise_revenue_comparison.csv')\n",
    "df.sort_values(by=['zone_id'], inplace=True)\n",
    "df_sub = df.head(20)\n",
    "plt.figure(figsize=(12, 6))\n",
    "sns.barplot(x='zone_id', y='gain_%', data=df_sub)\n",
    "plt.title('Number of zones')\n",
    "plt.ylabel('% Increase in revenue')\n",
    "plt.xlabel('Zone ID (20 zones)')\n",
    "plt.grid(axis='y', linestyle='--', alpha=0.7)\n",
    "plt.xticks(rotation=90)\n",
    "plt.tight_layout()\n",
    "plt.show()"
   ],
   "id": "c04acae439641026",
   "outputs": [
    {
     "data": {
      "text/plain": [
       "<Figure size 1200x600 with 1 Axes>"
      ],
      "image/png": "[encoded data removed]"
     },
     "metadata": {},
     "output_type": "display_data"
    }
   ],
   "execution_count": 17
  },
  {
   "metadata": {
    "ExecuteTime": {
     "end_time": "2025-07-03T19:08:45.809163Z",
     "start_time": "2025-07-03T19:08:45.793390Z"
    }
   },
   "cell_type": "code",
   "source": [
    "df['gain_%'] = pd.to_numeric(df['gain_%'], errors='coerce')\n",
    "df = df.replace([np.inf, -np.inf], np.nan)\n",
    "df = df.dropna(subset=['gain_%'])\n",
    "\n",
    "\n",
    "mean_gain = df['gain_%'].mean()\n",
    "std_gain = df['gain_%'].std()\n",
    "max_gain = df['gain_%'].max()\n",
    "min_gain = df['gain_%'].min()\n",
    "\n",
    "print(f'Mean gain: {mean_gain}')\n",
    "print(f'Standard deviation: {std_gain}')\n",
    "print(f'Max gain: {max_gain}')\n",
    "print(f'Min gain: {min_gain}')"
   ],
   "id": "f051341c577c388b",
   "outputs": [
    {
     "name": "stdout",
     "output_type": "stream",
     "text": [
      "Mean gain: 51.13341290668615\n",
      "Standard deviation: 11.652244691374733\n",
      "Max gain: 129.16557880527324\n",
      "Min gain: 21.64635042660337\n"
     ]
    }
   ],
   "execution_count": 21
  },
  {
   "metadata": {},
   "cell_type": "code",
   "outputs": [],
   "execution_count": null,
   "source": "",
   "id": "16a8e2bde8298fef"
  }
 ],
 "metadata": {
  "kernelspec": {
   "display_name": "Python 3",
   "name": "python3"
  },
  "language_info": {
   "codemirror_mode": {
    "name": "ipython",
    "version": 2
   },
   "file_extension": ".py",
   "mimetype": "text/x-python",
   "name": "python",
   "nbconvert_exporter": "python",
   "pygments_lexer": "ipython2",
   "version": "2.7.6"
  },
  "colab": {
   "provenance": [],
   "toc_visible": true,
   "gpuType": "T4"
  },
  "accelerator": "GPU"
 },
 "nbformat": 4,
 "nbformat_minor": 5
}
