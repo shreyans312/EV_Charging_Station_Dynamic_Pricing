{
  "nbformat": 4,
  "nbformat_minor": 0,
  "metadata": {
    "colab": {
      "provenance": [],
      "include_colab_link": true
    },
    "kernelspec": {
      "name": "python3",
      "display_name": "Python 3"
    },
    "language_info": {
      "name": "python"
    }
  },
  "cells": [
    {
      "cell_type": "markdown",
      "metadata": {
        "id": "view-in-github",
        "colab_type": "text"
      },
      "source": [
        "<a href=\"https://colab.research.google.com/github/shreyans312/EV_Charging_Station_Dynamic_Pricing/blob/main/LSTM_model.ipynb\" target=\"_parent\"><img src=\"https://colab.research.google.com/assets/colab-badge.svg\" alt=\"Open In Colab\"/></a>"
      ]
    },
    {
      "cell_type": "code",
      "source": [
        "from google.colab import drive\n",
        "drive.mount('/content/drive')"
      ],
      "metadata": {
        "colab": {
          "base_uri": "https://localhost:8080/"
        },
        "id": "blH6QCh2MtN_",
        "outputId": "03dfcc17-66de-45e4-c282-60d2d9846233",
        "ExecuteTime": {
          "end_time": "2025-07-02T14:50:21.425308Z",
          "start_time": "2025-07-02T14:50:21.043973Z"
        }
      },
      "outputs": [
        {
          "ename": "ModuleNotFoundError",
          "evalue": "No module named 'google'",
          "output_type": "error",
          "traceback": [
            "\u001b[1;31m---------------------------------------------------------------------------\u001b[0m",
            "\u001b[1;31mModuleNotFoundError\u001b[0m                       Traceback (most recent call last)",
            "Cell \u001b[1;32mIn[2], line 1\u001b[0m\n\u001b[1;32m----> 1\u001b[0m \u001b[38;5;28;01mfrom\u001b[39;00m\u001b[38;5;250m \u001b[39m\u001b[38;5;21;01mgoogle\u001b[39;00m\u001b[38;5;21;01m.\u001b[39;00m\u001b[38;5;21;01mcolab\u001b[39;00m\u001b[38;5;250m \u001b[39m\u001b[38;5;28;01mimport\u001b[39;00m drive\n\u001b[0;32m      2\u001b[0m drive\u001b[38;5;241m.\u001b[39mmount(\u001b[38;5;124m'\u001b[39m\u001b[38;5;124m/content/drive\u001b[39m\u001b[38;5;124m'\u001b[39m)\n",
            "\u001b[1;31mModuleNotFoundError\u001b[0m: No module named 'google'"
          ]
        }
      ],
      "execution_count": null
    },
    {
      "cell_type": "code",
      "metadata": {
        "id": "zlsss_DOxDvj",
        "ExecuteTime": {
          "end_time": "2025-07-02T19:24:53.846794Z",
          "start_time": "2025-07-02T19:24:53.826661Z"
        }
      },
      "source": [
        "import os\n",
        "import numpy as np\n",
        "import pandas as pd\n",
        "import matplotlib.pyplot as plt\n",
        "from datetime import datetime\n",
        "from sklearn.preprocessing import StandardScaler\n",
        "from sklearn.model_selection import train_test_split\n",
        "from sklearn.metrics import mean_squared_error\n",
        "import torch\n",
        "import torch.nn as nn\n",
        "from torch.utils.data import Dataset, DataLoader\n",
        "from tqdm import tqdm\n",
        "import pickle\n",
        "import joblib\n",
        "\n",
        "torch.manual_seed(42)\n",
        "np.random.seed(42)\n",
        "device = torch.device('cuda' if torch.cuda.is_available() else 'cpu')"
      ],
      "outputs": [],
      "execution_count": null
    },
    {
      "cell_type": "code",
      "source": [
        "DATA_PATH = 'content/drive/MyDrive/EV Charging Station Dynamic Pricing/data/urban_ev_combined.csv'\n",
        "ADJ_PATH = 'content/drive/MyDrive/EV Charging Station Dynamic Pricing-20250701T181708Z-1-001/EV Charging Station Dynamic Pricing/data/adj_filter.csv'\n",
        "MODEL_SAVE_DIR = 'content/drive/MyDrive/EV Charging Station Dynamic Pricing/models'\n",
        "os.makedirs(MODEL_SAVE_DIR, exist_ok=True)\n",
        "\n",
        "SEQ_LEN = 72 # Taking 72 hours data\n",
        "EPOCHS = 10\n",
        "BATCH_SIZE = 64\n",
        "HIDDEN_SIZE = 128\n",
        "PATIENCE = 5\n",
        "LEARNING_RATE = 0.001\n",
        "\n",
        "df = pd.read_csv(DATA_PATH, parse_dates=['time'])\n",
        "adj = pd.read_csv(ADJ_PATH, index_col=0)\n",
        "adj.columns = adj.columns.astype(str)\n",
        "adj.index = adj.index.astype(str)\n",
        "\n",
        "# Only using the selected features based on the importance\n",
        "features = [\n",
        "    'is_peak', 'duration', 'duration_24h_mean',\n",
        "    'charge_count', 'occupancy', 'e_price', 's_price', 'hour', 'area'\n",
        "]\n",
        "\n",
        "target = 'volume'\n",
        "df.dropna(subset=features + [target], inplace=True)\n",
        "\n",
        "df['power_kw'] = df['volume'] / df['duration']\n",
        "df['power_kw'] = df['power_kw'].replace([np.inf, -np.inf], np.nan).fillna(0)\n",
        "features.append('power_kw')\n",
        "\n",
        "df[target] = np.log1p(df[target].clip(lower=0))  # Applying log transform and clipping\n",
        "for col in features:\n",
        "    if df[col].dtype in [np.float64, np.float32]:\n",
        "        mean = df[col].mean()\n",
        "        std = df[col].std()\n",
        "        df[col] = df[col].clip(lower=mean - 3*std, upper=mean + 3*std)\n",
        "\n",
        "\n",
        "scalers = {}\n",
        "for col in features + [target]:\n",
        "    flat = df[col].astype(np.float32).values.reshape(-1, 1)\n",
        "    if np.any(np.isnan(flat)):\n",
        "        raise ValueError(f\"Column {col} contains NaNs\")\n",
        "    if np.var(flat) == 0:\n",
        "        raise ValueError(f\"Column {col} has zero variance\")\n",
        "        flat += np.random.normal(0, 1e-6, flat.shape) # Adding a small noise in case of zero variance\n",
        "\n",
        "    scaler = StandardScaler()\n",
        "    df[col] = scaler.fit_transform(flat).flatten()\n",
        "    scalers[col] = scaler\n"
      ],
      "metadata": {
        "id": "c1aNQhcVMQFr",
        "ExecuteTime": {
          "end_time": "2025-07-02T17:43:49.282516Z",
          "start_time": "2025-07-02T17:43:47.132510Z"
        }
      },
      "outputs": [],
      "execution_count": null
    },
    {
      "cell_type": "code",
      "source": [
        "class LSTM_Model(nn.Module):\n",
        "    def __init__(self, input_size):\n",
        "        super().__init__()\n",
        "        self.lstm = nn.LSTM(input_size=input_size, hidden_size=HIDDEN_SIZE, num_layers=2, batch_first=True, dropout=0.3)\n",
        "        self.fc = nn.Sequential(\n",
        "            nn.Linear(HIDDEN_SIZE, 64),\n",
        "            nn.ReLU(),\n",
        "            nn.Dropout(0.3),\n",
        "            nn.Linear(64, 1)\n",
        "        )\n",
        "\n",
        "    def forward(self, x):\n",
        "        out, _ = self.lstm(x)\n",
        "        out = out[:, -1, :]\n",
        "        return self.fc(out)"
      ],
      "metadata": {
        "id": "A_ht8-THMlHp",
        "ExecuteTime": {
          "end_time": "2025-07-02T17:43:50.139464Z",
          "start_time": "2025-07-02T17:43:50.123360Z"
        }
      },
      "outputs": [],
      "execution_count": null
    },
    {
      "cell_type": "code",
      "source": [
        "class ZoneDataset(Dataset):\n",
        "    def __init__(self, df_zone, features, target, seq_len):\n",
        "        self.X, self.y = [], []\n",
        "        for i in range(len(df_zone) - seq_len):\n",
        "            x_seq = df_zone[features].iloc[i:i + seq_len].values\n",
        "            x_seq = np.array(x_seq, dtype=np.float32)\n",
        "\n",
        "            y_val = df_zone[target].iloc[i + seq_len - 1]\n",
        "            y_val = np.array(y_val, dtype=np.float32).flatten()\n",
        "\n",
        "            self.X.append(x_seq)\n",
        "            self.y.append(y_val)\n",
        "\n",
        "        self.X = torch.tensor(self.X, dtype=torch.float32)\n",
        "        self.y = torch.tensor(self.y, dtype=torch.float32)\n",
        "\n",
        "        if self.y.dim() == 1:\n",
        "            self.y = self.y.view(-1, 1)\n",
        "\n",
        "    def __len__(self):\n",
        "        return len(self.X)\n",
        "\n",
        "    def __getitem__(self, idx):\n",
        "        return self.X[idx], self.y[idx]\n"
      ],
      "metadata": {
        "id": "OZ6lt2HLP6Tb",
        "ExecuteTime": {
          "end_time": "2025-07-02T17:43:51.822793Z",
          "start_time": "2025-07-02T17:43:51.807464Z"
        }
      },
      "outputs": [],
      "execution_count": null
    },
    {
      "cell_type": "code",
      "source": [
        "def add_neighbour_avg(df, zone_id, target_col='volume_24h_mean'): # Neighbour volume averaging\n",
        "    neighbours = adj.loc[str(zone_id)][adj.loc[str(zone_id)] == 1].index.tolist()\n",
        "    df_main = df[df['zone_id'] == zone_id][['time', target_col]].set_index('time')\n",
        "    if not neighbours:\n",
        "        df_main[f'neighbour_{target_col}'] = 0\n",
        "    else:\n",
        "        neighbour_data = df[df['zone_id'].isin(neighbours)][['time', target_col]]\n",
        "        neighbour_mean = (\n",
        "            neighbour_data.groupby('time')[target_col]\n",
        "            .mean()\n",
        "            .reindex(df_main.index)\n",
        "            .fillna(0)\n",
        "            .rename(f'neighbour_{target_col}')\n",
        "        )\n",
        "        df_main[f'neighbour_{target_col}'] = neighbour_mean\n",
        "\n",
        "    df_out = df[df['zone_id'] == zone_id].copy()\n",
        "    df_out[f'neighbour_{target_col}'] = df_main[f'neighbour_{target_col}'].values\n",
        "    return df_out\n"
      ],
      "metadata": {
        "id": "0qhTksf9Q-YK",
        "ExecuteTime": {
          "end_time": "2025-07-02T17:43:52.631595Z",
          "start_time": "2025-07-02T17:43:52.615922Z"
        }
      },
      "outputs": [],
      "execution_count": null
    },
    {
      "metadata": {
        "ExecuteTime": {
          "end_time": "2025-07-02T19:41:46.879325Z",
          "start_time": "2025-07-02T19:25:21.227539Z"
        },
        "id": "YUtwS1QVBGWP",
        "outputId": "5afc84d6-e21e-438b-9868-b6de7f6e8f9f"
      },
      "cell_type": "code",
      "source": [
        "logs = []\n",
        "zone_ids = df['zone_id'].unique()\n",
        "\n",
        "for zone_id in tqdm(zone_ids, desc=\"Training per zone\"):\n",
        "    try:\n",
        "        # Compute neighbor averages\n",
        "        df_zone = add_neighbour_avg(df, zone_id, target_col='volume')  # Use 'volume' instead of 'volume_24h_mean'\n",
        "        df_zone = add_neighbour_avg(df_zone, zone_id, target_col='duration_24h_mean')\n",
        "        df_zone.dropna(subset=features + [target, 'neighbour_volume', 'neighbour_duration_24h_mean'], inplace=True)\n",
        "        all_features = features + ['neighbour_volume', 'neighbour_duration_24h_mean']\n",
        "\n",
        "        # Check for low target variance\n",
        "        if df_zone[target].var() < 1e-6:\n",
        "            print(f\"Skipping zone {zone_id}: target variance too low ({df_zone[target].var()})\")\n",
        "            continue\n",
        "\n",
        "        # Select features with non-zero variance\n",
        "        valid_features = []\n",
        "        for col in all_features:\n",
        "            flat = df_zone[col].astype(np.float32).values\n",
        "            if np.var(flat) > 1e-6:\n",
        "                valid_features.append(col)\n",
        "\n",
        "        if not valid_features:\n",
        "            print(f\"Skipping zone {zone_id}: no valid features with non-zero variance\")\n",
        "            continue\n",
        "\n",
        "        # Scale zone-specific data\n",
        "        zone_scalers = {}\n",
        "        for col in valid_features + [target]:\n",
        "            flat = df_zone[col].astype(np.float32).values.reshape(-1, 1)\n",
        "            if np.any(np.isnan(flat)) or np.any(np.isinf(flat)):\n",
        "                print(f\"Warning: NaN or Inf in column {col} for zone {zone_id}\")\n",
        "                flat = np.nan_to_num(flat, nan=0.0, posinf=0.0, neginf=0.0)\n",
        "            if np.var(flat) < 1e-6:\n",
        "                flat += np.random.normal(0, 1e-6, flat.shape)\n",
        "            scaler = StandardScaler()\n",
        "            df_zone[col] = scaler.fit_transform(flat).flatten()\n",
        "            zone_scalers[col] = scaler\n",
        "\n",
        "        dataset = ZoneDataset(df_zone, valid_features, target, SEQ_LEN)\n",
        "\n",
        "        train_size = int(len(dataset) * 0.8)\n",
        "        if train_size == 0 or len(dataset) - train_size == 0:\n",
        "            print(f\"Skipping zone {zone_id}: empty train/val set\")\n",
        "            continue\n",
        "\n",
        "        train_dataset, val_dataset = torch.utils.data.random_split(dataset, [train_size, len(dataset) - train_size])\n",
        "        train_loader = DataLoader(train_dataset, batch_size=BATCH_SIZE, shuffle=True, num_workers=0, pin_memory=True)\n",
        "        val_loader = DataLoader(val_dataset, batch_size=BATCH_SIZE, shuffle=False, num_workers=0, pin_memory=True)\n",
        "\n",
        "        model = LSTM_Model(input_size=len(valid_features)).to(device)\n",
        "        optimizer = torch.optim.Adam(model.parameters(), lr=LEARNING_RATE)\n",
        "        scheduler = torch.optim.lr_scheduler.ReduceLROnPlateau(optimizer, patience=2, factor=0.5)\n",
        "        loss_fn = nn.HuberLoss()\n",
        "\n",
        "        best_val_loss = float('inf')\n",
        "        epochs_no_improve = 0\n",
        "\n",
        "        all_train_preds, all_train_targets = [], []\n",
        "        all_val_preds, all_val_targets = [], []\n",
        "\n",
        "        for epoch in range(EPOCHS):\n",
        "            model.train()\n",
        "            train_loss = 0\n",
        "            for xb, yb in train_loader:\n",
        "                xb, yb = xb.to(device, non_blocking=True), yb.to(device, non_blocking=True)\n",
        "                optimizer.zero_grad()\n",
        "                with torch.autocast(device_type='cuda', dtype=torch.float16):\n",
        "                    pred = model(xb)\n",
        "                    loss = loss_fn(pred, yb)\n",
        "                loss.backward()\n",
        "                torch.nn.utils.clip_grad_norm_(model.parameters(), max_norm=1.0)\n",
        "                optimizer.step()\n",
        "                train_loss += loss.item()\n",
        "\n",
        "                all_train_preds.append(pred.detach().cpu().numpy())\n",
        "                all_train_targets.append(yb.detach().cpu().numpy())\n",
        "\n",
        "            train_loss /= len(train_loader)\n",
        "\n",
        "\n",
        "            model.eval()\n",
        "            val_loss = 0\n",
        "            with torch.no_grad():\n",
        "                for xb, yb in val_loader:\n",
        "                    xb, yb = xb.to(device, non_blocking=True), yb.to(device, non_blocking=True)\n",
        "                    with torch.autocast(device_type='cuda', dtype=torch.float16):\n",
        "                        pred = model(xb)\n",
        "                        val_loss += loss_fn(pred, yb).item()\n",
        "                        all_val_preds.append(pred.detach().cpu().numpy())\n",
        "                        all_val_targets.append(yb.detach().cpu().numpy())\n",
        "\n",
        "                val_loss /= len(val_loader)\n",
        "\n",
        "            scheduler.step(val_loss)\n",
        "            if val_loss < best_val_loss:\n",
        "                best_val_loss = val_loss\n",
        "                epochs_no_improve = 0\n",
        "                joblib.dump(model, os.path.join(MODEL_SAVE_DIR, f'zone_{zone_id}_model.pkl'))\n",
        "            else:\n",
        "                epochs_no_improve += 1\n",
        "                if epochs_no_improve >= PATIENCE:\n",
        "                    print(f\"Early stopping for zone {zone_id} at epoch {epoch}\")\n",
        "                    break\n",
        "\n",
        "        # Inverse transform losses for interpretability\n",
        "        train_preds_unscaled = zone_scalers[target].inverse_transform(np.concatenate(all_train_preds).reshape(-1, 1))\n",
        "        train_targets_unscaled = zone_scalers[target].inverse_transform(np.concatenate(all_train_targets).reshape(-1, 1))\n",
        "        val_preds_unscaled = zone_scalers[target].inverse_transform(np.concatenate(all_val_preds).reshape(-1, 1))\n",
        "        val_targets_unscaled = zone_scalers[target].inverse_transform(np.concatenate(all_val_targets).reshape(-1, 1))\n",
        "\n",
        "        train_loss_unscaled = np.sqrt(mean_squared_error(train_targets_unscaled, train_preds_unscaled))\n",
        "        val_loss_unscaled = np.sqrt(mean_squared_error(val_targets_unscaled, val_preds_unscaled))\n",
        "\n",
        "        print(f'Trained zone {zone_id}, Train Loss: {train_loss_unscaled:.4f}, Val Loss: {val_loss_unscaled:.4f}')\n",
        "        # Single append to logs\n",
        "        logs.append({\n",
        "            'zone_id': zone_id,\n",
        "            'train_loss': train_loss,\n",
        "            'val_loss': val_loss,\n",
        "            'train_loss_unscaled': train_loss_unscaled,\n",
        "            'val_loss_unscaled': val_loss_unscaled\n",
        "        })\n",
        "\n",
        "        with open(os.path.join(MODEL_SAVE_DIR, f'zone_{zone_id}_scalers.pkl'), 'wb') as f:\n",
        "            pickle.dump(zone_scalers, f)\n",
        "\n",
        "        with open(os.path.join(MODEL_SAVE_DIR, f'zone_{zone_id}_features.pkl'), 'wb') as f:\n",
        "            pickle.dump(valid_features, f)\n",
        "\n",
        "        del df_zone, dataset, train_loader, val_loader, model\n",
        "        if torch.cuda.is_available():\n",
        "            torch.cuda.empty_cache()\n",
        "\n",
        "    except Exception as e:\n",
        "        print(f\"Failed for zone {zone_id}: {e}\")\n",
        "\n",
        "log_df = pd.DataFrame(logs)\n",
        "log_df.to_csv(os.path.join(MODEL_SAVE_DIR, 'training_log.csv'), index=False)"
      ],
      "outputs": [
        {
          "name": "stderr",
          "output_type": "stream",
          "text": [
            "Training per zone:   0%|          | 1/275 [00:03<17:07,  3.75s/it]"
          ]
        },
        {
          "name": "stdout",
          "output_type": "stream",
          "text": [
            "Trained zone 1000, Train Loss: 0.0687, Val Loss: 0.0452\n"
          ]
        },
        {
          "name": "stderr",
          "output_type": "stream",
          "text": [
            "Training per zone:   1%|          | 2/275 [00:07<16:01,  3.52s/it]"
          ]
        },
        {
          "name": "stdout",
          "output_type": "stream",
          "text": [
            "Trained zone 1009, Train Loss: 0.0793, Val Loss: 0.0437\n"
          ]
        },
        {
          "name": "stderr",
          "output_type": "stream",
          "text": [
            "Training per zone:   1%|          | 3/275 [00:10<15:50,  3.50s/it]"
          ]
        },
        {
          "name": "stdout",
          "output_type": "stream",
          "text": [
            "Trained zone 1011, Train Loss: 0.0606, Val Loss: 0.0479\n"
          ]
        },
        {
          "name": "stderr",
          "output_type": "stream",
          "text": [
            "Training per zone:   1%|▏         | 4/275 [00:13<15:30,  3.43s/it]"
          ]
        },
        {
          "name": "stdout",
          "output_type": "stream",
          "text": [
            "Trained zone 1015, Train Loss: 0.1080, Val Loss: 0.0608\n"
          ]
        },
        {
          "name": "stderr",
          "output_type": "stream",
          "text": [
            "Training per zone:   2%|▏         | 5/275 [00:17<15:48,  3.51s/it]"
          ]
        },
        {
          "name": "stdout",
          "output_type": "stream",
          "text": [
            "Trained zone 102, Train Loss: 0.0764, Val Loss: 0.0459\n"
          ]
        },
        {
          "name": "stderr",
          "output_type": "stream",
          "text": [
            "Training per zone:   2%|▏         | 6/275 [00:21<16:03,  3.58s/it]"
          ]
        },
        {
          "name": "stdout",
          "output_type": "stream",
          "text": [
            "Trained zone 1026, Train Loss: 0.1776, Val Loss: 0.1334\n"
          ]
        },
        {
          "name": "stderr",
          "output_type": "stream",
          "text": [
            "Training per zone:   3%|▎         | 7/275 [00:25<16:15,  3.64s/it]"
          ]
        },
        {
          "name": "stdout",
          "output_type": "stream",
          "text": [
            "Trained zone 1029, Train Loss: 0.2047, Val Loss: 0.1288\n"
          ]
        },
        {
          "name": "stderr",
          "output_type": "stream",
          "text": [
            "Training per zone:   3%|▎         | 8/275 [00:28<16:13,  3.64s/it]"
          ]
        },
        {
          "name": "stdout",
          "output_type": "stream",
          "text": [
            "Trained zone 1031, Train Loss: 0.0804, Val Loss: 0.0959\n"
          ]
        },
        {
          "name": "stderr",
          "output_type": "stream",
          "text": [
            "Training per zone:   3%|▎         | 9/275 [00:32<15:48,  3.57s/it]"
          ]
        },
        {
          "name": "stdout",
          "output_type": "stream",
          "text": [
            "Trained zone 104, Train Loss: 0.1466, Val Loss: 0.0675\n"
          ]
        },
        {
          "name": "stderr",
          "output_type": "stream",
          "text": [
            "Training per zone:   4%|▎         | 10/275 [00:35<15:18,  3.47s/it]"
          ]
        },
        {
          "name": "stdout",
          "output_type": "stream",
          "text": [
            "Trained zone 1043, Train Loss: 0.0848, Val Loss: 0.0425\n"
          ]
        },
        {
          "name": "stderr",
          "output_type": "stream",
          "text": [
            "Training per zone:   4%|▍         | 11/275 [00:38<14:59,  3.41s/it]"
          ]
        },
        {
          "name": "stdout",
          "output_type": "stream",
          "text": [
            "Trained zone 1049, Train Loss: 0.0827, Val Loss: 0.0463\n"
          ]
        },
        {
          "name": "stderr",
          "output_type": "stream",
          "text": [
            "Training per zone:   4%|▍         | 12/275 [00:42<14:56,  3.41s/it]"
          ]
        },
        {
          "name": "stdout",
          "output_type": "stream",
          "text": [
            "Trained zone 105, Train Loss: 0.0900, Val Loss: 0.0658\n"
          ]
        },
        {
          "name": "stderr",
          "output_type": "stream",
          "text": [
            "Training per zone:   5%|▍         | 13/275 [00:45<14:42,  3.37s/it]"
          ]
        },
        {
          "name": "stdout",
          "output_type": "stream",
          "text": [
            "Trained zone 106, Train Loss: 0.0598, Val Loss: 0.0315\n"
          ]
        },
        {
          "name": "stderr",
          "output_type": "stream",
          "text": [
            "Training per zone:   5%|▌         | 14/275 [00:48<14:35,  3.35s/it]"
          ]
        },
        {
          "name": "stdout",
          "output_type": "stream",
          "text": [
            "Trained zone 1060, Train Loss: 0.1043, Val Loss: 0.0657\n"
          ]
        },
        {
          "name": "stderr",
          "output_type": "stream",
          "text": [
            "Training per zone:   5%|▌         | 15/275 [00:52<14:42,  3.40s/it]"
          ]
        },
        {
          "name": "stdout",
          "output_type": "stream",
          "text": [
            "Trained zone 1061, Train Loss: 0.1195, Val Loss: 0.0895\n"
          ]
        },
        {
          "name": "stderr",
          "output_type": "stream",
          "text": [
            "Training per zone:   6%|▌         | 16/275 [00:55<14:49,  3.43s/it]"
          ]
        },
        {
          "name": "stdout",
          "output_type": "stream",
          "text": [
            "Trained zone 1062, Train Loss: 0.1019, Val Loss: 0.0619\n"
          ]
        },
        {
          "name": "stderr",
          "output_type": "stream",
          "text": [
            "Training per zone:   6%|▌         | 17/275 [00:58<14:32,  3.38s/it]"
          ]
        },
        {
          "name": "stdout",
          "output_type": "stream",
          "text": [
            "Trained zone 1066, Train Loss: 0.0920, Val Loss: 0.0487\n"
          ]
        },
        {
          "name": "stderr",
          "output_type": "stream",
          "text": [
            "Training per zone:   7%|▋         | 18/275 [01:02<14:20,  3.35s/it]"
          ]
        },
        {
          "name": "stdout",
          "output_type": "stream",
          "text": [
            "Trained zone 1067, Train Loss: 0.0926, Val Loss: 0.0675\n"
          ]
        },
        {
          "name": "stderr",
          "output_type": "stream",
          "text": [
            "Training per zone:   7%|▋         | 19/275 [01:05<14:44,  3.46s/it]"
          ]
        },
        {
          "name": "stdout",
          "output_type": "stream",
          "text": [
            "Trained zone 1068, Train Loss: 0.0599, Val Loss: 0.0367\n"
          ]
        },
        {
          "name": "stderr",
          "output_type": "stream",
          "text": [
            "Training per zone:   7%|▋         | 20/275 [01:09<14:36,  3.44s/it]"
          ]
        },
        {
          "name": "stdout",
          "output_type": "stream",
          "text": [
            "Trained zone 107, Train Loss: 0.0869, Val Loss: 0.0368\n"
          ]
        },
        {
          "name": "stderr",
          "output_type": "stream",
          "text": [
            "Training per zone:   8%|▊         | 21/275 [01:12<14:53,  3.52s/it]"
          ]
        },
        {
          "name": "stdout",
          "output_type": "stream",
          "text": [
            "Trained zone 1071, Train Loss: 0.0771, Val Loss: 0.0737\n"
          ]
        },
        {
          "name": "stderr",
          "output_type": "stream",
          "text": [
            "Training per zone:   8%|▊         | 22/275 [01:16<15:04,  3.58s/it]"
          ]
        },
        {
          "name": "stdout",
          "output_type": "stream",
          "text": [
            "Trained zone 1072, Train Loss: 0.1360, Val Loss: 0.0826\n"
          ]
        },
        {
          "name": "stderr",
          "output_type": "stream",
          "text": [
            "Training per zone:   8%|▊         | 23/275 [01:20<15:14,  3.63s/it]"
          ]
        },
        {
          "name": "stdout",
          "output_type": "stream",
          "text": [
            "Trained zone 1074, Train Loss: 0.0911, Val Loss: 0.0635\n"
          ]
        },
        {
          "name": "stderr",
          "output_type": "stream",
          "text": [
            "Training per zone:   9%|▊         | 24/275 [01:23<14:53,  3.56s/it]"
          ]
        },
        {
          "name": "stdout",
          "output_type": "stream",
          "text": [
            "Trained zone 1075, Train Loss: 0.1342, Val Loss: 0.0680\n"
          ]
        },
        {
          "name": "stderr",
          "output_type": "stream",
          "text": [
            "Training per zone:   9%|▉         | 25/275 [01:27<14:38,  3.51s/it]"
          ]
        },
        {
          "name": "stdout",
          "output_type": "stream",
          "text": [
            "Trained zone 1076, Train Loss: 0.1143, Val Loss: 0.0712\n"
          ]
        },
        {
          "name": "stderr",
          "output_type": "stream",
          "text": [
            "Training per zone:   9%|▉         | 26/275 [01:30<14:25,  3.48s/it]"
          ]
        },
        {
          "name": "stdout",
          "output_type": "stream",
          "text": [
            "Trained zone 108, Train Loss: 0.1074, Val Loss: 0.0768\n"
          ]
        },
        {
          "name": "stderr",
          "output_type": "stream",
          "text": [
            "Training per zone:  10%|▉         | 27/275 [01:33<14:01,  3.39s/it]"
          ]
        },
        {
          "name": "stdout",
          "output_type": "stream",
          "text": [
            "Trained zone 1081, Train Loss: 0.0732, Val Loss: 0.0562\n"
          ]
        },
        {
          "name": "stderr",
          "output_type": "stream",
          "text": [
            "Training per zone:  10%|█         | 28/275 [01:37<14:36,  3.55s/it]"
          ]
        },
        {
          "name": "stdout",
          "output_type": "stream",
          "text": [
            "Trained zone 1082, Train Loss: 0.1404, Val Loss: 0.0916\n"
          ]
        },
        {
          "name": "stderr",
          "output_type": "stream",
          "text": [
            "Training per zone:  11%|█         | 29/275 [01:41<15:04,  3.68s/it]"
          ]
        },
        {
          "name": "stdout",
          "output_type": "stream",
          "text": [
            "Trained zone 1083, Train Loss: 0.1156, Val Loss: 0.0738\n"
          ]
        },
        {
          "name": "stderr",
          "output_type": "stream",
          "text": [
            "Training per zone:  11%|█         | 30/275 [01:45<15:25,  3.78s/it]"
          ]
        },
        {
          "name": "stdout",
          "output_type": "stream",
          "text": [
            "Trained zone 1085, Train Loss: 0.0547, Val Loss: 0.0550\n"
          ]
        },
        {
          "name": "stderr",
          "output_type": "stream",
          "text": [
            "Training per zone:  11%|█▏        | 31/275 [01:49<15:12,  3.74s/it]"
          ]
        },
        {
          "name": "stdout",
          "output_type": "stream",
          "text": [
            "Trained zone 1087, Train Loss: 0.0700, Val Loss: 0.0435\n"
          ]
        },
        {
          "name": "stderr",
          "output_type": "stream",
          "text": [
            "Training per zone:  12%|█▏        | 32/275 [01:53<15:01,  3.71s/it]"
          ]
        },
        {
          "name": "stdout",
          "output_type": "stream",
          "text": [
            "Trained zone 1088, Train Loss: 0.0897, Val Loss: 0.0727\n"
          ]
        },
        {
          "name": "stderr",
          "output_type": "stream",
          "text": [
            "Training per zone:  12%|█▏        | 33/275 [01:56<14:50,  3.68s/it]"
          ]
        },
        {
          "name": "stdout",
          "output_type": "stream",
          "text": [
            "Trained zone 109, Train Loss: 0.1015, Val Loss: 0.0617\n"
          ]
        },
        {
          "name": "stderr",
          "output_type": "stream",
          "text": [
            "Training per zone:  12%|█▏        | 34/275 [02:00<14:42,  3.66s/it]"
          ]
        },
        {
          "name": "stdout",
          "output_type": "stream",
          "text": [
            "Trained zone 1090, Train Loss: 0.1203, Val Loss: 0.0770\n"
          ]
        },
        {
          "name": "stderr",
          "output_type": "stream",
          "text": [
            "Training per zone:  13%|█▎        | 35/275 [02:03<14:40,  3.67s/it]"
          ]
        },
        {
          "name": "stdout",
          "output_type": "stream",
          "text": [
            "Trained zone 1092, Train Loss: 0.1198, Val Loss: 0.0674\n"
          ]
        },
        {
          "name": "stderr",
          "output_type": "stream",
          "text": [
            "Training per zone:  13%|█▎        | 36/275 [02:07<14:30,  3.64s/it]"
          ]
        },
        {
          "name": "stdout",
          "output_type": "stream",
          "text": [
            "Trained zone 1094, Train Loss: 0.0999, Val Loss: 0.0752\n"
          ]
        },
        {
          "name": "stderr",
          "output_type": "stream",
          "text": [
            "Training per zone:  13%|█▎        | 37/275 [02:11<14:50,  3.74s/it]"
          ]
        },
        {
          "name": "stdout",
          "output_type": "stream",
          "text": [
            "Trained zone 1095, Train Loss: 0.0988, Val Loss: 0.0709\n"
          ]
        },
        {
          "name": "stderr",
          "output_type": "stream",
          "text": [
            "Training per zone:  14%|█▍        | 38/275 [02:15<14:37,  3.70s/it]"
          ]
        },
        {
          "name": "stdout",
          "output_type": "stream",
          "text": [
            "Trained zone 1096, Train Loss: 0.0963, Val Loss: 0.0621\n"
          ]
        },
        {
          "name": "stderr",
          "output_type": "stream",
          "text": [
            "Training per zone:  14%|█▍        | 39/275 [02:19<15:09,  3.85s/it]"
          ]
        },
        {
          "name": "stdout",
          "output_type": "stream",
          "text": [
            "Trained zone 1098, Train Loss: 0.1795, Val Loss: 0.1443\n"
          ]
        },
        {
          "name": "stderr",
          "output_type": "stream",
          "text": [
            "Training per zone:  15%|█▍        | 40/275 [02:22<14:48,  3.78s/it]"
          ]
        },
        {
          "name": "stdout",
          "output_type": "stream",
          "text": [
            "Trained zone 1099, Train Loss: 0.1520, Val Loss: 0.0714\n"
          ]
        },
        {
          "name": "stderr",
          "output_type": "stream",
          "text": [
            "Training per zone:  15%|█▍        | 41/275 [02:26<14:25,  3.70s/it]"
          ]
        },
        {
          "name": "stdout",
          "output_type": "stream",
          "text": [
            "Trained zone 110, Train Loss: 0.1121, Val Loss: 0.0693\n"
          ]
        },
        {
          "name": "stderr",
          "output_type": "stream",
          "text": [
            "Training per zone:  15%|█▌        | 42/275 [02:30<14:20,  3.69s/it]"
          ]
        },
        {
          "name": "stdout",
          "output_type": "stream",
          "text": [
            "Trained zone 1100, Train Loss: 0.0780, Val Loss: 0.0414\n"
          ]
        },
        {
          "name": "stderr",
          "output_type": "stream",
          "text": [
            "Training per zone:  16%|█▌        | 43/275 [02:34<14:38,  3.79s/it]"
          ]
        },
        {
          "name": "stdout",
          "output_type": "stream",
          "text": [
            "Trained zone 1102, Train Loss: 0.0558, Val Loss: 0.0292\n"
          ]
        },
        {
          "name": "stderr",
          "output_type": "stream",
          "text": [
            "Training per zone:  16%|█▌        | 44/275 [02:37<14:26,  3.75s/it]"
          ]
        },
        {
          "name": "stdout",
          "output_type": "stream",
          "text": [
            "Trained zone 1104, Train Loss: 0.1411, Val Loss: 0.0790\n"
          ]
        },
        {
          "name": "stderr",
          "output_type": "stream",
          "text": [
            "Training per zone:  16%|█▋        | 45/275 [02:41<14:14,  3.71s/it]"
          ]
        },
        {
          "name": "stdout",
          "output_type": "stream",
          "text": [
            "Trained zone 1106, Train Loss: 0.1365, Val Loss: 0.0799\n"
          ]
        },
        {
          "name": "stderr",
          "output_type": "stream",
          "text": [
            "Training per zone:  17%|█▋        | 46/275 [02:45<14:10,  3.71s/it]"
          ]
        },
        {
          "name": "stdout",
          "output_type": "stream",
          "text": [
            "Trained zone 1107, Train Loss: 0.1624, Val Loss: 0.0706\n"
          ]
        },
        {
          "name": "stderr",
          "output_type": "stream",
          "text": [
            "Training per zone:  17%|█▋        | 47/275 [02:48<13:53,  3.66s/it]"
          ]
        },
        {
          "name": "stdout",
          "output_type": "stream",
          "text": [
            "Trained zone 1109, Train Loss: 0.1290, Val Loss: 0.0770\n"
          ]
        },
        {
          "name": "stderr",
          "output_type": "stream",
          "text": [
            "Training per zone:  17%|█▋        | 48/275 [02:52<14:10,  3.75s/it]"
          ]
        },
        {
          "name": "stdout",
          "output_type": "stream",
          "text": [
            "Trained zone 111, Train Loss: 0.0635, Val Loss: 0.0428\n"
          ]
        },
        {
          "name": "stderr",
          "output_type": "stream",
          "text": [
            "Training per zone:  18%|█▊        | 49/275 [02:56<13:56,  3.70s/it]"
          ]
        },
        {
          "name": "stdout",
          "output_type": "stream",
          "text": [
            "Trained zone 1110, Train Loss: 0.1436, Val Loss: 0.0733\n"
          ]
        },
        {
          "name": "stderr",
          "output_type": "stream",
          "text": [
            "Training per zone:  18%|█▊        | 50/275 [02:59<13:50,  3.69s/it]"
          ]
        },
        {
          "name": "stdout",
          "output_type": "stream",
          "text": [
            "Trained zone 1111, Train Loss: 0.1026, Val Loss: 0.0447\n"
          ]
        },
        {
          "name": "stderr",
          "output_type": "stream",
          "text": [
            "Training per zone:  19%|█▊        | 51/275 [03:03<13:38,  3.65s/it]"
          ]
        },
        {
          "name": "stdout",
          "output_type": "stream",
          "text": [
            "Trained zone 1112, Train Loss: 0.1691, Val Loss: 0.0872\n"
          ]
        },
        {
          "name": "stderr",
          "output_type": "stream",
          "text": [
            "Training per zone:  19%|█▉        | 52/275 [03:07<13:31,  3.64s/it]"
          ]
        },
        {
          "name": "stdout",
          "output_type": "stream",
          "text": [
            "Trained zone 1113, Train Loss: 0.1438, Val Loss: 0.1022\n"
          ]
        },
        {
          "name": "stderr",
          "output_type": "stream",
          "text": [
            "Training per zone:  19%|█▉        | 53/275 [03:10<13:18,  3.60s/it]"
          ]
        },
        {
          "name": "stdout",
          "output_type": "stream",
          "text": [
            "Trained zone 1114, Train Loss: 0.1569, Val Loss: 0.0757\n"
          ]
        },
        {
          "name": "stderr",
          "output_type": "stream",
          "text": [
            "Training per zone:  20%|█▉        | 54/275 [03:13<13:06,  3.56s/it]"
          ]
        },
        {
          "name": "stdout",
          "output_type": "stream",
          "text": [
            "Trained zone 1115, Train Loss: 0.0781, Val Loss: 0.0436\n"
          ]
        },
        {
          "name": "stderr",
          "output_type": "stream",
          "text": [
            "Training per zone:  20%|██        | 55/275 [03:17<12:50,  3.50s/it]"
          ]
        },
        {
          "name": "stdout",
          "output_type": "stream",
          "text": [
            "Trained zone 1119, Train Loss: 0.0663, Val Loss: 0.0433\n"
          ]
        },
        {
          "name": "stderr",
          "output_type": "stream",
          "text": [
            "Training per zone:  20%|██        | 56/275 [03:20<12:42,  3.48s/it]"
          ]
        },
        {
          "name": "stdout",
          "output_type": "stream",
          "text": [
            "Trained zone 1120, Train Loss: 0.0641, Val Loss: 0.0290\n"
          ]
        },
        {
          "name": "stderr",
          "output_type": "stream",
          "text": [
            "Training per zone:  21%|██        | 57/275 [03:24<12:37,  3.48s/it]"
          ]
        },
        {
          "name": "stdout",
          "output_type": "stream",
          "text": [
            "Trained zone 1121, Train Loss: 0.0577, Val Loss: 0.0602\n"
          ]
        },
        {
          "name": "stderr",
          "output_type": "stream",
          "text": [
            "Training per zone:  21%|██        | 58/275 [03:27<12:46,  3.53s/it]"
          ]
        },
        {
          "name": "stdout",
          "output_type": "stream",
          "text": [
            "Trained zone 1124, Train Loss: 0.3658, Val Loss: 0.2911\n"
          ]
        },
        {
          "name": "stderr",
          "output_type": "stream",
          "text": [
            "Training per zone:  21%|██▏       | 59/275 [03:31<12:39,  3.52s/it]"
          ]
        },
        {
          "name": "stdout",
          "output_type": "stream",
          "text": [
            "Trained zone 1125, Train Loss: 0.1671, Val Loss: 0.0642\n"
          ]
        },
        {
          "name": "stderr",
          "output_type": "stream",
          "text": [
            "Training per zone:  22%|██▏       | 60/275 [03:34<12:30,  3.49s/it]"
          ]
        },
        {
          "name": "stdout",
          "output_type": "stream",
          "text": [
            "Trained zone 1126, Train Loss: 0.0892, Val Loss: 0.0611\n"
          ]
        },
        {
          "name": "stderr",
          "output_type": "stream",
          "text": [
            "Training per zone:  22%|██▏       | 61/275 [03:38<12:27,  3.49s/it]"
          ]
        },
        {
          "name": "stdout",
          "output_type": "stream",
          "text": [
            "Trained zone 1130, Train Loss: 0.1347, Val Loss: 0.0467\n"
          ]
        },
        {
          "name": "stderr",
          "output_type": "stream",
          "text": [
            "Training per zone:  23%|██▎       | 62/275 [03:41<12:19,  3.47s/it]"
          ]
        },
        {
          "name": "stdout",
          "output_type": "stream",
          "text": [
            "Trained zone 1134, Train Loss: 0.0987, Val Loss: 0.0582\n"
          ]
        },
        {
          "name": "stderr",
          "output_type": "stream",
          "text": [
            "Training per zone:  23%|██▎       | 63/275 [03:45<12:16,  3.48s/it]"
          ]
        },
        {
          "name": "stdout",
          "output_type": "stream",
          "text": [
            "Trained zone 1135, Train Loss: 0.1666, Val Loss: 0.0911\n"
          ]
        },
        {
          "name": "stderr",
          "output_type": "stream",
          "text": [
            "Training per zone:  23%|██▎       | 64/275 [03:48<12:18,  3.50s/it]"
          ]
        },
        {
          "name": "stdout",
          "output_type": "stream",
          "text": [
            "Trained zone 1137, Train Loss: 0.0454, Val Loss: 0.0415\n"
          ]
        },
        {
          "name": "stderr",
          "output_type": "stream",
          "text": [
            "Training per zone:  24%|██▎       | 65/275 [03:52<12:10,  3.48s/it]"
          ]
        },
        {
          "name": "stdout",
          "output_type": "stream",
          "text": [
            "Trained zone 1138, Train Loss: 0.1627, Val Loss: 0.0652\n"
          ]
        },
        {
          "name": "stderr",
          "output_type": "stream",
          "text": [
            "Training per zone:  24%|██▍       | 66/275 [03:55<12:15,  3.52s/it]"
          ]
        },
        {
          "name": "stdout",
          "output_type": "stream",
          "text": [
            "Trained zone 1143, Train Loss: 0.1645, Val Loss: 0.0834\n"
          ]
        },
        {
          "name": "stderr",
          "output_type": "stream",
          "text": [
            "Training per zone:  24%|██▍       | 67/275 [03:59<12:29,  3.60s/it]"
          ]
        },
        {
          "name": "stdout",
          "output_type": "stream",
          "text": [
            "Trained zone 1144, Train Loss: 0.1574, Val Loss: 0.0914\n"
          ]
        },
        {
          "name": "stderr",
          "output_type": "stream",
          "text": [
            "Training per zone:  25%|██▍       | 68/275 [04:03<12:32,  3.64s/it]"
          ]
        },
        {
          "name": "stdout",
          "output_type": "stream",
          "text": [
            "Trained zone 1149, Train Loss: 0.1133, Val Loss: 0.0717\n"
          ]
        },
        {
          "name": "stderr",
          "output_type": "stream",
          "text": [
            "Training per zone:  25%|██▌       | 69/275 [04:06<12:14,  3.56s/it]"
          ]
        },
        {
          "name": "stdout",
          "output_type": "stream",
          "text": [
            "Trained zone 115, Train Loss: 0.1788, Val Loss: 0.0691\n"
          ]
        },
        {
          "name": "stderr",
          "output_type": "stream",
          "text": [
            "Training per zone:  25%|██▌       | 70/275 [04:10<12:12,  3.57s/it]"
          ]
        },
        {
          "name": "stdout",
          "output_type": "stream",
          "text": [
            "Trained zone 1154, Train Loss: 0.1539, Val Loss: 0.0783\n"
          ]
        },
        {
          "name": "stderr",
          "output_type": "stream",
          "text": [
            "Training per zone:  26%|██▌       | 71/275 [04:13<11:55,  3.51s/it]"
          ]
        },
        {
          "name": "stdout",
          "output_type": "stream",
          "text": [
            "Trained zone 1156, Train Loss: 0.1002, Val Loss: 0.0571\n"
          ]
        },
        {
          "name": "stderr",
          "output_type": "stream",
          "text": [
            "Training per zone:  26%|██▌       | 72/275 [04:17<12:07,  3.58s/it]"
          ]
        },
        {
          "name": "stdout",
          "output_type": "stream",
          "text": [
            "Trained zone 1159, Train Loss: 0.0638, Val Loss: 0.0422\n"
          ]
        },
        {
          "name": "stderr",
          "output_type": "stream",
          "text": [
            "Training per zone:  27%|██▋       | 73/275 [04:20<11:47,  3.50s/it]"
          ]
        },
        {
          "name": "stdout",
          "output_type": "stream",
          "text": [
            "Trained zone 1162, Train Loss: 0.1240, Val Loss: 0.0816\n"
          ]
        },
        {
          "name": "stderr",
          "output_type": "stream",
          "text": [
            "Training per zone:  27%|██▋       | 74/275 [04:24<11:39,  3.48s/it]"
          ]
        },
        {
          "name": "stdout",
          "output_type": "stream",
          "text": [
            "Trained zone 1163, Train Loss: 0.1685, Val Loss: 0.0880\n"
          ]
        },
        {
          "name": "stderr",
          "output_type": "stream",
          "text": [
            "Training per zone:  27%|██▋       | 75/275 [04:27<11:36,  3.48s/it]"
          ]
        },
        {
          "name": "stdout",
          "output_type": "stream",
          "text": [
            "Trained zone 1164, Train Loss: 0.0748, Val Loss: 0.0543\n"
          ]
        },
        {
          "name": "stderr",
          "output_type": "stream",
          "text": [
            "Training per zone:  28%|██▊       | 76/275 [04:31<11:36,  3.50s/it]"
          ]
        },
        {
          "name": "stdout",
          "output_type": "stream",
          "text": [
            "Trained zone 1166, Train Loss: 0.0704, Val Loss: 0.0670\n"
          ]
        },
        {
          "name": "stderr",
          "output_type": "stream",
          "text": [
            "Training per zone:  28%|██▊       | 77/275 [04:35<11:53,  3.60s/it]"
          ]
        },
        {
          "name": "stdout",
          "output_type": "stream",
          "text": [
            "Trained zone 1167, Train Loss: 0.1159, Val Loss: 0.0828\n"
          ]
        },
        {
          "name": "stderr",
          "output_type": "stream",
          "text": [
            "Training per zone:  28%|██▊       | 78/275 [04:38<11:33,  3.52s/it]"
          ]
        },
        {
          "name": "stdout",
          "output_type": "stream",
          "text": [
            "Trained zone 1168, Train Loss: 0.1121, Val Loss: 0.0641\n"
          ]
        },
        {
          "name": "stderr",
          "output_type": "stream",
          "text": [
            "Training per zone:  29%|██▊       | 79/275 [04:41<11:23,  3.49s/it]"
          ]
        },
        {
          "name": "stdout",
          "output_type": "stream",
          "text": [
            "Trained zone 1172, Train Loss: 0.1908, Val Loss: 0.0927\n"
          ]
        },
        {
          "name": "stderr",
          "output_type": "stream",
          "text": [
            "Training per zone:  29%|██▉       | 80/275 [04:45<11:19,  3.48s/it]"
          ]
        },
        {
          "name": "stdout",
          "output_type": "stream",
          "text": [
            "Trained zone 1173, Train Loss: 0.0930, Val Loss: 0.0620\n"
          ]
        },
        {
          "name": "stderr",
          "output_type": "stream",
          "text": [
            "Training per zone:  29%|██▉       | 81/275 [04:48<11:12,  3.47s/it]"
          ]
        },
        {
          "name": "stdout",
          "output_type": "stream",
          "text": [
            "Trained zone 123, Train Loss: 0.1379, Val Loss: 0.0873\n"
          ]
        },
        {
          "name": "stderr",
          "output_type": "stream",
          "text": [
            "Training per zone:  30%|██▉       | 82/275 [04:51<10:59,  3.42s/it]"
          ]
        },
        {
          "name": "stdout",
          "output_type": "stream",
          "text": [
            "Trained zone 124, Train Loss: 0.1180, Val Loss: 0.0691\n"
          ]
        },
        {
          "name": "stderr",
          "output_type": "stream",
          "text": [
            "Training per zone:  30%|███       | 83/275 [04:55<10:56,  3.42s/it]"
          ]
        },
        {
          "name": "stdout",
          "output_type": "stream",
          "text": [
            "Trained zone 202, Train Loss: 0.1023, Val Loss: 0.0459\n"
          ]
        },
        {
          "name": "stderr",
          "output_type": "stream",
          "text": [
            "Training per zone:  31%|███       | 84/275 [04:58<10:54,  3.43s/it]"
          ]
        },
        {
          "name": "stdout",
          "output_type": "stream",
          "text": [
            "Trained zone 204, Train Loss: 0.0719, Val Loss: 0.0373\n"
          ]
        },
        {
          "name": "stderr",
          "output_type": "stream",
          "text": [
            "Training per zone:  31%|███       | 85/275 [05:02<10:49,  3.42s/it]"
          ]
        },
        {
          "name": "stdout",
          "output_type": "stream",
          "text": [
            "Trained zone 205, Train Loss: 0.1262, Val Loss: 0.0656\n"
          ]
        },
        {
          "name": "stderr",
          "output_type": "stream",
          "text": [
            "Training per zone:  31%|███▏      | 86/275 [05:05<11:03,  3.51s/it]"
          ]
        },
        {
          "name": "stdout",
          "output_type": "stream",
          "text": [
            "Trained zone 206, Train Loss: 0.1407, Val Loss: 0.1034\n"
          ]
        },
        {
          "name": "stderr",
          "output_type": "stream",
          "text": [
            "Training per zone:  32%|███▏      | 87/275 [05:09<10:51,  3.47s/it]"
          ]
        },
        {
          "name": "stdout",
          "output_type": "stream",
          "text": [
            "Trained zone 208, Train Loss: 0.1324, Val Loss: 0.0869\n"
          ]
        },
        {
          "name": "stderr",
          "output_type": "stream",
          "text": [
            "Training per zone:  32%|███▏      | 88/275 [05:12<10:36,  3.40s/it]"
          ]
        },
        {
          "name": "stdout",
          "output_type": "stream",
          "text": [
            "Trained zone 212, Train Loss: 0.1499, Val Loss: 0.0763\n"
          ]
        },
        {
          "name": "stderr",
          "output_type": "stream",
          "text": [
            "Training per zone:  32%|███▏      | 89/275 [05:15<10:25,  3.36s/it]"
          ]
        },
        {
          "name": "stdout",
          "output_type": "stream",
          "text": [
            "Trained zone 213, Train Loss: 0.0525, Val Loss: 0.0253\n"
          ]
        },
        {
          "name": "stderr",
          "output_type": "stream",
          "text": [
            "Training per zone:  33%|███▎      | 90/275 [05:19<10:19,  3.35s/it]"
          ]
        },
        {
          "name": "stdout",
          "output_type": "stream",
          "text": [
            "Trained zone 214, Train Loss: 0.1432, Val Loss: 0.0605\n"
          ]
        },
        {
          "name": "stderr",
          "output_type": "stream",
          "text": [
            "Training per zone:  33%|███▎      | 91/275 [05:22<10:17,  3.36s/it]"
          ]
        },
        {
          "name": "stdout",
          "output_type": "stream",
          "text": [
            "Trained zone 215, Train Loss: 0.1923, Val Loss: 0.1128\n"
          ]
        },
        {
          "name": "stderr",
          "output_type": "stream",
          "text": [
            "Training per zone:  33%|███▎      | 92/275 [05:25<10:13,  3.35s/it]"
          ]
        },
        {
          "name": "stdout",
          "output_type": "stream",
          "text": [
            "Trained zone 216, Train Loss: 0.1072, Val Loss: 0.0582\n"
          ]
        },
        {
          "name": "stderr",
          "output_type": "stream",
          "text": [
            "Training per zone:  34%|███▍      | 93/275 [05:29<10:09,  3.35s/it]"
          ]
        },
        {
          "name": "stdout",
          "output_type": "stream",
          "text": [
            "Trained zone 217, Train Loss: 0.1194, Val Loss: 0.0890\n"
          ]
        },
        {
          "name": "stderr",
          "output_type": "stream",
          "text": [
            "Training per zone:  34%|███▍      | 94/275 [05:32<10:18,  3.42s/it]"
          ]
        },
        {
          "name": "stdout",
          "output_type": "stream",
          "text": [
            "Trained zone 223, Train Loss: 0.0594, Val Loss: 0.0564\n"
          ]
        },
        {
          "name": "stderr",
          "output_type": "stream",
          "text": [
            "Training per zone:  35%|███▍      | 95/275 [05:36<10:20,  3.45s/it]"
          ]
        },
        {
          "name": "stdout",
          "output_type": "stream",
          "text": [
            "Trained zone 224, Train Loss: 0.0890, Val Loss: 0.0625\n"
          ]
        },
        {
          "name": "stderr",
          "output_type": "stream",
          "text": [
            "Training per zone:  35%|███▍      | 96/275 [05:39<10:25,  3.49s/it]"
          ]
        },
        {
          "name": "stdout",
          "output_type": "stream",
          "text": [
            "Trained zone 225, Train Loss: 0.1559, Val Loss: 0.0797\n"
          ]
        },
        {
          "name": "stderr",
          "output_type": "stream",
          "text": [
            "Training per zone:  35%|███▌      | 97/275 [05:43<10:47,  3.64s/it]"
          ]
        },
        {
          "name": "stdout",
          "output_type": "stream",
          "text": [
            "Trained zone 226, Train Loss: 0.1711, Val Loss: 0.1137\n"
          ]
        },
        {
          "name": "stderr",
          "output_type": "stream",
          "text": [
            "Training per zone:  36%|███▌      | 98/275 [05:47<10:41,  3.62s/it]"
          ]
        },
        {
          "name": "stdout",
          "output_type": "stream",
          "text": [
            "Trained zone 227, Train Loss: 0.0748, Val Loss: 0.0304\n"
          ]
        },
        {
          "name": "stderr",
          "output_type": "stream",
          "text": [
            "Training per zone:  36%|███▌      | 99/275 [05:50<10:30,  3.58s/it]"
          ]
        },
        {
          "name": "stdout",
          "output_type": "stream",
          "text": [
            "Trained zone 235, Train Loss: 0.0855, Val Loss: 0.0514\n"
          ]
        },
        {
          "name": "stderr",
          "output_type": "stream",
          "text": [
            "Training per zone:  36%|███▋      | 100/275 [05:54<10:25,  3.58s/it]"
          ]
        },
        {
          "name": "stdout",
          "output_type": "stream",
          "text": [
            "Trained zone 307, Train Loss: 0.0533, Val Loss: 0.0282\n"
          ]
        },
        {
          "name": "stderr",
          "output_type": "stream",
          "text": [
            "Training per zone:  37%|███▋      | 101/275 [05:58<10:42,  3.69s/it]"
          ]
        },
        {
          "name": "stdout",
          "output_type": "stream",
          "text": [
            "Trained zone 309, Train Loss: 0.0964, Val Loss: 0.0508\n"
          ]
        },
        {
          "name": "stderr",
          "output_type": "stream",
          "text": [
            "Training per zone:  37%|███▋      | 102/275 [06:01<10:28,  3.63s/it]"
          ]
        },
        {
          "name": "stdout",
          "output_type": "stream",
          "text": [
            "Trained zone 310, Train Loss: 0.1606, Val Loss: 0.0691\n"
          ]
        },
        {
          "name": "stderr",
          "output_type": "stream",
          "text": [
            "Training per zone:  37%|███▋      | 103/275 [06:05<10:11,  3.56s/it]"
          ]
        },
        {
          "name": "stdout",
          "output_type": "stream",
          "text": [
            "Trained zone 311, Train Loss: 0.0633, Val Loss: 0.0447\n"
          ]
        },
        {
          "name": "stderr",
          "output_type": "stream",
          "text": [
            "Training per zone:  38%|███▊      | 104/275 [06:08<10:05,  3.54s/it]"
          ]
        },
        {
          "name": "stdout",
          "output_type": "stream",
          "text": [
            "Trained zone 316, Train Loss: 0.1401, Val Loss: 0.0648\n"
          ]
        },
        {
          "name": "stderr",
          "output_type": "stream",
          "text": [
            "Training per zone:  38%|███▊      | 105/275 [06:12<09:57,  3.51s/it]"
          ]
        },
        {
          "name": "stdout",
          "output_type": "stream",
          "text": [
            "Trained zone 320, Train Loss: 0.1611, Val Loss: 0.0885\n"
          ]
        },
        {
          "name": "stderr",
          "output_type": "stream",
          "text": [
            "Training per zone:  39%|███▊      | 106/275 [06:15<09:50,  3.50s/it]"
          ]
        },
        {
          "name": "stdout",
          "output_type": "stream",
          "text": [
            "Trained zone 321, Train Loss: 0.1982, Val Loss: 0.1037\n"
          ]
        },
        {
          "name": "stderr",
          "output_type": "stream",
          "text": [
            "Training per zone:  39%|███▉      | 107/275 [06:19<09:40,  3.46s/it]"
          ]
        },
        {
          "name": "stdout",
          "output_type": "stream",
          "text": [
            "Trained zone 322, Train Loss: 0.1703, Val Loss: 0.1143\n"
          ]
        },
        {
          "name": "stderr",
          "output_type": "stream",
          "text": [
            "Training per zone:  39%|███▉      | 108/275 [06:22<09:33,  3.44s/it]"
          ]
        },
        {
          "name": "stdout",
          "output_type": "stream",
          "text": [
            "Trained zone 323, Train Loss: 0.2711, Val Loss: 0.1843\n"
          ]
        },
        {
          "name": "stderr",
          "output_type": "stream",
          "text": [
            "Training per zone:  40%|███▉      | 109/275 [06:26<09:31,  3.44s/it]"
          ]
        },
        {
          "name": "stdout",
          "output_type": "stream",
          "text": [
            "Trained zone 324, Train Loss: 0.1270, Val Loss: 0.0838\n"
          ]
        },
        {
          "name": "stderr",
          "output_type": "stream",
          "text": [
            "Training per zone:  40%|████      | 110/275 [06:29<09:43,  3.53s/it]"
          ]
        },
        {
          "name": "stdout",
          "output_type": "stream",
          "text": [
            "Trained zone 325, Train Loss: 0.1288, Val Loss: 0.0785\n"
          ]
        },
        {
          "name": "stderr",
          "output_type": "stream",
          "text": [
            "Training per zone:  40%|████      | 111/275 [06:33<09:35,  3.51s/it]"
          ]
        },
        {
          "name": "stdout",
          "output_type": "stream",
          "text": [
            "Trained zone 326, Train Loss: 0.1491, Val Loss: 0.1019\n"
          ]
        },
        {
          "name": "stderr",
          "output_type": "stream",
          "text": [
            "Training per zone:  41%|████      | 112/275 [06:36<09:39,  3.56s/it]"
          ]
        },
        {
          "name": "stdout",
          "output_type": "stream",
          "text": [
            "Trained zone 328, Train Loss: 0.0971, Val Loss: 0.0569\n"
          ]
        },
        {
          "name": "stderr",
          "output_type": "stream",
          "text": [
            "Training per zone:  41%|████      | 113/275 [06:40<09:25,  3.49s/it]"
          ]
        },
        {
          "name": "stdout",
          "output_type": "stream",
          "text": [
            "Trained zone 329, Train Loss: 0.0826, Val Loss: 0.0673\n"
          ]
        },
        {
          "name": "stderr",
          "output_type": "stream",
          "text": [
            "Training per zone:  41%|████▏     | 114/275 [06:43<09:14,  3.44s/it]"
          ]
        },
        {
          "name": "stdout",
          "output_type": "stream",
          "text": [
            "Trained zone 330, Train Loss: 0.0817, Val Loss: 0.0470\n"
          ]
        },
        {
          "name": "stderr",
          "output_type": "stream",
          "text": [
            "Training per zone:  42%|████▏     | 115/275 [06:46<09:07,  3.42s/it]"
          ]
        },
        {
          "name": "stdout",
          "output_type": "stream",
          "text": [
            "Trained zone 331, Train Loss: 0.1135, Val Loss: 0.0495\n"
          ]
        },
        {
          "name": "stderr",
          "output_type": "stream",
          "text": [
            "Training per zone:  42%|████▏     | 116/275 [06:50<09:03,  3.42s/it]"
          ]
        },
        {
          "name": "stdout",
          "output_type": "stream",
          "text": [
            "Trained zone 332, Train Loss: 0.0721, Val Loss: 0.0398\n"
          ]
        },
        {
          "name": "stderr",
          "output_type": "stream",
          "text": [
            "Training per zone:  43%|████▎     | 117/275 [06:53<09:02,  3.44s/it]"
          ]
        },
        {
          "name": "stdout",
          "output_type": "stream",
          "text": [
            "Trained zone 333, Train Loss: 0.1126, Val Loss: 0.0671\n"
          ]
        },
        {
          "name": "stderr",
          "output_type": "stream",
          "text": [
            "Training per zone:  43%|████▎     | 118/275 [06:57<09:14,  3.53s/it]"
          ]
        },
        {
          "name": "stdout",
          "output_type": "stream",
          "text": [
            "Trained zone 335, Train Loss: 0.0544, Val Loss: 0.0259\n"
          ]
        },
        {
          "name": "stderr",
          "output_type": "stream",
          "text": [
            "Training per zone:  43%|████▎     | 119/275 [07:01<09:21,  3.60s/it]"
          ]
        },
        {
          "name": "stdout",
          "output_type": "stream",
          "text": [
            "Trained zone 340, Train Loss: 0.1201, Val Loss: 0.0473\n"
          ]
        },
        {
          "name": "stderr",
          "output_type": "stream",
          "text": [
            "Training per zone:  44%|████▎     | 120/275 [07:04<09:07,  3.53s/it]"
          ]
        },
        {
          "name": "stdout",
          "output_type": "stream",
          "text": [
            "Trained zone 343, Train Loss: 0.2609, Val Loss: 0.1249\n"
          ]
        },
        {
          "name": "stderr",
          "output_type": "stream",
          "text": [
            "Training per zone:  44%|████▍     | 121/275 [07:08<09:11,  3.58s/it]"
          ]
        },
        {
          "name": "stdout",
          "output_type": "stream",
          "text": [
            "Trained zone 346, Train Loss: 0.1582, Val Loss: 0.0990\n"
          ]
        },
        {
          "name": "stderr",
          "output_type": "stream",
          "text": [
            "Training per zone:  44%|████▍     | 122/275 [07:11<09:02,  3.54s/it]"
          ]
        },
        {
          "name": "stdout",
          "output_type": "stream",
          "text": [
            "Trained zone 347, Train Loss: 0.1669, Val Loss: 0.0895\n"
          ]
        },
        {
          "name": "stderr",
          "output_type": "stream",
          "text": [
            "Training per zone:  45%|████▍     | 123/275 [07:15<08:50,  3.49s/it]"
          ]
        },
        {
          "name": "stdout",
          "output_type": "stream",
          "text": [
            "Trained zone 348, Train Loss: 0.1650, Val Loss: 0.0723\n"
          ]
        },
        {
          "name": "stderr",
          "output_type": "stream",
          "text": [
            "Training per zone:  45%|████▌     | 124/275 [07:18<08:48,  3.50s/it]"
          ]
        },
        {
          "name": "stdout",
          "output_type": "stream",
          "text": [
            "Trained zone 406, Train Loss: 0.1419, Val Loss: 0.0742\n"
          ]
        },
        {
          "name": "stderr",
          "output_type": "stream",
          "text": [
            "Training per zone:  45%|████▌     | 125/275 [07:22<08:40,  3.47s/it]"
          ]
        },
        {
          "name": "stdout",
          "output_type": "stream",
          "text": [
            "Trained zone 408, Train Loss: 0.1264, Val Loss: 0.0710\n"
          ]
        },
        {
          "name": "stderr",
          "output_type": "stream",
          "text": [
            "Training per zone:  46%|████▌     | 126/275 [07:25<08:32,  3.44s/it]"
          ]
        },
        {
          "name": "stdout",
          "output_type": "stream",
          "text": [
            "Trained zone 501, Train Loss: 0.1133, Val Loss: 0.0561\n"
          ]
        },
        {
          "name": "stderr",
          "output_type": "stream",
          "text": [
            "Training per zone:  46%|████▌     | 127/275 [07:29<08:39,  3.51s/it]"
          ]
        },
        {
          "name": "stdout",
          "output_type": "stream",
          "text": [
            "Trained zone 502, Train Loss: 0.0885, Val Loss: 0.0651\n"
          ]
        },
        {
          "name": "stderr",
          "output_type": "stream",
          "text": [
            "Training per zone:  47%|████▋     | 128/275 [07:32<08:44,  3.57s/it]"
          ]
        },
        {
          "name": "stdout",
          "output_type": "stream",
          "text": [
            "Trained zone 506, Train Loss: 0.0646, Val Loss: 0.0416\n"
          ]
        },
        {
          "name": "stderr",
          "output_type": "stream",
          "text": [
            "Training per zone:  47%|████▋     | 129/275 [07:36<08:58,  3.69s/it]"
          ]
        },
        {
          "name": "stdout",
          "output_type": "stream",
          "text": [
            "Trained zone 508, Train Loss: 0.0784, Val Loss: 0.0488\n"
          ]
        },
        {
          "name": "stderr",
          "output_type": "stream",
          "text": [
            "Training per zone:  47%|████▋     | 130/275 [07:40<08:48,  3.65s/it]"
          ]
        },
        {
          "name": "stdout",
          "output_type": "stream",
          "text": [
            "Trained zone 511, Train Loss: 0.1441, Val Loss: 0.0661\n"
          ]
        },
        {
          "name": "stderr",
          "output_type": "stream",
          "text": [
            "Training per zone:  48%|████▊     | 131/275 [07:44<08:58,  3.74s/it]"
          ]
        },
        {
          "name": "stdout",
          "output_type": "stream",
          "text": [
            "Trained zone 512, Train Loss: 0.0678, Val Loss: 0.0703\n"
          ]
        },
        {
          "name": "stderr",
          "output_type": "stream",
          "text": [
            "Training per zone:  48%|████▊     | 132/275 [07:48<08:52,  3.72s/it]"
          ]
        },
        {
          "name": "stdout",
          "output_type": "stream",
          "text": [
            "Trained zone 513, Train Loss: 0.0717, Val Loss: 0.0403\n"
          ]
        },
        {
          "name": "stderr",
          "output_type": "stream",
          "text": [
            "Training per zone:  48%|████▊     | 133/275 [07:51<08:58,  3.79s/it]"
          ]
        },
        {
          "name": "stdout",
          "output_type": "stream",
          "text": [
            "Trained zone 516, Train Loss: 0.1167, Val Loss: 0.0489\n"
          ]
        },
        {
          "name": "stderr",
          "output_type": "stream",
          "text": [
            "Training per zone:  49%|████▊     | 134/275 [07:56<09:05,  3.87s/it]"
          ]
        },
        {
          "name": "stdout",
          "output_type": "stream",
          "text": [
            "Trained zone 519, Train Loss: 0.1434, Val Loss: 0.0805\n"
          ]
        },
        {
          "name": "stderr",
          "output_type": "stream",
          "text": [
            "Training per zone:  49%|████▉     | 135/275 [07:59<09:03,  3.88s/it]"
          ]
        },
        {
          "name": "stdout",
          "output_type": "stream",
          "text": [
            "Trained zone 520, Train Loss: 0.1472, Val Loss: 0.0857\n"
          ]
        },
        {
          "name": "stderr",
          "output_type": "stream",
          "text": [
            "Training per zone:  49%|████▉     | 136/275 [08:03<09:00,  3.89s/it]"
          ]
        },
        {
          "name": "stdout",
          "output_type": "stream",
          "text": [
            "Trained zone 522, Train Loss: 0.0745, Val Loss: 0.0524\n"
          ]
        },
        {
          "name": "stderr",
          "output_type": "stream",
          "text": [
            "Training per zone:  50%|████▉     | 137/275 [08:07<09:01,  3.92s/it]"
          ]
        },
        {
          "name": "stdout",
          "output_type": "stream",
          "text": [
            "Trained zone 525, Train Loss: 0.0678, Val Loss: 0.0438\n"
          ]
        },
        {
          "name": "stderr",
          "output_type": "stream",
          "text": [
            "Training per zone:  50%|█████     | 138/275 [08:11<08:57,  3.92s/it]"
          ]
        },
        {
          "name": "stdout",
          "output_type": "stream",
          "text": [
            "Trained zone 526, Train Loss: 0.0571, Val Loss: 0.0447\n"
          ]
        },
        {
          "name": "stderr",
          "output_type": "stream",
          "text": [
            "Training per zone:  51%|█████     | 139/275 [08:15<08:55,  3.94s/it]"
          ]
        },
        {
          "name": "stdout",
          "output_type": "stream",
          "text": [
            "Trained zone 527, Train Loss: 0.0650, Val Loss: 0.0584\n"
          ]
        },
        {
          "name": "stderr",
          "output_type": "stream",
          "text": [
            "Training per zone:  51%|█████     | 140/275 [08:19<08:47,  3.91s/it]"
          ]
        },
        {
          "name": "stdout",
          "output_type": "stream",
          "text": [
            "Trained zone 528, Train Loss: 0.1145, Val Loss: 0.0709\n"
          ]
        },
        {
          "name": "stderr",
          "output_type": "stream",
          "text": [
            "Training per zone:  51%|█████▏    | 141/275 [08:23<08:29,  3.80s/it]"
          ]
        },
        {
          "name": "stdout",
          "output_type": "stream",
          "text": [
            "Trained zone 529, Train Loss: 0.1411, Val Loss: 0.0595\n"
          ]
        },
        {
          "name": "stderr",
          "output_type": "stream",
          "text": [
            "Training per zone:  52%|█████▏    | 142/275 [08:26<08:12,  3.71s/it]"
          ]
        },
        {
          "name": "stdout",
          "output_type": "stream",
          "text": [
            "Trained zone 552, Train Loss: 0.0786, Val Loss: 0.0498\n"
          ]
        },
        {
          "name": "stderr",
          "output_type": "stream",
          "text": [
            "Training per zone:  52%|█████▏    | 143/275 [08:30<08:04,  3.67s/it]"
          ]
        },
        {
          "name": "stdout",
          "output_type": "stream",
          "text": [
            "Trained zone 553, Train Loss: 0.1222, Val Loss: 0.0667\n"
          ]
        },
        {
          "name": "stderr",
          "output_type": "stream",
          "text": [
            "Training per zone:  52%|█████▏    | 144/275 [08:33<07:51,  3.60s/it]"
          ]
        },
        {
          "name": "stdout",
          "output_type": "stream",
          "text": [
            "Trained zone 558, Train Loss: 0.1681, Val Loss: 0.0740\n"
          ]
        },
        {
          "name": "stderr",
          "output_type": "stream",
          "text": [
            "Training per zone:  53%|█████▎    | 145/275 [08:37<07:42,  3.55s/it]"
          ]
        },
        {
          "name": "stdout",
          "output_type": "stream",
          "text": [
            "Trained zone 559, Train Loss: 0.1625, Val Loss: 0.0637\n"
          ]
        },
        {
          "name": "stderr",
          "output_type": "stream",
          "text": [
            "Training per zone:  53%|█████▎    | 146/275 [08:40<07:33,  3.52s/it]"
          ]
        },
        {
          "name": "stdout",
          "output_type": "stream",
          "text": [
            "Trained zone 568, Train Loss: 0.1877, Val Loss: 0.0875\n"
          ]
        },
        {
          "name": "stderr",
          "output_type": "stream",
          "text": [
            "Training per zone:  53%|█████▎    | 147/275 [08:43<07:27,  3.50s/it]"
          ]
        },
        {
          "name": "stdout",
          "output_type": "stream",
          "text": [
            "Trained zone 570, Train Loss: 0.1387, Val Loss: 0.0908\n"
          ]
        },
        {
          "name": "stderr",
          "output_type": "stream",
          "text": [
            "Training per zone:  54%|█████▍    | 148/275 [08:47<07:35,  3.58s/it]"
          ]
        },
        {
          "name": "stdout",
          "output_type": "stream",
          "text": [
            "Trained zone 575, Train Loss: 0.2756, Val Loss: 0.1550\n"
          ]
        },
        {
          "name": "stderr",
          "output_type": "stream",
          "text": [
            "Training per zone:  54%|█████▍    | 149/275 [08:51<07:39,  3.65s/it]"
          ]
        },
        {
          "name": "stdout",
          "output_type": "stream",
          "text": [
            "Trained zone 576, Train Loss: 0.1467, Val Loss: 0.0898\n"
          ]
        },
        {
          "name": "stderr",
          "output_type": "stream",
          "text": [
            "Training per zone:  55%|█████▍    | 150/275 [08:55<07:32,  3.62s/it]"
          ]
        },
        {
          "name": "stdout",
          "output_type": "stream",
          "text": [
            "Trained zone 577, Train Loss: 0.1800, Val Loss: 0.1015\n"
          ]
        },
        {
          "name": "stderr",
          "output_type": "stream",
          "text": [
            "Training per zone:  55%|█████▍    | 151/275 [08:58<07:21,  3.56s/it]"
          ]
        },
        {
          "name": "stdout",
          "output_type": "stream",
          "text": [
            "Trained zone 578, Train Loss: 0.1879, Val Loss: 0.0794\n"
          ]
        },
        {
          "name": "stderr",
          "output_type": "stream",
          "text": [
            "Training per zone:  55%|█████▌    | 152/275 [09:02<07:19,  3.57s/it]"
          ]
        },
        {
          "name": "stdout",
          "output_type": "stream",
          "text": [
            "Trained zone 580, Train Loss: 0.1665, Val Loss: 0.0747\n"
          ]
        },
        {
          "name": "stderr",
          "output_type": "stream",
          "text": [
            "Training per zone:  56%|█████▌    | 153/275 [09:05<07:23,  3.63s/it]"
          ]
        },
        {
          "name": "stdout",
          "output_type": "stream",
          "text": [
            "Trained zone 582, Train Loss: 0.2504, Val Loss: 0.1507\n"
          ]
        },
        {
          "name": "stderr",
          "output_type": "stream",
          "text": [
            "Training per zone:  56%|█████▌    | 154/275 [09:09<07:13,  3.58s/it]"
          ]
        },
        {
          "name": "stdout",
          "output_type": "stream",
          "text": [
            "Trained zone 584, Train Loss: 0.0960, Val Loss: 0.0711\n"
          ]
        },
        {
          "name": "stderr",
          "output_type": "stream",
          "text": [
            "Training per zone:  56%|█████▋    | 155/275 [09:12<07:01,  3.51s/it]"
          ]
        },
        {
          "name": "stdout",
          "output_type": "stream",
          "text": [
            "Trained zone 585, Train Loss: 0.1568, Val Loss: 0.0771\n"
          ]
        },
        {
          "name": "stderr",
          "output_type": "stream",
          "text": [
            "Training per zone:  57%|█████▋    | 156/275 [09:16<06:53,  3.47s/it]"
          ]
        },
        {
          "name": "stdout",
          "output_type": "stream",
          "text": [
            "Trained zone 587, Train Loss: 0.0833, Val Loss: 0.0481\n"
          ]
        },
        {
          "name": "stderr",
          "output_type": "stream",
          "text": [
            "Training per zone:  57%|█████▋    | 157/275 [09:19<07:00,  3.56s/it]"
          ]
        },
        {
          "name": "stdout",
          "output_type": "stream",
          "text": [
            "Trained zone 588, Train Loss: 0.0768, Val Loss: 0.0482\n"
          ]
        },
        {
          "name": "stderr",
          "output_type": "stream",
          "text": [
            "Training per zone:  57%|█████▋    | 158/275 [09:23<07:01,  3.60s/it]"
          ]
        },
        {
          "name": "stdout",
          "output_type": "stream",
          "text": [
            "Trained zone 589, Train Loss: 0.0912, Val Loss: 0.0421\n"
          ]
        },
        {
          "name": "stderr",
          "output_type": "stream",
          "text": [
            "Training per zone:  58%|█████▊    | 159/275 [09:27<07:03,  3.65s/it]"
          ]
        },
        {
          "name": "stdout",
          "output_type": "stream",
          "text": [
            "Trained zone 592, Train Loss: 0.1184, Val Loss: 0.1189\n"
          ]
        },
        {
          "name": "stderr",
          "output_type": "stream",
          "text": [
            "Training per zone:  58%|█████▊    | 160/275 [09:31<07:03,  3.68s/it]"
          ]
        },
        {
          "name": "stdout",
          "output_type": "stream",
          "text": [
            "Trained zone 594, Train Loss: 0.1570, Val Loss: 0.0876\n"
          ]
        },
        {
          "name": "stderr",
          "output_type": "stream",
          "text": [
            "Training per zone:  59%|█████▊    | 161/275 [09:34<07:02,  3.71s/it]"
          ]
        },
        {
          "name": "stdout",
          "output_type": "stream",
          "text": [
            "Trained zone 595, Train Loss: 0.1388, Val Loss: 0.0730\n"
          ]
        },
        {
          "name": "stderr",
          "output_type": "stream",
          "text": [
            "Training per zone:  59%|█████▉    | 162/275 [09:38<06:59,  3.71s/it]"
          ]
        },
        {
          "name": "stdout",
          "output_type": "stream",
          "text": [
            "Trained zone 596, Train Loss: 0.1692, Val Loss: 0.1245\n"
          ]
        },
        {
          "name": "stderr",
          "output_type": "stream",
          "text": [
            "Training per zone:  59%|█████▉    | 163/275 [09:41<06:45,  3.62s/it]"
          ]
        },
        {
          "name": "stdout",
          "output_type": "stream",
          "text": [
            "Trained zone 598, Train Loss: 0.1226, Val Loss: 0.0724\n"
          ]
        },
        {
          "name": "stderr",
          "output_type": "stream",
          "text": [
            "Training per zone:  60%|█████▉    | 164/275 [09:45<06:28,  3.50s/it]"
          ]
        },
        {
          "name": "stdout",
          "output_type": "stream",
          "text": [
            "Trained zone 601, Train Loss: 0.0950, Val Loss: 0.0574\n"
          ]
        },
        {
          "name": "stderr",
          "output_type": "stream",
          "text": [
            "Training per zone:  60%|██████    | 165/275 [09:48<06:29,  3.54s/it]"
          ]
        },
        {
          "name": "stdout",
          "output_type": "stream",
          "text": [
            "Trained zone 628, Train Loss: 0.3237, Val Loss: 0.1496\n"
          ]
        },
        {
          "name": "stderr",
          "output_type": "stream",
          "text": [
            "Training per zone:  60%|██████    | 166/275 [09:52<06:34,  3.62s/it]"
          ]
        },
        {
          "name": "stdout",
          "output_type": "stream",
          "text": [
            "Trained zone 631, Train Loss: 0.2640, Val Loss: 0.1838\n"
          ]
        },
        {
          "name": "stderr",
          "output_type": "stream",
          "text": [
            "Training per zone:  61%|██████    | 167/275 [09:55<06:20,  3.52s/it]"
          ]
        },
        {
          "name": "stdout",
          "output_type": "stream",
          "text": [
            "Trained zone 632, Train Loss: 0.0851, Val Loss: 0.0492\n"
          ]
        },
        {
          "name": "stderr",
          "output_type": "stream",
          "text": [
            "Training per zone:  61%|██████    | 168/275 [09:59<06:21,  3.57s/it]"
          ]
        },
        {
          "name": "stdout",
          "output_type": "stream",
          "text": [
            "Trained zone 633, Train Loss: 0.1309, Val Loss: 0.0900\n"
          ]
        },
        {
          "name": "stderr",
          "output_type": "stream",
          "text": [
            "Training per zone:  61%|██████▏   | 169/275 [10:03<06:20,  3.59s/it]"
          ]
        },
        {
          "name": "stdout",
          "output_type": "stream",
          "text": [
            "Trained zone 637, Train Loss: 0.2087, Val Loss: 0.1238\n"
          ]
        },
        {
          "name": "stderr",
          "output_type": "stream",
          "text": [
            "Training per zone:  62%|██████▏   | 170/275 [10:06<06:08,  3.51s/it]"
          ]
        },
        {
          "name": "stdout",
          "output_type": "stream",
          "text": [
            "Trained zone 638, Train Loss: 0.1554, Val Loss: 0.0728\n"
          ]
        },
        {
          "name": "stderr",
          "output_type": "stream",
          "text": [
            "Training per zone:  62%|██████▏   | 171/275 [10:10<06:07,  3.53s/it]"
          ]
        },
        {
          "name": "stdout",
          "output_type": "stream",
          "text": [
            "Trained zone 643, Train Loss: 0.1897, Val Loss: 0.1187\n"
          ]
        },
        {
          "name": "stderr",
          "output_type": "stream",
          "text": [
            "Training per zone:  63%|██████▎   | 172/275 [10:13<05:57,  3.47s/it]"
          ]
        },
        {
          "name": "stdout",
          "output_type": "stream",
          "text": [
            "Trained zone 644, Train Loss: 0.1382, Val Loss: 0.0727\n"
          ]
        },
        {
          "name": "stderr",
          "output_type": "stream",
          "text": [
            "Training per zone:  63%|██████▎   | 173/275 [10:16<05:45,  3.39s/it]"
          ]
        },
        {
          "name": "stdout",
          "output_type": "stream",
          "text": [
            "Trained zone 647, Train Loss: 0.1811, Val Loss: 0.0803\n"
          ]
        },
        {
          "name": "stderr",
          "output_type": "stream",
          "text": [
            "Training per zone:  63%|██████▎   | 174/275 [10:19<05:39,  3.36s/it]"
          ]
        },
        {
          "name": "stdout",
          "output_type": "stream",
          "text": [
            "Trained zone 651, Train Loss: 0.1755, Val Loss: 0.0963\n"
          ]
        },
        {
          "name": "stderr",
          "output_type": "stream",
          "text": [
            "Training per zone:  64%|██████▎   | 175/275 [10:23<05:33,  3.34s/it]"
          ]
        },
        {
          "name": "stdout",
          "output_type": "stream",
          "text": [
            "Trained zone 655, Train Loss: 0.2000, Val Loss: 0.0957\n"
          ]
        },
        {
          "name": "stderr",
          "output_type": "stream",
          "text": [
            "Training per zone:  64%|██████▍   | 176/275 [10:26<05:28,  3.32s/it]"
          ]
        },
        {
          "name": "stdout",
          "output_type": "stream",
          "text": [
            "Trained zone 656, Train Loss: 0.1387, Val Loss: 0.0886\n"
          ]
        },
        {
          "name": "stderr",
          "output_type": "stream",
          "text": [
            "Training per zone:  64%|██████▍   | 177/275 [10:30<05:31,  3.38s/it]"
          ]
        },
        {
          "name": "stdout",
          "output_type": "stream",
          "text": [
            "Trained zone 659, Train Loss: 0.2053, Val Loss: 0.0914\n"
          ]
        },
        {
          "name": "stderr",
          "output_type": "stream",
          "text": [
            "Training per zone:  65%|██████▍   | 178/275 [10:33<05:32,  3.42s/it]"
          ]
        },
        {
          "name": "stdout",
          "output_type": "stream",
          "text": [
            "Trained zone 681, Train Loss: 0.1545, Val Loss: 0.0787\n"
          ]
        },
        {
          "name": "stderr",
          "output_type": "stream",
          "text": [
            "Training per zone:  65%|██████▌   | 179/275 [10:37<05:37,  3.52s/it]"
          ]
        },
        {
          "name": "stdout",
          "output_type": "stream",
          "text": [
            "Trained zone 682, Train Loss: 0.2075, Val Loss: 0.1286\n"
          ]
        },
        {
          "name": "stderr",
          "output_type": "stream",
          "text": [
            "Training per zone:  65%|██████▌   | 180/275 [10:40<05:31,  3.49s/it]"
          ]
        },
        {
          "name": "stdout",
          "output_type": "stream",
          "text": [
            "Trained zone 686, Train Loss: 0.1433, Val Loss: 0.0677\n"
          ]
        },
        {
          "name": "stderr",
          "output_type": "stream",
          "text": [
            "Training per zone:  66%|██████▌   | 181/275 [10:44<05:24,  3.45s/it]"
          ]
        },
        {
          "name": "stdout",
          "output_type": "stream",
          "text": [
            "Trained zone 687, Train Loss: 0.1630, Val Loss: 0.0746\n"
          ]
        },
        {
          "name": "stderr",
          "output_type": "stream",
          "text": [
            "Training per zone:  66%|██████▌   | 182/275 [10:47<05:32,  3.57s/it]"
          ]
        },
        {
          "name": "stdout",
          "output_type": "stream",
          "text": [
            "Trained zone 690, Train Loss: 0.1975, Val Loss: 0.1515\n"
          ]
        },
        {
          "name": "stderr",
          "output_type": "stream",
          "text": [
            "Training per zone:  67%|██████▋   | 183/275 [10:51<05:22,  3.50s/it]"
          ]
        },
        {
          "name": "stdout",
          "output_type": "stream",
          "text": [
            "Trained zone 691, Train Loss: 0.1364, Val Loss: 0.0615\n"
          ]
        },
        {
          "name": "stderr",
          "output_type": "stream",
          "text": [
            "Training per zone:  67%|██████▋   | 184/275 [10:54<05:18,  3.50s/it]"
          ]
        },
        {
          "name": "stdout",
          "output_type": "stream",
          "text": [
            "Trained zone 693, Train Loss: 0.1704, Val Loss: 0.1164\n"
          ]
        },
        {
          "name": "stderr",
          "output_type": "stream",
          "text": [
            "Training per zone:  67%|██████▋   | 185/275 [10:58<05:13,  3.48s/it]"
          ]
        },
        {
          "name": "stdout",
          "output_type": "stream",
          "text": [
            "Trained zone 698, Train Loss: 0.1106, Val Loss: 0.0595\n"
          ]
        },
        {
          "name": "stderr",
          "output_type": "stream",
          "text": [
            "Training per zone:  68%|██████▊   | 186/275 [11:01<05:09,  3.48s/it]"
          ]
        },
        {
          "name": "stdout",
          "output_type": "stream",
          "text": [
            "Trained zone 699, Train Loss: 0.0763, Val Loss: 0.0416\n"
          ]
        },
        {
          "name": "stderr",
          "output_type": "stream",
          "text": [
            "Training per zone:  68%|██████▊   | 187/275 [11:05<05:14,  3.57s/it]"
          ]
        },
        {
          "name": "stdout",
          "output_type": "stream",
          "text": [
            "Trained zone 700, Train Loss: 0.0603, Val Loss: 0.0452\n"
          ]
        },
        {
          "name": "stderr",
          "output_type": "stream",
          "text": [
            "Training per zone:  68%|██████▊   | 188/275 [11:08<05:07,  3.53s/it]"
          ]
        },
        {
          "name": "stdout",
          "output_type": "stream",
          "text": [
            "Trained zone 701, Train Loss: 0.1297, Val Loss: 0.0702\n"
          ]
        },
        {
          "name": "stderr",
          "output_type": "stream",
          "text": [
            "Training per zone:  69%|██████▊   | 189/275 [11:12<05:11,  3.63s/it]"
          ]
        },
        {
          "name": "stdout",
          "output_type": "stream",
          "text": [
            "Trained zone 703, Train Loss: 0.0850, Val Loss: 0.0490\n"
          ]
        },
        {
          "name": "stderr",
          "output_type": "stream",
          "text": [
            "Training per zone:  69%|██████▉   | 190/275 [11:16<05:13,  3.69s/it]"
          ]
        },
        {
          "name": "stdout",
          "output_type": "stream",
          "text": [
            "Trained zone 704, Train Loss: 0.1077, Val Loss: 0.0629\n"
          ]
        },
        {
          "name": "stderr",
          "output_type": "stream",
          "text": [
            "Training per zone:  69%|██████▉   | 191/275 [11:20<05:13,  3.73s/it]"
          ]
        },
        {
          "name": "stdout",
          "output_type": "stream",
          "text": [
            "Trained zone 705, Train Loss: 0.0724, Val Loss: 0.0392\n"
          ]
        },
        {
          "name": "stderr",
          "output_type": "stream",
          "text": [
            "Training per zone:  70%|██████▉   | 192/275 [11:25<05:38,  4.08s/it]"
          ]
        },
        {
          "name": "stdout",
          "output_type": "stream",
          "text": [
            "Trained zone 706, Train Loss: 0.0637, Val Loss: 0.0347\n"
          ]
        },
        {
          "name": "stderr",
          "output_type": "stream",
          "text": [
            "Training per zone:  70%|███████   | 193/275 [11:31<06:23,  4.67s/it]"
          ]
        },
        {
          "name": "stdout",
          "output_type": "stream",
          "text": [
            "Trained zone 708, Train Loss: 0.2841, Val Loss: 0.1862\n"
          ]
        },
        {
          "name": "stderr",
          "output_type": "stream",
          "text": [
            "Training per zone:  71%|███████   | 194/275 [11:34<05:49,  4.31s/it]"
          ]
        },
        {
          "name": "stdout",
          "output_type": "stream",
          "text": [
            "Trained zone 709, Train Loss: 0.0610, Val Loss: 0.0529\n"
          ]
        },
        {
          "name": "stderr",
          "output_type": "stream",
          "text": [
            "Training per zone:  71%|███████   | 195/275 [11:38<05:27,  4.09s/it]"
          ]
        },
        {
          "name": "stdout",
          "output_type": "stream",
          "text": [
            "Trained zone 710, Train Loss: 0.1240, Val Loss: 0.0938\n"
          ]
        },
        {
          "name": "stderr",
          "output_type": "stream",
          "text": [
            "Training per zone:  71%|███████▏  | 196/275 [11:41<05:09,  3.92s/it]"
          ]
        },
        {
          "name": "stdout",
          "output_type": "stream",
          "text": [
            "Trained zone 711, Train Loss: 0.1170, Val Loss: 0.0651\n"
          ]
        },
        {
          "name": "stderr",
          "output_type": "stream",
          "text": [
            "Training per zone:  72%|███████▏  | 197/275 [11:45<05:04,  3.91s/it]"
          ]
        },
        {
          "name": "stdout",
          "output_type": "stream",
          "text": [
            "Trained zone 712, Train Loss: 0.1208, Val Loss: 0.0889\n"
          ]
        },
        {
          "name": "stderr",
          "output_type": "stream",
          "text": [
            "Training per zone:  72%|███████▏  | 198/275 [11:49<04:56,  3.85s/it]"
          ]
        },
        {
          "name": "stdout",
          "output_type": "stream",
          "text": [
            "Trained zone 715, Train Loss: 0.2735, Val Loss: 0.1972\n"
          ]
        },
        {
          "name": "stderr",
          "output_type": "stream",
          "text": [
            "Training per zone:  72%|███████▏  | 199/275 [11:53<04:49,  3.81s/it]"
          ]
        },
        {
          "name": "stdout",
          "output_type": "stream",
          "text": [
            "Trained zone 716, Train Loss: 0.1126, Val Loss: 0.0954\n"
          ]
        },
        {
          "name": "stderr",
          "output_type": "stream",
          "text": [
            "Training per zone:  73%|███████▎  | 200/275 [11:56<04:35,  3.67s/it]"
          ]
        },
        {
          "name": "stdout",
          "output_type": "stream",
          "text": [
            "Trained zone 718, Train Loss: 0.1788, Val Loss: 0.0799\n"
          ]
        },
        {
          "name": "stderr",
          "output_type": "stream",
          "text": [
            "Training per zone:  73%|███████▎  | 201/275 [11:59<04:22,  3.55s/it]"
          ]
        },
        {
          "name": "stdout",
          "output_type": "stream",
          "text": [
            "Trained zone 719, Train Loss: 0.1675, Val Loss: 0.0763\n"
          ]
        },
        {
          "name": "stderr",
          "output_type": "stream",
          "text": [
            "Training per zone:  73%|███████▎  | 202/275 [12:03<04:20,  3.56s/it]"
          ]
        },
        {
          "name": "stdout",
          "output_type": "stream",
          "text": [
            "Trained zone 724, Train Loss: 0.0497, Val Loss: 0.0221\n"
          ]
        },
        {
          "name": "stderr",
          "output_type": "stream",
          "text": [
            "Training per zone:  74%|███████▍  | 203/275 [12:06<04:12,  3.50s/it]"
          ]
        },
        {
          "name": "stdout",
          "output_type": "stream",
          "text": [
            "Trained zone 728, Train Loss: 0.1934, Val Loss: 0.1132\n"
          ]
        },
        {
          "name": "stderr",
          "output_type": "stream",
          "text": [
            "Training per zone:  74%|███████▍  | 204/275 [12:10<04:14,  3.59s/it]"
          ]
        },
        {
          "name": "stdout",
          "output_type": "stream",
          "text": [
            "Trained zone 729, Train Loss: 0.2003, Val Loss: 0.1610\n"
          ]
        },
        {
          "name": "stderr",
          "output_type": "stream",
          "text": [
            "Training per zone:  75%|███████▍  | 205/275 [12:13<04:06,  3.52s/it]"
          ]
        },
        {
          "name": "stdout",
          "output_type": "stream",
          "text": [
            "Trained zone 731, Train Loss: 0.0872, Val Loss: 0.0517\n"
          ]
        },
        {
          "name": "stderr",
          "output_type": "stream",
          "text": [
            "Training per zone:  75%|███████▍  | 206/275 [12:17<04:01,  3.50s/it]"
          ]
        },
        {
          "name": "stdout",
          "output_type": "stream",
          "text": [
            "Trained zone 732, Train Loss: 0.1737, Val Loss: 0.0722\n"
          ]
        },
        {
          "name": "stderr",
          "output_type": "stream",
          "text": [
            "Training per zone:  75%|███████▌  | 207/275 [12:20<03:53,  3.44s/it]"
          ]
        },
        {
          "name": "stdout",
          "output_type": "stream",
          "text": [
            "Trained zone 733, Train Loss: 0.1330, Val Loss: 0.0891\n"
          ]
        },
        {
          "name": "stderr",
          "output_type": "stream",
          "text": [
            "Training per zone:  76%|███████▌  | 208/275 [12:24<03:49,  3.43s/it]"
          ]
        },
        {
          "name": "stdout",
          "output_type": "stream",
          "text": [
            "Trained zone 737, Train Loss: 0.1529, Val Loss: 0.0877\n"
          ]
        },
        {
          "name": "stderr",
          "output_type": "stream",
          "text": [
            "Training per zone:  76%|███████▌  | 209/275 [12:27<03:51,  3.50s/it]"
          ]
        },
        {
          "name": "stdout",
          "output_type": "stream",
          "text": [
            "Trained zone 741, Train Loss: 0.1304, Val Loss: 0.0781\n"
          ]
        },
        {
          "name": "stderr",
          "output_type": "stream",
          "text": [
            "Training per zone:  76%|███████▋  | 210/275 [12:31<03:47,  3.49s/it]"
          ]
        },
        {
          "name": "stdout",
          "output_type": "stream",
          "text": [
            "Trained zone 744, Train Loss: 0.1223, Val Loss: 0.0835\n"
          ]
        },
        {
          "name": "stderr",
          "output_type": "stream",
          "text": [
            "Training per zone:  77%|███████▋  | 211/275 [12:34<03:41,  3.46s/it]"
          ]
        },
        {
          "name": "stdout",
          "output_type": "stream",
          "text": [
            "Trained zone 745, Train Loss: 0.1312, Val Loss: 0.0696\n"
          ]
        },
        {
          "name": "stderr",
          "output_type": "stream",
          "text": [
            "Training per zone:  77%|███████▋  | 212/275 [12:38<03:36,  3.44s/it]"
          ]
        },
        {
          "name": "stdout",
          "output_type": "stream",
          "text": [
            "Trained zone 746, Train Loss: 0.1221, Val Loss: 0.0464\n"
          ]
        },
        {
          "name": "stderr",
          "output_type": "stream",
          "text": [
            "Training per zone:  77%|███████▋  | 213/275 [12:41<03:29,  3.38s/it]"
          ]
        },
        {
          "name": "stdout",
          "output_type": "stream",
          "text": [
            "Trained zone 751, Train Loss: 0.0970, Val Loss: 0.0648\n"
          ]
        },
        {
          "name": "stderr",
          "output_type": "stream",
          "text": [
            "Training per zone:  78%|███████▊  | 214/275 [12:44<03:31,  3.47s/it]"
          ]
        },
        {
          "name": "stdout",
          "output_type": "stream",
          "text": [
            "Trained zone 771, Train Loss: 0.1546, Val Loss: 0.0948\n"
          ]
        },
        {
          "name": "stderr",
          "output_type": "stream",
          "text": [
            "Training per zone:  78%|███████▊  | 215/275 [12:48<03:28,  3.47s/it]"
          ]
        },
        {
          "name": "stdout",
          "output_type": "stream",
          "text": [
            "Trained zone 773, Train Loss: 0.1611, Val Loss: 0.0973\n"
          ]
        },
        {
          "name": "stderr",
          "output_type": "stream",
          "text": [
            "Training per zone:  79%|███████▊  | 216/275 [12:52<03:30,  3.56s/it]"
          ]
        },
        {
          "name": "stdout",
          "output_type": "stream",
          "text": [
            "Trained zone 775, Train Loss: 0.1910, Val Loss: 0.1492\n"
          ]
        },
        {
          "name": "stderr",
          "output_type": "stream",
          "text": [
            "Training per zone:  79%|███████▉  | 217/275 [12:55<03:27,  3.58s/it]"
          ]
        },
        {
          "name": "stdout",
          "output_type": "stream",
          "text": [
            "Trained zone 777, Train Loss: 0.2372, Val Loss: 0.1749\n"
          ]
        },
        {
          "name": "stderr",
          "output_type": "stream",
          "text": [
            "Training per zone:  79%|███████▉  | 218/275 [12:59<03:27,  3.63s/it]"
          ]
        },
        {
          "name": "stdout",
          "output_type": "stream",
          "text": [
            "Trained zone 781, Train Loss: 0.1577, Val Loss: 0.0849\n"
          ]
        },
        {
          "name": "stderr",
          "output_type": "stream",
          "text": [
            "Training per zone:  80%|███████▉  | 219/275 [13:02<03:19,  3.56s/it]"
          ]
        },
        {
          "name": "stdout",
          "output_type": "stream",
          "text": [
            "Trained zone 783, Train Loss: 0.1680, Val Loss: 0.0745\n"
          ]
        },
        {
          "name": "stderr",
          "output_type": "stream",
          "text": [
            "Training per zone:  80%|████████  | 220/275 [13:06<03:12,  3.50s/it]"
          ]
        },
        {
          "name": "stdout",
          "output_type": "stream",
          "text": [
            "Trained zone 790, Train Loss: 0.1731, Val Loss: 0.1000\n"
          ]
        },
        {
          "name": "stderr",
          "output_type": "stream",
          "text": [
            "Training per zone:  80%|████████  | 221/275 [13:09<03:07,  3.48s/it]"
          ]
        },
        {
          "name": "stdout",
          "output_type": "stream",
          "text": [
            "Trained zone 792, Train Loss: 0.1217, Val Loss: 0.0680\n"
          ]
        },
        {
          "name": "stderr",
          "output_type": "stream",
          "text": [
            "Training per zone:  81%|████████  | 222/275 [13:13<03:09,  3.57s/it]"
          ]
        },
        {
          "name": "stdout",
          "output_type": "stream",
          "text": [
            "Trained zone 795, Train Loss: 0.0779, Val Loss: 0.0448\n"
          ]
        },
        {
          "name": "stderr",
          "output_type": "stream",
          "text": [
            "Training per zone:  81%|████████  | 223/275 [13:17<03:04,  3.56s/it]"
          ]
        },
        {
          "name": "stdout",
          "output_type": "stream",
          "text": [
            "Trained zone 799, Train Loss: 0.0787, Val Loss: 0.0507\n"
          ]
        },
        {
          "name": "stderr",
          "output_type": "stream",
          "text": [
            "Training per zone:  81%|████████▏ | 224/275 [13:20<02:56,  3.45s/it]"
          ]
        },
        {
          "name": "stdout",
          "output_type": "stream",
          "text": [
            "Trained zone 802, Train Loss: 0.0866, Val Loss: 0.0461\n"
          ]
        },
        {
          "name": "stderr",
          "output_type": "stream",
          "text": [
            "Training per zone:  82%|████████▏ | 225/275 [13:24<02:57,  3.54s/it]"
          ]
        },
        {
          "name": "stdout",
          "output_type": "stream",
          "text": [
            "Trained zone 804, Train Loss: 0.1985, Val Loss: 0.1398\n"
          ]
        },
        {
          "name": "stderr",
          "output_type": "stream",
          "text": [
            "Training per zone:  82%|████████▏ | 226/275 [13:27<02:51,  3.50s/it]"
          ]
        },
        {
          "name": "stdout",
          "output_type": "stream",
          "text": [
            "Trained zone 805, Train Loss: 0.2248, Val Loss: 0.1275\n"
          ]
        },
        {
          "name": "stderr",
          "output_type": "stream",
          "text": [
            "Training per zone:  83%|████████▎ | 227/275 [13:30<02:45,  3.45s/it]"
          ]
        },
        {
          "name": "stdout",
          "output_type": "stream",
          "text": [
            "Trained zone 809, Train Loss: 0.1252, Val Loss: 0.1003\n"
          ]
        },
        {
          "name": "stderr",
          "output_type": "stream",
          "text": [
            "Training per zone:  83%|████████▎ | 228/275 [13:34<02:39,  3.39s/it]"
          ]
        },
        {
          "name": "stdout",
          "output_type": "stream",
          "text": [
            "Trained zone 832, Train Loss: 0.1338, Val Loss: 0.0638\n"
          ]
        },
        {
          "name": "stderr",
          "output_type": "stream",
          "text": [
            "Training per zone:  83%|████████▎ | 229/275 [13:37<02:38,  3.44s/it]"
          ]
        },
        {
          "name": "stdout",
          "output_type": "stream",
          "text": [
            "Trained zone 842, Train Loss: 0.1216, Val Loss: 0.0676\n"
          ]
        },
        {
          "name": "stderr",
          "output_type": "stream",
          "text": [
            "Training per zone:  84%|████████▎ | 230/275 [13:41<02:40,  3.57s/it]"
          ]
        },
        {
          "name": "stdout",
          "output_type": "stream",
          "text": [
            "Trained zone 844, Train Loss: 0.3029, Val Loss: 0.2141\n"
          ]
        },
        {
          "name": "stderr",
          "output_type": "stream",
          "text": [
            "Training per zone:  84%|████████▍ | 231/275 [13:45<02:38,  3.61s/it]"
          ]
        },
        {
          "name": "stdout",
          "output_type": "stream",
          "text": [
            "Trained zone 848, Train Loss: 0.1760, Val Loss: 0.0980\n"
          ]
        },
        {
          "name": "stderr",
          "output_type": "stream",
          "text": [
            "Training per zone:  84%|████████▍ | 232/275 [13:48<02:34,  3.60s/it]"
          ]
        },
        {
          "name": "stdout",
          "output_type": "stream",
          "text": [
            "Trained zone 849, Train Loss: 0.1240, Val Loss: 0.0804\n"
          ]
        },
        {
          "name": "stderr",
          "output_type": "stream",
          "text": [
            "Training per zone:  85%|████████▍ | 233/275 [13:52<02:34,  3.68s/it]"
          ]
        },
        {
          "name": "stdout",
          "output_type": "stream",
          "text": [
            "Trained zone 851, Train Loss: 0.0957, Val Loss: 0.0592\n"
          ]
        },
        {
          "name": "stderr",
          "output_type": "stream",
          "text": [
            "Training per zone:  85%|████████▌ | 234/275 [13:56<02:30,  3.67s/it]"
          ]
        },
        {
          "name": "stdout",
          "output_type": "stream",
          "text": [
            "Trained zone 852, Train Loss: 0.1917, Val Loss: 0.0895\n"
          ]
        },
        {
          "name": "stderr",
          "output_type": "stream",
          "text": [
            "Training per zone:  85%|████████▌ | 235/275 [13:59<02:26,  3.66s/it]"
          ]
        },
        {
          "name": "stdout",
          "output_type": "stream",
          "text": [
            "Trained zone 855, Train Loss: 0.0835, Val Loss: 0.0524\n"
          ]
        },
        {
          "name": "stderr",
          "output_type": "stream",
          "text": [
            "Training per zone:  86%|████████▌ | 236/275 [14:03<02:25,  3.74s/it]"
          ]
        },
        {
          "name": "stdout",
          "output_type": "stream",
          "text": [
            "Trained zone 858, Train Loss: 0.1218, Val Loss: 0.0808\n"
          ]
        },
        {
          "name": "stderr",
          "output_type": "stream",
          "text": [
            "Training per zone:  86%|████████▌ | 237/275 [14:07<02:21,  3.71s/it]"
          ]
        },
        {
          "name": "stdout",
          "output_type": "stream",
          "text": [
            "Trained zone 862, Train Loss: 0.1345, Val Loss: 0.0819\n"
          ]
        },
        {
          "name": "stderr",
          "output_type": "stream",
          "text": [
            "Training per zone:  87%|████████▋ | 238/275 [14:11<02:19,  3.77s/it]"
          ]
        },
        {
          "name": "stdout",
          "output_type": "stream",
          "text": [
            "Trained zone 881, Train Loss: 0.1639, Val Loss: 0.1121\n"
          ]
        },
        {
          "name": "stderr",
          "output_type": "stream",
          "text": [
            "Training per zone:  87%|████████▋ | 239/275 [14:14<02:12,  3.69s/it]"
          ]
        },
        {
          "name": "stdout",
          "output_type": "stream",
          "text": [
            "Trained zone 882, Train Loss: 0.1555, Val Loss: 0.0756\n"
          ]
        },
        {
          "name": "stderr",
          "output_type": "stream",
          "text": [
            "Training per zone:  87%|████████▋ | 240/275 [14:18<02:07,  3.64s/it]"
          ]
        },
        {
          "name": "stdout",
          "output_type": "stream",
          "text": [
            "Trained zone 883, Train Loss: 0.1612, Val Loss: 0.0682\n"
          ]
        },
        {
          "name": "stderr",
          "output_type": "stream",
          "text": [
            "Training per zone:  88%|████████▊ | 241/275 [14:22<02:03,  3.64s/it]"
          ]
        },
        {
          "name": "stdout",
          "output_type": "stream",
          "text": [
            "Trained zone 887, Train Loss: 0.1050, Val Loss: 0.0671\n"
          ]
        },
        {
          "name": "stderr",
          "output_type": "stream",
          "text": [
            "Training per zone:  88%|████████▊ | 242/275 [14:26<02:03,  3.74s/it]"
          ]
        },
        {
          "name": "stdout",
          "output_type": "stream",
          "text": [
            "Trained zone 888, Train Loss: 0.0842, Val Loss: 0.0489\n"
          ]
        },
        {
          "name": "stderr",
          "output_type": "stream",
          "text": [
            "Training per zone:  88%|████████▊ | 243/275 [14:29<01:59,  3.74s/it]"
          ]
        },
        {
          "name": "stdout",
          "output_type": "stream",
          "text": [
            "Trained zone 890, Train Loss: 0.1108, Val Loss: 0.0508\n"
          ]
        },
        {
          "name": "stderr",
          "output_type": "stream",
          "text": [
            "Training per zone:  89%|████████▊ | 244/275 [14:33<01:59,  3.84s/it]"
          ]
        },
        {
          "name": "stdout",
          "output_type": "stream",
          "text": [
            "Trained zone 891, Train Loss: 0.1615, Val Loss: 0.1289\n"
          ]
        },
        {
          "name": "stderr",
          "output_type": "stream",
          "text": [
            "Training per zone:  89%|████████▉ | 245/275 [14:37<01:53,  3.78s/it]"
          ]
        },
        {
          "name": "stdout",
          "output_type": "stream",
          "text": [
            "Trained zone 893, Train Loss: 0.1705, Val Loss: 0.1007\n"
          ]
        },
        {
          "name": "stderr",
          "output_type": "stream",
          "text": [
            "Training per zone:  89%|████████▉ | 246/275 [14:41<01:51,  3.83s/it]"
          ]
        },
        {
          "name": "stdout",
          "output_type": "stream",
          "text": [
            "Trained zone 895, Train Loss: 0.3146, Val Loss: 0.2333\n"
          ]
        },
        {
          "name": "stderr",
          "output_type": "stream",
          "text": [
            "Training per zone:  90%|████████▉ | 247/275 [14:45<01:47,  3.85s/it]"
          ]
        },
        {
          "name": "stdout",
          "output_type": "stream",
          "text": [
            "Trained zone 897, Train Loss: 0.2248, Val Loss: 0.1626\n"
          ]
        },
        {
          "name": "stderr",
          "output_type": "stream",
          "text": [
            "Training per zone:  90%|█████████ | 248/275 [14:48<01:42,  3.79s/it]"
          ]
        },
        {
          "name": "stdout",
          "output_type": "stream",
          "text": [
            "Trained zone 900, Train Loss: 0.1455, Val Loss: 0.0874\n"
          ]
        },
        {
          "name": "stderr",
          "output_type": "stream",
          "text": [
            "Training per zone:  91%|█████████ | 249/275 [14:52<01:38,  3.77s/it]"
          ]
        },
        {
          "name": "stdout",
          "output_type": "stream",
          "text": [
            "Trained zone 901, Train Loss: 0.1701, Val Loss: 0.0689\n"
          ]
        },
        {
          "name": "stderr",
          "output_type": "stream",
          "text": [
            "Training per zone:  91%|█████████ | 250/275 [14:56<01:35,  3.82s/it]"
          ]
        },
        {
          "name": "stdout",
          "output_type": "stream",
          "text": [
            "Trained zone 902, Train Loss: 0.0821, Val Loss: 0.0650\n"
          ]
        },
        {
          "name": "stderr",
          "output_type": "stream",
          "text": [
            "Training per zone:  91%|█████████▏| 251/275 [15:00<01:30,  3.77s/it]"
          ]
        },
        {
          "name": "stdout",
          "output_type": "stream",
          "text": [
            "Trained zone 903, Train Loss: 0.1534, Val Loss: 0.0980\n"
          ]
        },
        {
          "name": "stderr",
          "output_type": "stream",
          "text": [
            "Training per zone:  92%|█████████▏| 252/275 [15:03<01:26,  3.74s/it]"
          ]
        },
        {
          "name": "stdout",
          "output_type": "stream",
          "text": [
            "Trained zone 904, Train Loss: 0.1179, Val Loss: 0.0817\n"
          ]
        },
        {
          "name": "stderr",
          "output_type": "stream",
          "text": [
            "Training per zone:  92%|█████████▏| 253/275 [15:07<01:20,  3.65s/it]"
          ]
        },
        {
          "name": "stdout",
          "output_type": "stream",
          "text": [
            "Trained zone 937, Train Loss: 0.1686, Val Loss: 0.0645\n"
          ]
        },
        {
          "name": "stderr",
          "output_type": "stream",
          "text": [
            "Training per zone:  92%|█████████▏| 254/275 [15:10<01:14,  3.55s/it]"
          ]
        },
        {
          "name": "stdout",
          "output_type": "stream",
          "text": [
            "Trained zone 943, Train Loss: 0.1567, Val Loss: 0.0983\n"
          ]
        },
        {
          "name": "stderr",
          "output_type": "stream",
          "text": [
            "Training per zone:  93%|█████████▎| 255/275 [15:14<01:10,  3.54s/it]"
          ]
        },
        {
          "name": "stdout",
          "output_type": "stream",
          "text": [
            "Trained zone 958, Train Loss: 0.0817, Val Loss: 0.0545\n"
          ]
        },
        {
          "name": "stderr",
          "output_type": "stream",
          "text": [
            "Training per zone:  93%|█████████▎| 256/275 [15:17<01:08,  3.59s/it]"
          ]
        },
        {
          "name": "stdout",
          "output_type": "stream",
          "text": [
            "Trained zone 965, Train Loss: 0.1120, Val Loss: 0.0650\n"
          ]
        },
        {
          "name": "stderr",
          "output_type": "stream",
          "text": [
            "Training per zone:  93%|█████████▎| 257/275 [15:21<01:05,  3.64s/it]"
          ]
        },
        {
          "name": "stdout",
          "output_type": "stream",
          "text": [
            "Trained zone 966, Train Loss: 0.0731, Val Loss: 0.0447\n"
          ]
        },
        {
          "name": "stderr",
          "output_type": "stream",
          "text": [
            "Training per zone:  94%|█████████▍| 258/275 [15:25<01:00,  3.55s/it]"
          ]
        },
        {
          "name": "stdout",
          "output_type": "stream",
          "text": [
            "Trained zone 967, Train Loss: 0.0958, Val Loss: 0.0556\n"
          ]
        },
        {
          "name": "stderr",
          "output_type": "stream",
          "text": [
            "Training per zone:  94%|█████████▍| 259/275 [15:28<00:56,  3.50s/it]"
          ]
        },
        {
          "name": "stdout",
          "output_type": "stream",
          "text": [
            "Trained zone 969, Train Loss: 0.0966, Val Loss: 0.0789\n"
          ]
        },
        {
          "name": "stderr",
          "output_type": "stream",
          "text": [
            "Training per zone:  95%|█████████▍| 260/275 [15:32<00:52,  3.52s/it]"
          ]
        },
        {
          "name": "stdout",
          "output_type": "stream",
          "text": [
            "Trained zone 972, Train Loss: 0.1216, Val Loss: 0.0745\n"
          ]
        },
        {
          "name": "stderr",
          "output_type": "stream",
          "text": [
            "Training per zone:  95%|█████████▍| 261/275 [15:35<00:48,  3.48s/it]"
          ]
        },
        {
          "name": "stdout",
          "output_type": "stream",
          "text": [
            "Trained zone 974, Train Loss: 0.0731, Val Loss: 0.0372\n"
          ]
        },
        {
          "name": "stderr",
          "output_type": "stream",
          "text": [
            "Training per zone:  95%|█████████▌| 262/275 [15:38<00:45,  3.48s/it]"
          ]
        },
        {
          "name": "stdout",
          "output_type": "stream",
          "text": [
            "Trained zone 975, Train Loss: 0.1417, Val Loss: 0.0744\n"
          ]
        },
        {
          "name": "stderr",
          "output_type": "stream",
          "text": [
            "Training per zone:  96%|█████████▌| 263/275 [15:42<00:41,  3.50s/it]"
          ]
        },
        {
          "name": "stdout",
          "output_type": "stream",
          "text": [
            "Trained zone 977, Train Loss: 0.1585, Val Loss: 0.0923\n"
          ]
        },
        {
          "name": "stderr",
          "output_type": "stream",
          "text": [
            "Training per zone:  96%|█████████▌| 264/275 [15:45<00:38,  3.51s/it]"
          ]
        },
        {
          "name": "stdout",
          "output_type": "stream",
          "text": [
            "Trained zone 979, Train Loss: 0.1482, Val Loss: 0.0914\n"
          ]
        },
        {
          "name": "stderr",
          "output_type": "stream",
          "text": [
            "Training per zone:  96%|█████████▋| 265/275 [15:49<00:36,  3.63s/it]"
          ]
        },
        {
          "name": "stdout",
          "output_type": "stream",
          "text": [
            "Trained zone 981, Train Loss: 0.0927, Val Loss: 0.0727\n"
          ]
        },
        {
          "name": "stderr",
          "output_type": "stream",
          "text": [
            "Training per zone:  97%|█████████▋| 266/275 [15:53<00:32,  3.62s/it]"
          ]
        },
        {
          "name": "stdout",
          "output_type": "stream",
          "text": [
            "Trained zone 982, Train Loss: 0.0972, Val Loss: 0.0658\n"
          ]
        },
        {
          "name": "stderr",
          "output_type": "stream",
          "text": [
            "Training per zone:  97%|█████████▋| 267/275 [15:56<00:28,  3.58s/it]"
          ]
        },
        {
          "name": "stdout",
          "output_type": "stream",
          "text": [
            "Trained zone 983, Train Loss: 0.1383, Val Loss: 0.0762\n"
          ]
        },
        {
          "name": "stderr",
          "output_type": "stream",
          "text": [
            "Training per zone:  97%|█████████▋| 268/275 [16:00<00:24,  3.55s/it]"
          ]
        },
        {
          "name": "stdout",
          "output_type": "stream",
          "text": [
            "Trained zone 984, Train Loss: 0.1266, Val Loss: 0.0690\n"
          ]
        },
        {
          "name": "stderr",
          "output_type": "stream",
          "text": [
            "Training per zone:  98%|█████████▊| 269/275 [16:04<00:21,  3.62s/it]"
          ]
        },
        {
          "name": "stdout",
          "output_type": "stream",
          "text": [
            "Trained zone 986, Train Loss: 0.1332, Val Loss: 0.0553\n"
          ]
        },
        {
          "name": "stderr",
          "output_type": "stream",
          "text": [
            "Training per zone:  98%|█████████▊| 270/275 [16:07<00:18,  3.64s/it]"
          ]
        },
        {
          "name": "stdout",
          "output_type": "stream",
          "text": [
            "Trained zone 987, Train Loss: 0.1682, Val Loss: 0.0826\n"
          ]
        },
        {
          "name": "stderr",
          "output_type": "stream",
          "text": [
            "Training per zone:  99%|█████████▊| 271/275 [16:11<00:14,  3.69s/it]"
          ]
        },
        {
          "name": "stdout",
          "output_type": "stream",
          "text": [
            "Trained zone 988, Train Loss: 0.1344, Val Loss: 0.0938\n"
          ]
        },
        {
          "name": "stderr",
          "output_type": "stream",
          "text": [
            "Training per zone:  99%|█████████▉| 272/275 [16:15<00:11,  3.67s/it]"
          ]
        },
        {
          "name": "stdout",
          "output_type": "stream",
          "text": [
            "Trained zone 989, Train Loss: 0.0965, Val Loss: 0.0635\n"
          ]
        },
        {
          "name": "stderr",
          "output_type": "stream",
          "text": [
            "Training per zone:  99%|█████████▉| 273/275 [16:18<00:07,  3.61s/it]"
          ]
        },
        {
          "name": "stdout",
          "output_type": "stream",
          "text": [
            "Trained zone 991, Train Loss: 0.1310, Val Loss: 0.0713\n"
          ]
        },
        {
          "name": "stderr",
          "output_type": "stream",
          "text": [
            "Training per zone: 100%|█████████▉| 274/275 [16:22<00:03,  3.55s/it]"
          ]
        },
        {
          "name": "stdout",
          "output_type": "stream",
          "text": [
            "Trained zone 996, Train Loss: 0.0812, Val Loss: 0.0695\n"
          ]
        },
        {
          "name": "stderr",
          "output_type": "stream",
          "text": [
            "Training per zone: 100%|██████████| 275/275 [16:25<00:00,  3.58s/it]"
          ]
        },
        {
          "name": "stdout",
          "output_type": "stream",
          "text": [
            "Trained zone 998, Train Loss: 0.0865, Val Loss: 0.0515\n"
          ]
        },
        {
          "name": "stderr",
          "output_type": "stream",
          "text": [
            "\n"
          ]
        }
      ],
      "execution_count": null
    },
    {
      "metadata": {
        "id": "2R7rzOaxBGWQ"
      },
      "cell_type": "code",
      "outputs": [],
      "execution_count": null,
      "source": []
    }
  ]
}