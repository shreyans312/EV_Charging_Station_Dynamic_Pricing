{
 "nbformat": 4,
 "nbformat_minor": 0,
 "metadata": {
  "colab": {
   "provenance": []
  },
  "kernelspec": {
   "name": "python3",
   "display_name": "Python 3"
  },
  "language_info": {
   "name": "python"
  }
 },
 "cells": [
  {
   "cell_type": "code",
   "source": [
    "from google.colab import drive\n",
    "drive.mount('/content/drive')"
   ],
   "metadata": {
    "colab": {
     "base_uri": "https://localhost:8080/"
    },
    "id": "blH6QCh2MtN_",
    "outputId": "03dfcc17-66de-45e4-c282-60d2d9846233",
    "ExecuteTime": {
     "end_time": "2025-07-02T14:50:21.425308Z",
     "start_time": "2025-07-02T14:50:21.043973Z"
    }
   },
   "outputs": [
    {
     "ename": "ModuleNotFoundError",
     "evalue": "No module named 'google'",
     "output_type": "error",
     "traceback": [
      "\u001B[1;31m---------------------------------------------------------------------------\u001B[0m",
      "\u001B[1;31mModuleNotFoundError\u001B[0m                       Traceback (most recent call last)",
      "Cell \u001B[1;32mIn[2], line 1\u001B[0m\n\u001B[1;32m----> 1\u001B[0m \u001B[38;5;28;01mfrom\u001B[39;00m\u001B[38;5;250m \u001B[39m\u001B[38;5;21;01mgoogle\u001B[39;00m\u001B[38;5;21;01m.\u001B[39;00m\u001B[38;5;21;01mcolab\u001B[39;00m\u001B[38;5;250m \u001B[39m\u001B[38;5;28;01mimport\u001B[39;00m drive\n\u001B[0;32m      2\u001B[0m drive\u001B[38;5;241m.\u001B[39mmount(\u001B[38;5;124m'\u001B[39m\u001B[38;5;124m/content/drive\u001B[39m\u001B[38;5;124m'\u001B[39m)\n",
      "\u001B[1;31mModuleNotFoundError\u001B[0m: No module named 'google'"
     ]
    }
   ],
   "execution_count": 2
  },
  {
   "cell_type": "code",
   "metadata": {
    "id": "zlsss_DOxDvj",
    "ExecuteTime": {
     "end_time": "2025-07-03T14:37:05.392006Z",
     "start_time": "2025-07-03T14:37:02.784950Z"
    }
   },
   "source": [
    "import os\n",
    "import numpy as np\n",
    "import pandas as pd\n",
    "import matplotlib.pyplot as plt\n",
    "from datetime import datetime\n",
    "from sklearn.preprocessing import StandardScaler\n",
    "from sklearn.model_selection import train_test_split\n",
    "from sklearn.metrics import mean_squared_error\n",
    "import torch\n",
    "import torch.nn as nn\n",
    "from torch.utils.data import Dataset, DataLoader\n",
    "from tqdm import tqdm\n",
    "import pickle\n",
    "import joblib\n",
    "\n",
    "torch.manual_seed(42)\n",
    "np.random.seed(42)\n",
    "device = torch.device('cuda' if torch.cuda.is_available() else 'cpu')"
   ],
   "outputs": [],
   "execution_count": 2
  },
  {
   "cell_type": "code",
   "source": [
    "DATA_PATH = 'C:/Users/shrey/Downloads/EV Charging Station Dynamic Pricing-20250701T181708Z-1-001/EV Charging Station Dynamic Pricing/data/urban_ev_combined.csv'\n",
    "ADJ_PATH = 'C:/Users/shrey/Downloads/EV Charging Station Dynamic Pricing-20250701T181708Z-1-001/EV Charging Station Dynamic Pricing/data/adj_filter.csv'\n",
    "MODEL_SAVE_DIR = 'C:/Users/shrey/Downloads/EV Charging Station Dynamic Pricing-20250701T181708Z-1-001/EV Charging Station Dynamic Pricing/models'\n",
    "os.makedirs(MODEL_SAVE_DIR, exist_ok=True)\n",
    "\n",
    "SEQ_LEN = 72 # Taking 72 hours data\n",
    "EPOCHS = 25\n",
    "BATCH_SIZE = 64\n",
    "HIDDEN_SIZE = 128\n",
    "PATIENCE = 5\n",
    "LEARNING_RATE = 0.001\n",
    "\n",
    "df = pd.read_csv(DATA_PATH, parse_dates=['time'])\n",
    "adj = pd.read_csv(ADJ_PATH, index_col=0)\n",
    "adj.columns = adj.columns.astype(str)\n",
    "adj.index = adj.index.astype(str)\n",
    "\n",
    "# Only using the selected features based on the importance\n",
    "features = [\n",
    "    'is_peak', 'duration', 'duration_24h_mean',\n",
    "    'charge_count', 'occupancy', 'e_price', 's_price', 'hour', 'area'\n",
    "]\n",
    "\n",
    "target = 'volume'\n",
    "df.dropna(subset=features + [target], inplace=True)\n",
    "\n",
    "df['power_kw'] = df['volume'] / df['duration']\n",
    "df['power_kw'] = df['power_kw'].replace([np.inf, -np.inf], np.nan).fillna(0)\n",
    "features.append('power_kw')\n",
    "\n",
    "df[target] = np.log1p(df[target].clip(lower=0))  # Applying log transform and clipping\n",
    "for col in features:\n",
    "    if df[col].dtype in [np.float64, np.float32]:\n",
    "        mean = df[col].mean()\n",
    "        std = df[col].std()\n",
    "        df[col] = df[col].clip(lower=mean - 3*std, upper=mean + 3*std)\n",
    "\n",
    "\n",
    "scalers = {}\n",
    "for col in features + [target]:\n",
    "    flat = df[col].astype(np.float32).values.reshape(-1, 1)\n",
    "    if np.any(np.isnan(flat)):\n",
    "        raise ValueError(f\"Column {col} contains NaNs\")\n",
    "    if np.var(flat) == 0:\n",
    "        raise ValueError(f\"Column {col} has zero variance\")\n",
    "        flat += np.random.normal(0, 1e-6, flat.shape) # Adding a small noise in case of zero variance\n",
    "\n",
    "    scaler = StandardScaler()\n",
    "    df[col] = scaler.fit_transform(flat).flatten()\n",
    "    scalers[col] = scaler\n"
   ],
   "metadata": {
    "id": "c1aNQhcVMQFr",
    "ExecuteTime": {
     "end_time": "2025-07-03T14:39:26.804776Z",
     "start_time": "2025-07-03T14:39:24.252226Z"
    }
   },
   "outputs": [],
   "execution_count": 8
  },
  {
   "cell_type": "code",
   "source": [
    "class LSTM_Model(nn.Module):\n",
    "    def __init__(self, input_size):\n",
    "        super().__init__()\n",
    "        self.lstm = nn.LSTM(input_size=input_size, hidden_size=HIDDEN_SIZE, num_layers=2, batch_first=True, dropout=0.3)\n",
    "        self.norm = nn.LayerNorm(HIDDEN_SIZE)\n",
    "        self.fc = nn.Sequential(\n",
    "            nn.Linear(HIDDEN_SIZE, 64),\n",
    "            nn.ReLU(),\n",
    "            nn.Dropout(0.3),\n",
    "            nn.Linear(64, 1)\n",
    "        )\n",
    "\n",
    "    def forward(self, x):\n",
    "        out, _ = self.lstm(x)\n",
    "        out = self.norm(out[:, -1, :])\n",
    "        return self.fc(out)"
   ],
   "metadata": {
    "id": "A_ht8-THMlHp",
    "ExecuteTime": {
     "end_time": "2025-07-03T14:39:27.573024Z",
     "start_time": "2025-07-03T14:39:27.557113Z"
    }
   },
   "outputs": [],
   "execution_count": 9
  },
  {
   "cell_type": "code",
   "source": [
    "class ZoneDataset(Dataset):\n",
    "    def __init__(self, df_zone, features, target, seq_len):\n",
    "        self.X, self.y = [], []\n",
    "        for i in range(len(df_zone) - seq_len):\n",
    "            x_seq = df_zone[features].iloc[i:i + seq_len].values\n",
    "            x_seq = np.array(x_seq, dtype=np.float32)\n",
    "\n",
    "            y_val = df_zone[target].iloc[i + seq_len - 1]\n",
    "            y_val = np.array(y_val, dtype=np.float32).flatten()\n",
    "\n",
    "            self.X.append(x_seq)\n",
    "            self.y.append(y_val)\n",
    "\n",
    "        self.X = torch.tensor(self.X, dtype=torch.float32)\n",
    "        self.y = torch.tensor(self.y, dtype=torch.float32)\n",
    "\n",
    "        if self.y.dim() == 1:\n",
    "            self.y = self.y.view(-1, 1)\n",
    "\n",
    "    def __len__(self):\n",
    "        return len(self.X)\n",
    "\n",
    "    def __getitem__(self, idx):\n",
    "        return self.X[idx], self.y[idx]\n"
   ],
   "metadata": {
    "colab": {
     "base_uri": "https://localhost:8080/",
     "height": 238
    },
    "id": "OZ6lt2HLP6Tb",
    "outputId": "0344211d-0752-4cb0-fbe4-57056f2d555d",
    "ExecuteTime": {
     "end_time": "2025-07-03T14:39:28.238583Z",
     "start_time": "2025-07-03T14:39:28.215546Z"
    }
   },
   "outputs": [],
   "execution_count": 10
  },
  {
   "cell_type": "code",
   "source": [
    "def add_neighbour_avg(df, zone_id, target_col='volume_24h_mean'): # Neighbour volume averaging\n",
    "    neighbours = adj.loc[str(zone_id)][adj.loc[str(zone_id)] == 1].index.tolist()\n",
    "    df_main = df[df['zone_id'] == zone_id][['time', target_col]].set_index('time')\n",
    "    if not neighbours:\n",
    "        df_main[f'neighbour_{target_col}'] = 0\n",
    "    else:\n",
    "        neighbour_data = df[df['zone_id'].isin(neighbours)][['time', target_col]]\n",
    "        neighbour_mean = (\n",
    "            neighbour_data.groupby('time')[target_col]\n",
    "            .mean()\n",
    "            .reindex(df_main.index)\n",
    "            .fillna(0)\n",
    "            .rename(f'neighbour_{target_col}')\n",
    "        )\n",
    "        df_main[f'neighbour_{target_col}'] = neighbour_mean\n",
    "\n",
    "    df_out = df[df['zone_id'] == zone_id].copy()\n",
    "    df_out[f'neighbour_{target_col}'] = df_main[f'neighbour_{target_col}'].values\n",
    "    return df_out\n"
   ],
   "metadata": {
    "id": "0qhTksf9Q-YK",
    "ExecuteTime": {
     "end_time": "2025-07-03T14:39:28.802767Z",
     "start_time": "2025-07-03T14:39:28.787014Z"
    }
   },
   "outputs": [],
   "execution_count": 11
  },
  {
   "metadata": {
    "ExecuteTime": {
     "end_time": "2025-07-03T15:25:21.434164Z",
     "start_time": "2025-07-03T14:53:16.605086Z"
    }
   },
   "cell_type": "code",
   "source": [
    "logs = []\n",
    "zone_ids = df['zone_id'].unique()\n",
    "\n",
    "for zone_id in tqdm(zone_ids, desc=\"Training per zone\"):\n",
    "    try:\n",
    "        # Compute neighbor averages\n",
    "        df_zone = add_neighbour_avg(df, zone_id, target_col='volume')  # Use 'volume' instead of 'volume_24h_mean'\n",
    "        df_zone = add_neighbour_avg(df_zone, zone_id, target_col='duration_24h_mean')\n",
    "        df_zone.dropna(subset=features + [target, 'neighbour_volume', 'neighbour_duration_24h_mean'], inplace=True)\n",
    "        all_features = features + ['neighbour_volume', 'neighbour_duration_24h_mean']\n",
    "\n",
    "        # Check for low target variance\n",
    "        if df_zone[target].var() < 1e-6:\n",
    "            print(f\"Skipping zone {zone_id}: target variance too low ({df_zone[target].var()})\")\n",
    "            continue\n",
    "\n",
    "        # Select features with non-zero variance\n",
    "        valid_features = []\n",
    "        for col in all_features:\n",
    "            flat = df_zone[col].astype(np.float32).values\n",
    "            if np.var(flat) > 1e-6:\n",
    "                valid_features.append(col)\n",
    "\n",
    "        if not valid_features:\n",
    "            print(f\"Skipping zone {zone_id}: no valid features with non-zero variance\")\n",
    "            continue\n",
    "\n",
    "        # Scale zone-specific data\n",
    "        zone_scalers = {}\n",
    "        for col in valid_features:\n",
    "            flat = df_zone[col].astype(np.float32).values.reshape(-1, 1)\n",
    "            if np.any(np.isnan(flat)) or np.any(np.isinf(flat)):\n",
    "                print(f\"Warning: NaN or Inf in column {col} for zone {zone_id}\")\n",
    "                flat = np.nan_to_num(flat, nan=0.0, posinf=0.0, neginf=0.0)\n",
    "            if np.var(flat) < 1e-6:\n",
    "                flat += np.random.normal(0, 1e-6, flat.shape)\n",
    "            scaler = StandardScaler()\n",
    "            df_zone[col] = scaler.fit_transform(flat).flatten()\n",
    "            zone_scalers[col] = scaler\n",
    "\n",
    "        dataset = ZoneDataset(df_zone, valid_features, target, SEQ_LEN)\n",
    "\n",
    "        train_size = int(len(dataset) * 0.8)\n",
    "        if train_size == 0 or len(dataset) - train_size == 0:\n",
    "            print(f\"Skipping zone {zone_id}: empty train/val set\")\n",
    "            continue\n",
    "\n",
    "        train_dataset, val_dataset = torch.utils.data.random_split(dataset, [train_size, len(dataset) - train_size])\n",
    "        train_loader = DataLoader(train_dataset, batch_size=BATCH_SIZE, shuffle=True, num_workers=0, pin_memory=True)\n",
    "        val_loader = DataLoader(val_dataset, batch_size=BATCH_SIZE, shuffle=False, num_workers=0, pin_memory=True)\n",
    "\n",
    "        model = LSTM_Model(input_size=len(valid_features)).to(device)\n",
    "        optimizer = torch.optim.Adam(model.parameters(), lr=LEARNING_RATE)\n",
    "        scheduler = torch.optim.lr_scheduler.ReduceLROnPlateau(optimizer, patience=2, factor=0.5)\n",
    "        loss_fn = nn.HuberLoss()\n",
    "\n",
    "        best_val_loss = float('inf')\n",
    "        epochs_no_improve = 0\n",
    "\n",
    "        all_train_preds, all_train_targets = [], []\n",
    "        all_val_preds, all_val_targets = [], []\n",
    "\n",
    "        for epoch in range(EPOCHS):\n",
    "            model.train()\n",
    "            train_loss = 0\n",
    "            for xb, yb in train_loader:\n",
    "                xb, yb = xb.to(device, non_blocking=True), yb.to(device, non_blocking=True)\n",
    "                optimizer.zero_grad()\n",
    "                with torch.autocast(device_type='cuda', dtype=torch.float16):\n",
    "                    pred = model(xb)\n",
    "                    loss = loss_fn(pred, yb)\n",
    "                loss.backward()\n",
    "                torch.nn.utils.clip_grad_norm_(model.parameters(), max_norm=1.0)\n",
    "                optimizer.step()\n",
    "                train_loss += loss.item()\n",
    "\n",
    "                all_train_preds.append(pred.detach().cpu().numpy())\n",
    "                all_train_targets.append(yb.detach().cpu().numpy())\n",
    "\n",
    "            train_loss /= len(train_loader)\n",
    "\n",
    "\n",
    "            model.eval()\n",
    "            val_loss = 0\n",
    "            with torch.no_grad():\n",
    "                for xb, yb in val_loader:\n",
    "                    xb, yb = xb.to(device, non_blocking=True), yb.to(device, non_blocking=True)\n",
    "                    with torch.autocast(device_type='cuda', dtype=torch.float16):\n",
    "                        pred = model(xb)\n",
    "                        val_loss += loss_fn(pred, yb).item()\n",
    "                        all_val_preds.append(pred.detach().cpu().numpy())\n",
    "                        all_val_targets.append(yb.detach().cpu().numpy())\n",
    "\n",
    "                val_loss /= len(val_loader)\n",
    "\n",
    "            scheduler.step(val_loss)\n",
    "            if val_loss < best_val_loss:\n",
    "                best_val_loss = val_loss\n",
    "                epochs_no_improve = 0\n",
    "                joblib.dump(model, os.path.join(MODEL_SAVE_DIR, f'zone_{zone_id}_model.pkl'))\n",
    "            else:\n",
    "                epochs_no_improve += 1\n",
    "                if epochs_no_improve >= PATIENCE:\n",
    "                    print(f\"Early stopping for zone {zone_id} at epoch {epoch}\")\n",
    "                    break\n",
    "\n",
    "        # Inverse transform losses for interpretability\n",
    "        train_preds_unscaled = np.expm1(scalers[target].inverse_transform(np.concatenate(all_train_preds).reshape(-1, 1)))\n",
    "        train_targets_unscaled = np.expm1(scalers[target].inverse_transform(np.concatenate(all_train_targets).reshape(-1, 1)))\n",
    "        val_preds_unscaled = np.expm1(scalers[target].inverse_transform(np.concatenate(all_val_preds).reshape(-1, 1)))\n",
    "        val_targets_unscaled = np.expm1(scalers[target].inverse_transform(np.concatenate(all_val_targets).reshape(-1, 1)))\n",
    "\n",
    "        train_rmse = np.sqrt(mean_squared_error(train_targets_unscaled, train_preds_unscaled))\n",
    "        val_rmse = np.sqrt(mean_squared_error(val_targets_unscaled, val_preds_unscaled))\n",
    "\n",
    "        print(f'Trained zone {zone_id}, Train Loss: {train_rmse:.4f}, Val Loss: {val_rmse:.4f}')\n",
    "        plt.figure(figsize=(12, 6))\n",
    "        plt.plot(val_targets_unscaled[:100], label='Actual')\n",
    "        plt.plot(val_preds_unscaled[:100], label='Predicted')\n",
    "        plt.legend()\n",
    "        plt.title(f'Zone {zone_id} - Validation Forecast (First 100)')\n",
    "        plt.xlabel(\"Timestep\")\n",
    "        plt.ylabel(\"Volume\")\n",
    "        plt.tight_layout()\n",
    "        plot_path = os.path.join(MODEL_SAVE_DIR, f'zone_{zone_id}_forecast_plot.png')\n",
    "        plt.savefig(plot_path)\n",
    "        plt.close()\n",
    "\n",
    "        # Single append to logs\n",
    "        logs.append({\n",
    "            'zone_id': zone_id,\n",
    "            'train_loss': train_loss,\n",
    "            'val_loss': val_loss,\n",
    "            'train_loss_unscaled': train_rmse,\n",
    "            'val_loss_unscaled': val_rmse\n",
    "        })\n",
    "\n",
    "        with open(os.path.join(MODEL_SAVE_DIR, f'zone_{zone_id}_scalers.pkl'), 'wb') as f:\n",
    "            pickle.dump(zone_scalers, f)\n",
    "\n",
    "        with open(os.path.join(MODEL_SAVE_DIR, f'zone_{zone_id}_features.pkl'), 'wb') as f:\n",
    "            pickle.dump(valid_features, f)\n",
    "\n",
    "        del df_zone, dataset, train_loader, val_loader, model\n",
    "        if torch.cuda.is_available():\n",
    "            torch.cuda.empty_cache()\n",
    "\n",
    "    except Exception as e:\n",
    "        print(f\"Failed for zone {zone_id}: {e}\")\n",
    "\n",
    "log_df = pd.DataFrame(logs)\n",
    "log_df.to_csv(os.path.join(MODEL_SAVE_DIR, 'training_log.csv'), index=False)"
   ],
   "outputs": [
    {
     "name": "stderr",
     "output_type": "stream",
     "text": [
      "Training per zone:   0%|          | 1/275 [00:06<31:53,  6.98s/it]"
     ]
    },
    {
     "name": "stdout",
     "output_type": "stream",
     "text": [
      "Early stopping for zone 1000 at epoch 23\n",
      "Trained zone 1000, Train Loss: 43.5184, Val Loss: 11.5826\n"
     ]
    },
    {
     "name": "stderr",
     "output_type": "stream",
     "text": [
      "Training per zone:   1%|          | 2/275 [00:13<29:54,  6.57s/it]"
     ]
    },
    {
     "name": "stdout",
     "output_type": "stream",
     "text": [
      "Early stopping for zone 1009 at epoch 22\n",
      "Trained zone 1009, Train Loss: 60.0579, Val Loss: 15.9390\n"
     ]
    },
    {
     "name": "stderr",
     "output_type": "stream",
     "text": [
      "Training per zone:   1%|          | 3/275 [00:20<30:50,  6.81s/it]"
     ]
    },
    {
     "name": "stdout",
     "output_type": "stream",
     "text": [
      "Early stopping for zone 1011 at epoch 24\n",
      "Trained zone 1011, Train Loss: 81.4880, Val Loss: 21.7700\n"
     ]
    },
    {
     "name": "stderr",
     "output_type": "stream",
     "text": [
      "Training per zone:   1%|▏         | 4/275 [00:27<31:00,  6.87s/it]"
     ]
    },
    {
     "name": "stdout",
     "output_type": "stream",
     "text": [
      "Early stopping for zone 1015 at epoch 23\n",
      "Trained zone 1015, Train Loss: 15.6067, Val Loss: 5.3578\n"
     ]
    },
    {
     "name": "stderr",
     "output_type": "stream",
     "text": [
      "Training per zone:   2%|▏         | 5/275 [00:36<34:32,  7.67s/it]"
     ]
    },
    {
     "name": "stdout",
     "output_type": "stream",
     "text": [
      "Trained zone 102, Train Loss: 4.4600, Val Loss: 2.4226\n"
     ]
    },
    {
     "name": "stderr",
     "output_type": "stream",
     "text": [
      "Training per zone:   2%|▏         | 6/275 [00:44<34:52,  7.78s/it]"
     ]
    },
    {
     "name": "stdout",
     "output_type": "stream",
     "text": [
      "Trained zone 1026, Train Loss: 2082.2573, Val Loss: 466.8963\n"
     ]
    },
    {
     "name": "stderr",
     "output_type": "stream",
     "text": [
      "Training per zone:   3%|▎         | 7/275 [00:53<36:32,  8.18s/it]"
     ]
    },
    {
     "name": "stdout",
     "output_type": "stream",
     "text": [
      "Trained zone 1029, Train Loss: 311.8324, Val Loss: 70.8689\n"
     ]
    },
    {
     "name": "stderr",
     "output_type": "stream",
     "text": [
      "Training per zone:   3%|▎         | 8/275 [01:02<37:19,  8.39s/it]"
     ]
    },
    {
     "name": "stdout",
     "output_type": "stream",
     "text": [
      "Early stopping for zone 1031 at epoch 23\n",
      "Trained zone 1031, Train Loss: 113.5220, Val Loss: 26.5369\n"
     ]
    },
    {
     "name": "stderr",
     "output_type": "stream",
     "text": [
      "Training per zone:   3%|▎         | 9/275 [01:09<35:59,  8.12s/it]"
     ]
    },
    {
     "name": "stdout",
     "output_type": "stream",
     "text": [
      "Early stopping for zone 104 at epoch 24\n",
      "Trained zone 104, Train Loss: 3.3322, Val Loss: 0.8830\n"
     ]
    },
    {
     "name": "stderr",
     "output_type": "stream",
     "text": [
      "Training per zone:   4%|▎         | 10/275 [01:17<34:56,  7.91s/it]"
     ]
    },
    {
     "name": "stdout",
     "output_type": "stream",
     "text": [
      "Early stopping for zone 1043 at epoch 21\n",
      "Trained zone 1043, Train Loss: 7.4976, Val Loss: 3.1995\n"
     ]
    },
    {
     "name": "stderr",
     "output_type": "stream",
     "text": [
      "Training per zone:   4%|▍         | 11/275 [01:23<32:48,  7.46s/it]"
     ]
    },
    {
     "name": "stdout",
     "output_type": "stream",
     "text": [
      "Early stopping for zone 1049 at epoch 22\n",
      "Trained zone 1049, Train Loss: 169.5620, Val Loss: 50.4472\n"
     ]
    },
    {
     "name": "stderr",
     "output_type": "stream",
     "text": [
      "Training per zone:   4%|▍         | 12/275 [01:31<33:39,  7.68s/it]"
     ]
    },
    {
     "name": "stdout",
     "output_type": "stream",
     "text": [
      "Trained zone 105, Train Loss: 6.4190, Val Loss: 3.2586\n"
     ]
    },
    {
     "name": "stderr",
     "output_type": "stream",
     "text": [
      "Training per zone:   5%|▍         | 13/275 [01:38<32:32,  7.45s/it]"
     ]
    },
    {
     "name": "stdout",
     "output_type": "stream",
     "text": [
      "Trained zone 106, Train Loss: 7.8422, Val Loss: 3.1100\n"
     ]
    },
    {
     "name": "stderr",
     "output_type": "stream",
     "text": [
      "Training per zone:   5%|▌         | 14/275 [01:46<32:19,  7.43s/it]"
     ]
    },
    {
     "name": "stdout",
     "output_type": "stream",
     "text": [
      "Early stopping for zone 1060 at epoch 21\n",
      "Trained zone 1060, Train Loss: 2.5983, Val Loss: 0.8766\n"
     ]
    },
    {
     "name": "stderr",
     "output_type": "stream",
     "text": [
      "Training per zone:   5%|▌         | 15/275 [01:53<32:37,  7.53s/it]"
     ]
    },
    {
     "name": "stdout",
     "output_type": "stream",
     "text": [
      "Trained zone 1061, Train Loss: 12.9218, Val Loss: 4.8801\n"
     ]
    },
    {
     "name": "stderr",
     "output_type": "stream",
     "text": [
      "Training per zone:   6%|▌         | 16/275 [02:02<33:50,  7.84s/it]"
     ]
    },
    {
     "name": "stdout",
     "output_type": "stream",
     "text": [
      "Trained zone 1062, Train Loss: 11.2702, Val Loss: 4.5680\n"
     ]
    },
    {
     "name": "stderr",
     "output_type": "stream",
     "text": [
      "Training per zone:   6%|▌         | 17/275 [02:08<31:13,  7.26s/it]"
     ]
    },
    {
     "name": "stdout",
     "output_type": "stream",
     "text": [
      "Early stopping for zone 1066 at epoch 16\n",
      "Trained zone 1066, Train Loss: 4.8393, Val Loss: 2.5898\n"
     ]
    },
    {
     "name": "stderr",
     "output_type": "stream",
     "text": [
      "Training per zone:   7%|▋         | 18/275 [02:17<34:04,  7.96s/it]"
     ]
    },
    {
     "name": "stdout",
     "output_type": "stream",
     "text": [
      "Trained zone 1067, Train Loss: 10.9067, Val Loss: 4.5164\n"
     ]
    },
    {
     "name": "stderr",
     "output_type": "stream",
     "text": [
      "Training per zone:   7%|▋         | 19/275 [02:26<34:44,  8.14s/it]"
     ]
    },
    {
     "name": "stdout",
     "output_type": "stream",
     "text": [
      "Early stopping for zone 1068 at epoch 23\n",
      "Trained zone 1068, Train Loss: 66.6391, Val Loss: 18.1010\n"
     ]
    },
    {
     "name": "stderr",
     "output_type": "stream",
     "text": [
      "Training per zone:   7%|▋         | 20/275 [02:34<34:36,  8.14s/it]"
     ]
    },
    {
     "name": "stdout",
     "output_type": "stream",
     "text": [
      "Trained zone 107, Train Loss: 8.7991, Val Loss: 4.5446\n"
     ]
    },
    {
     "name": "stderr",
     "output_type": "stream",
     "text": [
      "Training per zone:   8%|▊         | 21/275 [02:42<33:27,  7.91s/it]"
     ]
    },
    {
     "name": "stdout",
     "output_type": "stream",
     "text": [
      "Trained zone 1071, Train Loss: 27.0924, Val Loss: 7.8041\n"
     ]
    },
    {
     "name": "stderr",
     "output_type": "stream",
     "text": [
      "Training per zone:   8%|▊         | 22/275 [02:49<32:33,  7.72s/it]"
     ]
    },
    {
     "name": "stdout",
     "output_type": "stream",
     "text": [
      "Trained zone 1072, Train Loss: 10.7502, Val Loss: 4.3445\n"
     ]
    },
    {
     "name": "stderr",
     "output_type": "stream",
     "text": [
      "Training per zone:   8%|▊         | 23/275 [02:55<31:02,  7.39s/it]"
     ]
    },
    {
     "name": "stdout",
     "output_type": "stream",
     "text": [
      "Early stopping for zone 1074 at epoch 21\n",
      "Trained zone 1074, Train Loss: 8.2240, Val Loss: 3.9012\n"
     ]
    },
    {
     "name": "stderr",
     "output_type": "stream",
     "text": [
      "Training per zone:   9%|▊         | 24/275 [03:02<29:30,  7.05s/it]"
     ]
    },
    {
     "name": "stdout",
     "output_type": "stream",
     "text": [
      "Early stopping for zone 1075 at epoch 21\n",
      "Trained zone 1075, Train Loss: 4.4055, Val Loss: 2.0625\n"
     ]
    },
    {
     "name": "stderr",
     "output_type": "stream",
     "text": [
      "Training per zone:   9%|▉         | 25/275 [03:08<29:02,  6.97s/it]"
     ]
    },
    {
     "name": "stdout",
     "output_type": "stream",
     "text": [
      "Trained zone 1076, Train Loss: 4.5059, Val Loss: 2.3536\n"
     ]
    },
    {
     "name": "stderr",
     "output_type": "stream",
     "text": [
      "Training per zone:   9%|▉         | 26/275 [03:15<27:54,  6.72s/it]"
     ]
    },
    {
     "name": "stdout",
     "output_type": "stream",
     "text": [
      "Early stopping for zone 108 at epoch 18\n",
      "Trained zone 108, Train Loss: 6.5083, Val Loss: 3.7247\n"
     ]
    },
    {
     "name": "stderr",
     "output_type": "stream",
     "text": [
      "Training per zone:  10%|▉         | 27/275 [03:22<28:43,  6.95s/it]"
     ]
    },
    {
     "name": "stdout",
     "output_type": "stream",
     "text": [
      "Early stopping for zone 1081 at epoch 24\n",
      "Trained zone 1081, Train Loss: 4.4483, Val Loss: 2.1799\n"
     ]
    },
    {
     "name": "stderr",
     "output_type": "stream",
     "text": [
      "Training per zone:  10%|█         | 28/275 [03:32<32:31,  7.90s/it]"
     ]
    },
    {
     "name": "stdout",
     "output_type": "stream",
     "text": [
      "Trained zone 1082, Train Loss: 2.9718, Val Loss: 1.5564\n"
     ]
    },
    {
     "name": "stderr",
     "output_type": "stream",
     "text": [
      "Training per zone:  11%|█         | 29/275 [03:42<34:32,  8.42s/it]"
     ]
    },
    {
     "name": "stdout",
     "output_type": "stream",
     "text": [
      "Trained zone 1083, Train Loss: 13.0209, Val Loss: 5.7142\n"
     ]
    },
    {
     "name": "stderr",
     "output_type": "stream",
     "text": [
      "Training per zone:  11%|█         | 30/275 [03:48<31:23,  7.69s/it]"
     ]
    },
    {
     "name": "stdout",
     "output_type": "stream",
     "text": [
      "Early stopping for zone 1085 at epoch 15\n",
      "Trained zone 1085, Train Loss: 6.6462, Val Loss: 3.2193\n"
     ]
    },
    {
     "name": "stderr",
     "output_type": "stream",
     "text": [
      "Training per zone:  11%|█▏        | 31/275 [03:57<32:56,  8.10s/it]"
     ]
    },
    {
     "name": "stdout",
     "output_type": "stream",
     "text": [
      "Early stopping for zone 1087 at epoch 24\n",
      "Trained zone 1087, Train Loss: 7.2086, Val Loss: 2.7541\n"
     ]
    },
    {
     "name": "stderr",
     "output_type": "stream",
     "text": [
      "Training per zone:  12%|█▏        | 32/275 [04:06<34:02,  8.41s/it]"
     ]
    },
    {
     "name": "stdout",
     "output_type": "stream",
     "text": [
      "Trained zone 1088, Train Loss: 5.0234, Val Loss: 2.8602\n"
     ]
    },
    {
     "name": "stderr",
     "output_type": "stream",
     "text": [
      "Training per zone:  12%|█▏        | 33/275 [04:13<32:42,  8.11s/it]"
     ]
    },
    {
     "name": "stdout",
     "output_type": "stream",
     "text": [
      "Trained zone 109, Train Loss: 4.6570, Val Loss: 2.2767\n"
     ]
    },
    {
     "name": "stderr",
     "output_type": "stream",
     "text": [
      "Training per zone:  12%|█▏        | 34/275 [04:20<31:03,  7.73s/it]"
     ]
    },
    {
     "name": "stdout",
     "output_type": "stream",
     "text": [
      "Early stopping for zone 1090 at epoch 22\n",
      "Trained zone 1090, Train Loss: 3.4066, Val Loss: 1.9994\n"
     ]
    },
    {
     "name": "stderr",
     "output_type": "stream",
     "text": [
      "Training per zone:  13%|█▎        | 35/275 [04:25<27:27,  6.87s/it]"
     ]
    },
    {
     "name": "stdout",
     "output_type": "stream",
     "text": [
      "Early stopping for zone 1092 at epoch 13\n",
      "Trained zone 1092, Train Loss: 3.1802, Val Loss: 1.0450\n"
     ]
    },
    {
     "name": "stderr",
     "output_type": "stream",
     "text": [
      "Training per zone:  13%|█▎        | 36/275 [04:32<27:56,  7.01s/it]"
     ]
    },
    {
     "name": "stdout",
     "output_type": "stream",
     "text": [
      "Trained zone 1094, Train Loss: 3.6682, Val Loss: 1.6661\n"
     ]
    },
    {
     "name": "stderr",
     "output_type": "stream",
     "text": [
      "Training per zone:  13%|█▎        | 37/275 [04:40<28:50,  7.27s/it]"
     ]
    },
    {
     "name": "stdout",
     "output_type": "stream",
     "text": [
      "Trained zone 1095, Train Loss: 4.8131, Val Loss: 2.4442\n"
     ]
    },
    {
     "name": "stderr",
     "output_type": "stream",
     "text": [
      "Training per zone:  14%|█▍        | 38/275 [04:48<28:35,  7.24s/it]"
     ]
    },
    {
     "name": "stdout",
     "output_type": "stream",
     "text": [
      "Trained zone 1096, Train Loss: 6.4011, Val Loss: 3.0781\n"
     ]
    },
    {
     "name": "stderr",
     "output_type": "stream",
     "text": [
      "Training per zone:  14%|█▍        | 39/275 [04:55<28:54,  7.35s/it]"
     ]
    },
    {
     "name": "stdout",
     "output_type": "stream",
     "text": [
      "Trained zone 1098, Train Loss: 380.2486, Val Loss: 101.3568\n"
     ]
    },
    {
     "name": "stderr",
     "output_type": "stream",
     "text": [
      "Training per zone:  15%|█▍        | 40/275 [05:02<28:38,  7.31s/it]"
     ]
    },
    {
     "name": "stdout",
     "output_type": "stream",
     "text": [
      "Trained zone 1099, Train Loss: 3.4257, Val Loss: 1.7469\n"
     ]
    },
    {
     "name": "stderr",
     "output_type": "stream",
     "text": [
      "Training per zone:  15%|█▍        | 41/275 [05:08<26:02,  6.68s/it]"
     ]
    },
    {
     "name": "stdout",
     "output_type": "stream",
     "text": [
      "Early stopping for zone 110 at epoch 15\n",
      "Trained zone 110, Train Loss: 4.9604, Val Loss: 2.2721\n"
     ]
    },
    {
     "name": "stderr",
     "output_type": "stream",
     "text": [
      "Training per zone:  15%|█▌        | 42/275 [05:14<25:49,  6.65s/it]"
     ]
    },
    {
     "name": "stdout",
     "output_type": "stream",
     "text": [
      "Trained zone 1100, Train Loss: 14.0617, Val Loss: 5.7088\n"
     ]
    },
    {
     "name": "stderr",
     "output_type": "stream",
     "text": [
      "Training per zone:  16%|█▌        | 43/275 [05:21<26:15,  6.79s/it]"
     ]
    },
    {
     "name": "stdout",
     "output_type": "stream",
     "text": [
      "Trained zone 1102, Train Loss: 11.2678, Val Loss: 3.9818\n"
     ]
    },
    {
     "name": "stderr",
     "output_type": "stream",
     "text": [
      "Training per zone:  16%|█▌        | 44/275 [05:27<25:18,  6.57s/it]"
     ]
    },
    {
     "name": "stdout",
     "output_type": "stream",
     "text": [
      "Early stopping for zone 1104 at epoch 21\n",
      "Trained zone 1104, Train Loss: 3.6134, Val Loss: 1.4548\n"
     ]
    },
    {
     "name": "stderr",
     "output_type": "stream",
     "text": [
      "Training per zone:  16%|█▋        | 45/275 [05:34<25:06,  6.55s/it]"
     ]
    },
    {
     "name": "stdout",
     "output_type": "stream",
     "text": [
      "Trained zone 1106, Train Loss: 2.5044, Val Loss: 0.9990\n"
     ]
    },
    {
     "name": "stderr",
     "output_type": "stream",
     "text": [
      "Training per zone:  17%|█▋        | 46/275 [05:38<22:25,  5.88s/it]"
     ]
    },
    {
     "name": "stdout",
     "output_type": "stream",
     "text": [
      "Early stopping for zone 1107 at epoch 13\n",
      "Trained zone 1107, Train Loss: 2.4666, Val Loss: 0.9841\n"
     ]
    },
    {
     "name": "stderr",
     "output_type": "stream",
     "text": [
      "Training per zone:  17%|█▋        | 47/275 [05:44<22:15,  5.86s/it]"
     ]
    },
    {
     "name": "stdout",
     "output_type": "stream",
     "text": [
      "Early stopping for zone 1109 at epoch 19\n",
      "Trained zone 1109, Train Loss: 3.4252, Val Loss: 2.1368\n"
     ]
    },
    {
     "name": "stderr",
     "output_type": "stream",
     "text": [
      "Training per zone:  17%|█▋        | 48/275 [05:52<24:11,  6.40s/it]"
     ]
    },
    {
     "name": "stdout",
     "output_type": "stream",
     "text": [
      "Early stopping for zone 111 at epoch 24\n",
      "Trained zone 111, Train Loss: 4.8197, Val Loss: 2.4314\n"
     ]
    },
    {
     "name": "stderr",
     "output_type": "stream",
     "text": [
      "Training per zone:  18%|█▊        | 49/275 [05:57<22:34,  5.99s/it]"
     ]
    },
    {
     "name": "stdout",
     "output_type": "stream",
     "text": [
      "Early stopping for zone 1110 at epoch 15\n",
      "Trained zone 1110, Train Loss: 4.4728, Val Loss: 1.8744\n"
     ]
    },
    {
     "name": "stderr",
     "output_type": "stream",
     "text": [
      "Training per zone:  18%|█▊        | 50/275 [06:04<23:48,  6.35s/it]"
     ]
    },
    {
     "name": "stdout",
     "output_type": "stream",
     "text": [
      "Trained zone 1111, Train Loss: 8.4956, Val Loss: 3.9201\n"
     ]
    },
    {
     "name": "stderr",
     "output_type": "stream",
     "text": [
      "Training per zone:  19%|█▊        | 51/275 [06:11<24:21,  6.52s/it]"
     ]
    },
    {
     "name": "stdout",
     "output_type": "stream",
     "text": [
      "Trained zone 1112, Train Loss: 3.1485, Val Loss: 1.7419\n"
     ]
    },
    {
     "name": "stderr",
     "output_type": "stream",
     "text": [
      "Training per zone:  19%|█▉        | 52/275 [06:18<24:53,  6.70s/it]"
     ]
    },
    {
     "name": "stdout",
     "output_type": "stream",
     "text": [
      "Trained zone 1113, Train Loss: 3.6480, Val Loss: 2.1268\n"
     ]
    },
    {
     "name": "stderr",
     "output_type": "stream",
     "text": [
      "Training per zone:  19%|█▉        | 53/275 [06:23<23:19,  6.30s/it]"
     ]
    },
    {
     "name": "stdout",
     "output_type": "stream",
     "text": [
      "Early stopping for zone 1114 at epoch 18\n",
      "Trained zone 1114, Train Loss: 3.1205, Val Loss: 1.9779\n"
     ]
    },
    {
     "name": "stderr",
     "output_type": "stream",
     "text": [
      "Training per zone:  20%|█▉        | 54/275 [06:30<23:36,  6.41s/it]"
     ]
    },
    {
     "name": "stdout",
     "output_type": "stream",
     "text": [
      "Trained zone 1115, Train Loss: 7.4960, Val Loss: 3.4534\n",
      "Early stopping for zone 1119 at epoch 23\n",
      "Trained zone 1119, Train Loss: 15.5325, Val Loss: 5.2105\n"
     ]
    },
    {
     "name": "stderr",
     "output_type": "stream",
     "text": [
      "Training per zone:  20%|██        | 56/275 [06:43<23:48,  6.52s/it]"
     ]
    },
    {
     "name": "stdout",
     "output_type": "stream",
     "text": [
      "Trained zone 1120, Train Loss: 5.0284, Val Loss: 2.5142\n"
     ]
    },
    {
     "name": "stderr",
     "output_type": "stream",
     "text": [
      "Training per zone:  21%|██        | 57/275 [06:49<22:34,  6.21s/it]"
     ]
    },
    {
     "name": "stdout",
     "output_type": "stream",
     "text": [
      "Early stopping for zone 1121 at epoch 18\n",
      "Trained zone 1121, Train Loss: 7.0562, Val Loss: 2.9437\n"
     ]
    },
    {
     "name": "stderr",
     "output_type": "stream",
     "text": [
      "Training per zone:  21%|██        | 58/275 [06:55<22:15,  6.16s/it]"
     ]
    },
    {
     "name": "stdout",
     "output_type": "stream",
     "text": [
      "Early stopping for zone 1124 at epoch 19\n",
      "Trained zone 1124, Train Loss: 500.5969, Val Loss: 165.1276\n"
     ]
    },
    {
     "name": "stderr",
     "output_type": "stream",
     "text": [
      "Training per zone:  21%|██▏       | 59/275 [06:59<20:45,  5.77s/it]"
     ]
    },
    {
     "name": "stdout",
     "output_type": "stream",
     "text": [
      "Early stopping for zone 1125 at epoch 16\n",
      "Trained zone 1125, Train Loss: 2.9070, Val Loss: 0.8854\n"
     ]
    },
    {
     "name": "stderr",
     "output_type": "stream",
     "text": [
      "Training per zone:  22%|██▏       | 60/275 [07:04<19:33,  5.46s/it]"
     ]
    },
    {
     "name": "stdout",
     "output_type": "stream",
     "text": [
      "Early stopping for zone 1126 at epoch 15\n",
      "Trained zone 1126, Train Loss: 3.7346, Val Loss: 1.9884\n"
     ]
    },
    {
     "name": "stderr",
     "output_type": "stream",
     "text": [
      "Training per zone:  22%|██▏       | 61/275 [07:09<19:06,  5.36s/it]"
     ]
    },
    {
     "name": "stdout",
     "output_type": "stream",
     "text": [
      "Early stopping for zone 1130 at epoch 17\n",
      "Trained zone 1130, Train Loss: 3.2925, Val Loss: 0.4807\n"
     ]
    },
    {
     "name": "stderr",
     "output_type": "stream",
     "text": [
      "Training per zone:  23%|██▎       | 62/275 [07:16<20:12,  5.69s/it]"
     ]
    },
    {
     "name": "stdout",
     "output_type": "stream",
     "text": [
      "Trained zone 1134, Train Loss: 3.2717, Val Loss: 1.8718\n"
     ]
    },
    {
     "name": "stderr",
     "output_type": "stream",
     "text": [
      "Training per zone:  23%|██▎       | 63/275 [07:22<20:59,  5.94s/it]"
     ]
    },
    {
     "name": "stdout",
     "output_type": "stream",
     "text": [
      "Trained zone 1135, Train Loss: 2.9474, Val Loss: 1.1922\n"
     ]
    },
    {
     "name": "stderr",
     "output_type": "stream",
     "text": [
      "Training per zone:  23%|██▎       | 64/275 [07:28<20:55,  5.95s/it]"
     ]
    },
    {
     "name": "stdout",
     "output_type": "stream",
     "text": [
      "Early stopping for zone 1137 at epoch 21\n",
      "Trained zone 1137, Train Loss: 28.7601, Val Loss: 9.5458\n"
     ]
    },
    {
     "name": "stderr",
     "output_type": "stream",
     "text": [
      "Training per zone:  24%|██▎       | 65/275 [07:35<21:19,  6.09s/it]"
     ]
    },
    {
     "name": "stdout",
     "output_type": "stream",
     "text": [
      "Trained zone 1138, Train Loss: 3.0908, Val Loss: 0.9779\n"
     ]
    },
    {
     "name": "stderr",
     "output_type": "stream",
     "text": [
      "Training per zone:  24%|██▍       | 66/275 [07:41<21:39,  6.22s/it]"
     ]
    },
    {
     "name": "stdout",
     "output_type": "stream",
     "text": [
      "Trained zone 1143, Train Loss: 3.5361, Val Loss: 1.5353\n"
     ]
    },
    {
     "name": "stderr",
     "output_type": "stream",
     "text": [
      "Training per zone:  24%|██▍       | 67/275 [07:48<22:25,  6.47s/it]"
     ]
    },
    {
     "name": "stdout",
     "output_type": "stream",
     "text": [
      "Early stopping for zone 1144 at epoch 23\n",
      "Trained zone 1144, Train Loss: 8.8718, Val Loss: 4.3859\n"
     ]
    },
    {
     "name": "stderr",
     "output_type": "stream",
     "text": [
      "Training per zone:  25%|██▍       | 68/275 [07:55<22:38,  6.56s/it]"
     ]
    },
    {
     "name": "stdout",
     "output_type": "stream",
     "text": [
      "Early stopping for zone 1149 at epoch 22\n",
      "Trained zone 1149, Train Loss: 10.8884, Val Loss: 4.6699\n"
     ]
    },
    {
     "name": "stderr",
     "output_type": "stream",
     "text": [
      "Training per zone:  25%|██▌       | 69/275 [08:02<22:58,  6.69s/it]"
     ]
    },
    {
     "name": "stdout",
     "output_type": "stream",
     "text": [
      "Trained zone 115, Train Loss: 3.4410, Val Loss: 0.8338\n"
     ]
    },
    {
     "name": "stderr",
     "output_type": "stream",
     "text": [
      "Training per zone:  25%|██▌       | 70/275 [08:09<23:33,  6.90s/it]"
     ]
    },
    {
     "name": "stdout",
     "output_type": "stream",
     "text": [
      "Trained zone 1154, Train Loss: 2.5420, Val Loss: 1.3191\n"
     ]
    },
    {
     "name": "stderr",
     "output_type": "stream",
     "text": [
      "Training per zone:  26%|██▌       | 71/275 [08:16<23:14,  6.84s/it]"
     ]
    },
    {
     "name": "stdout",
     "output_type": "stream",
     "text": [
      "Trained zone 1156, Train Loss: 3.0264, Val Loss: 1.6034\n"
     ]
    },
    {
     "name": "stderr",
     "output_type": "stream",
     "text": [
      "Training per zone:  26%|██▌       | 72/275 [08:23<23:20,  6.90s/it]"
     ]
    },
    {
     "name": "stdout",
     "output_type": "stream",
     "text": [
      "Trained zone 1159, Train Loss: 13.7378, Val Loss: 4.6107\n"
     ]
    },
    {
     "name": "stderr",
     "output_type": "stream",
     "text": [
      "Training per zone:  27%|██▋       | 73/275 [08:30<22:56,  6.82s/it]"
     ]
    },
    {
     "name": "stdout",
     "output_type": "stream",
     "text": [
      "Trained zone 1162, Train Loss: 4.0498, Val Loss: 2.2559\n"
     ]
    },
    {
     "name": "stderr",
     "output_type": "stream",
     "text": [
      "Training per zone:  27%|██▋       | 74/275 [08:35<20:41,  6.17s/it]"
     ]
    },
    {
     "name": "stdout",
     "output_type": "stream",
     "text": [
      "Early stopping for zone 1163 at epoch 14\n",
      "Trained zone 1163, Train Loss: 3.2707, Val Loss: 1.5855\n"
     ]
    },
    {
     "name": "stderr",
     "output_type": "stream",
     "text": [
      "Training per zone:  27%|██▋       | 75/275 [08:41<21:07,  6.34s/it]"
     ]
    },
    {
     "name": "stdout",
     "output_type": "stream",
     "text": [
      "Trained zone 1164, Train Loss: 27.8454, Val Loss: 8.1788\n"
     ]
    },
    {
     "name": "stderr",
     "output_type": "stream",
     "text": [
      "Training per zone:  28%|██▊       | 76/275 [08:47<20:08,  6.08s/it]"
     ]
    },
    {
     "name": "stdout",
     "output_type": "stream",
     "text": [
      "Early stopping for zone 1166 at epoch 18\n",
      "Trained zone 1166, Train Loss: 17.1613, Val Loss: 5.8897\n"
     ]
    },
    {
     "name": "stderr",
     "output_type": "stream",
     "text": [
      "C:\\Users\\shrey\\AppData\\Local\\Temp\\ipykernel_28632\\2385450052.py:108: RuntimeWarning: overflow encountered in expm1\n",
      "  train_preds_unscaled = np.expm1(scalers[target].inverse_transform(np.concatenate(all_train_preds).reshape(-1, 1)))\n",
      "Training per zone:  28%|██▊       | 77/275 [08:52<19:44,  5.98s/it]"
     ]
    },
    {
     "name": "stdout",
     "output_type": "stream",
     "text": [
      "Early stopping for zone 1167 at epoch 18\n",
      "Failed for zone 1167: Input contains infinity or a value too large for dtype('float32').\n"
     ]
    },
    {
     "name": "stderr",
     "output_type": "stream",
     "text": [
      "Training per zone:  28%|██▊       | 78/275 [08:59<20:12,  6.16s/it]"
     ]
    },
    {
     "name": "stdout",
     "output_type": "stream",
     "text": [
      "Trained zone 1168, Train Loss: 11.1144, Val Loss: 4.6765\n"
     ]
    },
    {
     "name": "stderr",
     "output_type": "stream",
     "text": [
      "Training per zone:  29%|██▊       | 79/275 [09:05<20:19,  6.22s/it]"
     ]
    },
    {
     "name": "stdout",
     "output_type": "stream",
     "text": [
      "Early stopping for zone 1172 at epoch 23\n",
      "Trained zone 1172, Train Loss: 2.4238, Val Loss: 1.0578\n"
     ]
    },
    {
     "name": "stderr",
     "output_type": "stream",
     "text": [
      "Training per zone:  29%|██▉       | 80/275 [09:11<19:49,  6.10s/it]"
     ]
    },
    {
     "name": "stdout",
     "output_type": "stream",
     "text": [
      "Early stopping for zone 1173 at epoch 20\n",
      "Trained zone 1173, Train Loss: 5.7938, Val Loss: 2.6340\n"
     ]
    },
    {
     "name": "stderr",
     "output_type": "stream",
     "text": [
      "Training per zone:  29%|██▉       | 81/275 [09:18<20:05,  6.22s/it]"
     ]
    },
    {
     "name": "stdout",
     "output_type": "stream",
     "text": [
      "Trained zone 123, Train Loss: 2.9504, Val Loss: 1.3822\n"
     ]
    },
    {
     "name": "stderr",
     "output_type": "stream",
     "text": [
      "Training per zone:  30%|██▉       | 82/275 [09:23<18:54,  5.88s/it]"
     ]
    },
    {
     "name": "stdout",
     "output_type": "stream",
     "text": [
      "Early stopping for zone 124 at epoch 17\n",
      "Trained zone 124, Train Loss: 7.2689, Val Loss: 3.3918\n"
     ]
    },
    {
     "name": "stderr",
     "output_type": "stream",
     "text": [
      "Training per zone:  30%|███       | 83/275 [09:30<20:08,  6.29s/it]"
     ]
    },
    {
     "name": "stdout",
     "output_type": "stream",
     "text": [
      "Trained zone 202, Train Loss: 4.4685, Val Loss: 2.2889\n"
     ]
    },
    {
     "name": "stderr",
     "output_type": "stream",
     "text": [
      "Training per zone:  31%|███       | 84/275 [09:36<19:49,  6.23s/it]"
     ]
    },
    {
     "name": "stdout",
     "output_type": "stream",
     "text": [
      "Early stopping for zone 204 at epoch 19\n",
      "Trained zone 204, Train Loss: 4.2699, Val Loss: 2.2415\n"
     ]
    },
    {
     "name": "stderr",
     "output_type": "stream",
     "text": [
      "Training per zone:  31%|███       | 85/275 [09:41<18:19,  5.78s/it]"
     ]
    },
    {
     "name": "stdout",
     "output_type": "stream",
     "text": [
      "Early stopping for zone 205 at epoch 13\n",
      "Trained zone 205, Train Loss: 4.3434, Val Loss: 1.7313\n"
     ]
    },
    {
     "name": "stderr",
     "output_type": "stream",
     "text": [
      "Training per zone:  31%|███▏      | 86/275 [09:49<20:30,  6.51s/it]"
     ]
    },
    {
     "name": "stdout",
     "output_type": "stream",
     "text": [
      "Trained zone 206, Train Loss: 23.1438, Val Loss: 9.6946\n"
     ]
    },
    {
     "name": "stderr",
     "output_type": "stream",
     "text": [
      "Training per zone:  32%|███▏      | 87/275 [09:57<21:16,  6.79s/it]"
     ]
    },
    {
     "name": "stdout",
     "output_type": "stream",
     "text": [
      "Trained zone 208, Train Loss: 3.7472, Val Loss: 1.5947\n"
     ]
    },
    {
     "name": "stderr",
     "output_type": "stream",
     "text": [
      "Training per zone:  32%|███▏      | 88/275 [10:01<19:26,  6.24s/it]"
     ]
    },
    {
     "name": "stdout",
     "output_type": "stream",
     "text": [
      "Early stopping for zone 212 at epoch 12\n",
      "Trained zone 212, Train Loss: 4.0869, Val Loss: 1.2459\n"
     ]
    },
    {
     "name": "stderr",
     "output_type": "stream",
     "text": [
      "Training per zone:  32%|███▏      | 89/275 [10:08<19:30,  6.29s/it]"
     ]
    },
    {
     "name": "stdout",
     "output_type": "stream",
     "text": [
      "Early stopping for zone 213 at epoch 18\n",
      "Trained zone 213, Train Loss: 5.8537, Val Loss: 2.8968\n"
     ]
    },
    {
     "name": "stderr",
     "output_type": "stream",
     "text": [
      "Training per zone:  33%|███▎      | 90/275 [10:15<19:45,  6.41s/it]"
     ]
    },
    {
     "name": "stdout",
     "output_type": "stream",
     "text": [
      "Early stopping for zone 214 at epoch 22\n",
      "Trained zone 214, Train Loss: 2.8910, Val Loss: 0.5099\n",
      "Trained zone 215, Train Loss: 6.1208, Val Loss: 2.8217\n"
     ]
    },
    {
     "name": "stderr",
     "output_type": "stream",
     "text": [
      "Training per zone:  33%|███▎      | 92/275 [10:28<19:50,  6.51s/it]"
     ]
    },
    {
     "name": "stdout",
     "output_type": "stream",
     "text": [
      "Early stopping for zone 216 at epoch 18\n",
      "Trained zone 216, Train Loss: 4.2972, Val Loss: 2.5044\n"
     ]
    },
    {
     "name": "stderr",
     "output_type": "stream",
     "text": [
      "Training per zone:  34%|███▍      | 93/275 [10:36<20:38,  6.81s/it]"
     ]
    },
    {
     "name": "stdout",
     "output_type": "stream",
     "text": [
      "Trained zone 217, Train Loss: 59.1328, Val Loss: 16.3709\n"
     ]
    },
    {
     "name": "stderr",
     "output_type": "stream",
     "text": [
      "Training per zone:  34%|███▍      | 94/275 [10:43<21:23,  7.09s/it]"
     ]
    },
    {
     "name": "stdout",
     "output_type": "stream",
     "text": [
      "Trained zone 223, Train Loss: 37.7582, Val Loss: 12.0931\n"
     ]
    },
    {
     "name": "stderr",
     "output_type": "stream",
     "text": [
      "Training per zone:  35%|███▍      | 95/275 [10:50<21:16,  7.09s/it]"
     ]
    },
    {
     "name": "stdout",
     "output_type": "stream",
     "text": [
      "Early stopping for zone 224 at epoch 23\n",
      "Trained zone 224, Train Loss: 18.1783, Val Loss: 6.6466\n"
     ]
    },
    {
     "name": "stderr",
     "output_type": "stream",
     "text": [
      "Training per zone:  35%|███▍      | 96/275 [10:58<21:20,  7.16s/it]"
     ]
    },
    {
     "name": "stdout",
     "output_type": "stream",
     "text": [
      "Trained zone 225, Train Loss: 3.1205, Val Loss: 1.3959\n"
     ]
    },
    {
     "name": "stderr",
     "output_type": "stream",
     "text": [
      "Training per zone:  35%|███▌      | 97/275 [11:06<21:50,  7.36s/it]"
     ]
    },
    {
     "name": "stdout",
     "output_type": "stream",
     "text": [
      "Early stopping for zone 226 at epoch 24\n",
      "Trained zone 226, Train Loss: 70.6000, Val Loss: 23.6267\n"
     ]
    },
    {
     "name": "stderr",
     "output_type": "stream",
     "text": [
      "Training per zone:  36%|███▌      | 98/275 [11:13<21:28,  7.28s/it]"
     ]
    },
    {
     "name": "stdout",
     "output_type": "stream",
     "text": [
      "Trained zone 227, Train Loss: 22.6547, Val Loss: 7.8918\n"
     ]
    },
    {
     "name": "stderr",
     "output_type": "stream",
     "text": [
      "Training per zone:  36%|███▌      | 99/275 [11:19<20:45,  7.08s/it]"
     ]
    },
    {
     "name": "stdout",
     "output_type": "stream",
     "text": [
      "Trained zone 235, Train Loss: 8.5660, Val Loss: 3.9857\n"
     ]
    },
    {
     "name": "stderr",
     "output_type": "stream",
     "text": [
      "Training per zone:  36%|███▋      | 100/275 [11:26<20:12,  6.93s/it]"
     ]
    },
    {
     "name": "stdout",
     "output_type": "stream",
     "text": [
      "Trained zone 307, Train Loss: 43.6015, Val Loss: 10.4256\n"
     ]
    },
    {
     "name": "stderr",
     "output_type": "stream",
     "text": [
      "Training per zone:  37%|███▋      | 101/275 [11:32<19:37,  6.77s/it]"
     ]
    },
    {
     "name": "stdout",
     "output_type": "stream",
     "text": [
      "Early stopping for zone 309 at epoch 20\n",
      "Trained zone 309, Train Loss: 6.5952, Val Loss: 3.2323\n"
     ]
    },
    {
     "name": "stderr",
     "output_type": "stream",
     "text": [
      "Training per zone:  37%|███▋      | 102/275 [11:38<18:37,  6.46s/it]"
     ]
    },
    {
     "name": "stdout",
     "output_type": "stream",
     "text": [
      "Early stopping for zone 310 at epoch 20\n",
      "Trained zone 310, Train Loss: 2.6981, Val Loss: 0.9499\n"
     ]
    },
    {
     "name": "stderr",
     "output_type": "stream",
     "text": [
      "Training per zone:  37%|███▋      | 103/275 [11:42<16:20,  5.70s/it]"
     ]
    },
    {
     "name": "stdout",
     "output_type": "stream",
     "text": [
      "Early stopping for zone 311 at epoch 10\n",
      "Trained zone 311, Train Loss: 6.6847, Val Loss: 2.9177\n"
     ]
    },
    {
     "name": "stderr",
     "output_type": "stream",
     "text": [
      "Training per zone:  38%|███▊      | 104/275 [11:48<16:51,  5.92s/it]"
     ]
    },
    {
     "name": "stdout",
     "output_type": "stream",
     "text": [
      "Early stopping for zone 316 at epoch 21\n",
      "Trained zone 316, Train Loss: 2.3792, Val Loss: 0.9892\n"
     ]
    },
    {
     "name": "stderr",
     "output_type": "stream",
     "text": [
      "Training per zone:  38%|███▊      | 105/275 [11:55<17:50,  6.30s/it]"
     ]
    },
    {
     "name": "stdout",
     "output_type": "stream",
     "text": [
      "Trained zone 320, Train Loss: 3.9109, Val Loss: 1.2797\n"
     ]
    },
    {
     "name": "stderr",
     "output_type": "stream",
     "text": [
      "Training per zone:  39%|███▊      | 106/275 [12:02<18:17,  6.49s/it]"
     ]
    },
    {
     "name": "stdout",
     "output_type": "stream",
     "text": [
      "Trained zone 321, Train Loss: 6.6467, Val Loss: 2.9985\n"
     ]
    },
    {
     "name": "stderr",
     "output_type": "stream",
     "text": [
      "Training per zone:  39%|███▉      | 107/275 [12:09<18:35,  6.64s/it]"
     ]
    },
    {
     "name": "stdout",
     "output_type": "stream",
     "text": [
      "Trained zone 322, Train Loss: 4.0714, Val Loss: 2.5648\n"
     ]
    },
    {
     "name": "stderr",
     "output_type": "stream",
     "text": [
      "Training per zone:  39%|███▉      | 108/275 [12:16<18:31,  6.66s/it]"
     ]
    },
    {
     "name": "stdout",
     "output_type": "stream",
     "text": [
      "Trained zone 323, Train Loss: 23.3228, Val Loss: 9.0921\n"
     ]
    },
    {
     "name": "stderr",
     "output_type": "stream",
     "text": [
      "Training per zone:  40%|███▉      | 109/275 [12:23<18:28,  6.68s/it]"
     ]
    },
    {
     "name": "stdout",
     "output_type": "stream",
     "text": [
      "Trained zone 324, Train Loss: 5.1557, Val Loss: 2.5480\n"
     ]
    },
    {
     "name": "stderr",
     "output_type": "stream",
     "text": [
      "Training per zone:  40%|████      | 110/275 [12:30<18:42,  6.81s/it]"
     ]
    },
    {
     "name": "stdout",
     "output_type": "stream",
     "text": [
      "Trained zone 325, Train Loss: 10.6989, Val Loss: 4.0142\n"
     ]
    },
    {
     "name": "stderr",
     "output_type": "stream",
     "text": [
      "Training per zone:  40%|████      | 111/275 [12:37<18:28,  6.76s/it]"
     ]
    },
    {
     "name": "stdout",
     "output_type": "stream",
     "text": [
      "Trained zone 326, Train Loss: 18.4790, Val Loss: 7.8912\n"
     ]
    },
    {
     "name": "stderr",
     "output_type": "stream",
     "text": [
      "Training per zone:  41%|████      | 112/275 [12:42<17:10,  6.32s/it]"
     ]
    },
    {
     "name": "stdout",
     "output_type": "stream",
     "text": [
      "Early stopping for zone 328 at epoch 16\n",
      "Trained zone 328, Train Loss: 21.4295, Val Loss: 7.3231\n"
     ]
    },
    {
     "name": "stderr",
     "output_type": "stream",
     "text": [
      "Training per zone:  41%|████      | 113/275 [12:48<17:11,  6.37s/it]"
     ]
    },
    {
     "name": "stdout",
     "output_type": "stream",
     "text": [
      "Trained zone 329, Train Loss: 107.1614, Val Loss: 25.2326\n"
     ]
    },
    {
     "name": "stderr",
     "output_type": "stream",
     "text": [
      "Training per zone:  41%|████▏     | 114/275 [12:55<17:08,  6.39s/it]"
     ]
    },
    {
     "name": "stdout",
     "output_type": "stream",
     "text": [
      "Trained zone 330, Train Loss: 6.6180, Val Loss: 2.7423\n"
     ]
    },
    {
     "name": "stderr",
     "output_type": "stream",
     "text": [
      "Training per zone:  42%|████▏     | 115/275 [12:59<15:24,  5.78s/it]"
     ]
    },
    {
     "name": "stdout",
     "output_type": "stream",
     "text": [
      "Early stopping for zone 331 at epoch 13\n",
      "Trained zone 331, Train Loss: 13.7306, Val Loss: 9.6191\n"
     ]
    },
    {
     "name": "stderr",
     "output_type": "stream",
     "text": [
      "Training per zone:  42%|████▏     | 116/275 [13:06<15:57,  6.02s/it]"
     ]
    },
    {
     "name": "stdout",
     "output_type": "stream",
     "text": [
      "Trained zone 332, Train Loss: 26.4047, Val Loss: 9.9633\n"
     ]
    },
    {
     "name": "stderr",
     "output_type": "stream",
     "text": [
      "Training per zone:  43%|████▎     | 117/275 [13:12<16:20,  6.21s/it]"
     ]
    },
    {
     "name": "stdout",
     "output_type": "stream",
     "text": [
      "Trained zone 333, Train Loss: 3.9177, Val Loss: 1.9123\n"
     ]
    },
    {
     "name": "stderr",
     "output_type": "stream",
     "text": [
      "Training per zone:  43%|████▎     | 118/275 [13:19<16:37,  6.36s/it]"
     ]
    },
    {
     "name": "stdout",
     "output_type": "stream",
     "text": [
      "Early stopping for zone 335 at epoch 22\n",
      "Trained zone 335, Train Loss: 97.4306, Val Loss: 27.6308\n"
     ]
    },
    {
     "name": "stderr",
     "output_type": "stream",
     "text": [
      "Training per zone:  43%|████▎     | 119/275 [13:26<17:02,  6.56s/it]"
     ]
    },
    {
     "name": "stdout",
     "output_type": "stream",
     "text": [
      "Early stopping for zone 340 at epoch 24\n",
      "Trained zone 340, Train Loss: 1.2880, Val Loss: 0.3275\n"
     ]
    },
    {
     "name": "stderr",
     "output_type": "stream",
     "text": [
      "Training per zone:  44%|████▎     | 120/275 [13:33<16:51,  6.53s/it]"
     ]
    },
    {
     "name": "stdout",
     "output_type": "stream",
     "text": [
      "Trained zone 343, Train Loss: 7.8509, Val Loss: 4.0815\n"
     ]
    },
    {
     "name": "stderr",
     "output_type": "stream",
     "text": [
      "Training per zone:  44%|████▍     | 121/275 [13:40<17:14,  6.72s/it]"
     ]
    },
    {
     "name": "stdout",
     "output_type": "stream",
     "text": [
      "Trained zone 346, Train Loss: 1051.0560, Val Loss: 277.3640\n"
     ]
    },
    {
     "name": "stderr",
     "output_type": "stream",
     "text": [
      "Training per zone:  44%|████▍     | 122/275 [13:46<17:02,  6.69s/it]"
     ]
    },
    {
     "name": "stdout",
     "output_type": "stream",
     "text": [
      "Trained zone 347, Train Loss: 4.0099, Val Loss: 1.8156\n"
     ]
    },
    {
     "name": "stderr",
     "output_type": "stream",
     "text": [
      "Training per zone:  45%|████▍     | 123/275 [13:53<16:49,  6.64s/it]"
     ]
    },
    {
     "name": "stdout",
     "output_type": "stream",
     "text": [
      "Early stopping for zone 348 at epoch 24\n",
      "Trained zone 348, Train Loss: 3.7693, Val Loss: 1.4582\n"
     ]
    },
    {
     "name": "stderr",
     "output_type": "stream",
     "text": [
      "Training per zone:  45%|████▌     | 124/275 [13:59<16:34,  6.59s/it]"
     ]
    },
    {
     "name": "stdout",
     "output_type": "stream",
     "text": [
      "Trained zone 406, Train Loss: 2.3735, Val Loss: 1.2575\n"
     ]
    },
    {
     "name": "stderr",
     "output_type": "stream",
     "text": [
      "Training per zone:  45%|████▌     | 125/275 [14:06<16:26,  6.57s/it]"
     ]
    },
    {
     "name": "stdout",
     "output_type": "stream",
     "text": [
      "Trained zone 408, Train Loss: 4.3465, Val Loss: 2.1274\n"
     ]
    },
    {
     "name": "stderr",
     "output_type": "stream",
     "text": [
      "Training per zone:  46%|████▌     | 126/275 [14:12<16:18,  6.57s/it]"
     ]
    },
    {
     "name": "stdout",
     "output_type": "stream",
     "text": [
      "Trained zone 501, Train Loss: 14.2367, Val Loss: 5.5695\n"
     ]
    },
    {
     "name": "stderr",
     "output_type": "stream",
     "text": [
      "Training per zone:  46%|████▌     | 127/275 [14:20<16:36,  6.74s/it]"
     ]
    },
    {
     "name": "stdout",
     "output_type": "stream",
     "text": [
      "Trained zone 502, Train Loss: 26.1759, Val Loss: 8.9458\n"
     ]
    },
    {
     "name": "stderr",
     "output_type": "stream",
     "text": [
      "Training per zone:  47%|████▋     | 128/275 [14:27<16:46,  6.85s/it]"
     ]
    },
    {
     "name": "stdout",
     "output_type": "stream",
     "text": [
      "Trained zone 506, Train Loss: 95.9223, Val Loss: 28.3506\n"
     ]
    },
    {
     "name": "stderr",
     "output_type": "stream",
     "text": [
      "Training per zone:  47%|████▋     | 129/275 [14:34<17:15,  7.09s/it]"
     ]
    },
    {
     "name": "stdout",
     "output_type": "stream",
     "text": [
      "Trained zone 508, Train Loss: 6.0818, Val Loss: 3.0619\n"
     ]
    },
    {
     "name": "stderr",
     "output_type": "stream",
     "text": [
      "Training per zone:  47%|████▋     | 130/275 [14:40<16:12,  6.71s/it]"
     ]
    },
    {
     "name": "stdout",
     "output_type": "stream",
     "text": [
      "Early stopping for zone 511 at epoch 15\n",
      "Trained zone 511, Train Loss: 1.9905, Val Loss: 0.8129\n",
      "Early stopping for zone 512 at epoch 22\n",
      "Trained zone 512, Train Loss: 12.4496, Val Loss: 5.6767\n"
     ]
    },
    {
     "name": "stderr",
     "output_type": "stream",
     "text": [
      "Training per zone:  48%|████▊     | 132/275 [14:56<17:34,  7.38s/it]"
     ]
    },
    {
     "name": "stdout",
     "output_type": "stream",
     "text": [
      "Trained zone 513, Train Loss: 89.0009, Val Loss: 28.5027\n"
     ]
    },
    {
     "name": "stderr",
     "output_type": "stream",
     "text": [
      "Training per zone:  48%|████▊     | 133/275 [15:03<16:52,  7.13s/it]"
     ]
    },
    {
     "name": "stdout",
     "output_type": "stream",
     "text": [
      "Early stopping for zone 516 at epoch 17\n",
      "Trained zone 516, Train Loss: 61.2506, Val Loss: 17.3658\n"
     ]
    },
    {
     "name": "stderr",
     "output_type": "stream",
     "text": [
      "Training per zone:  49%|████▊     | 134/275 [15:09<16:05,  6.85s/it]"
     ]
    },
    {
     "name": "stdout",
     "output_type": "stream",
     "text": [
      "Early stopping for zone 519 at epoch 15\n",
      "Trained zone 519, Train Loss: 728.7858, Val Loss: 195.5412\n"
     ]
    },
    {
     "name": "stderr",
     "output_type": "stream",
     "text": [
      "Training per zone:  49%|████▉     | 135/275 [15:15<15:35,  6.68s/it]"
     ]
    },
    {
     "name": "stdout",
     "output_type": "stream",
     "text": [
      "Early stopping for zone 520 at epoch 16\n",
      "Trained zone 520, Train Loss: 28.5090, Val Loss: 10.5966\n"
     ]
    },
    {
     "name": "stderr",
     "output_type": "stream",
     "text": [
      "Training per zone:  49%|████▉     | 136/275 [15:24<16:41,  7.21s/it]"
     ]
    },
    {
     "name": "stdout",
     "output_type": "stream",
     "text": [
      "Trained zone 522, Train Loss: 54.0123, Val Loss: 14.9712\n"
     ]
    },
    {
     "name": "stderr",
     "output_type": "stream",
     "text": [
      "Training per zone:  50%|████▉     | 137/275 [15:32<17:24,  7.57s/it]"
     ]
    },
    {
     "name": "stdout",
     "output_type": "stream",
     "text": [
      "Trained zone 525, Train Loss: 15.0745, Val Loss: 5.8629\n"
     ]
    },
    {
     "name": "stderr",
     "output_type": "stream",
     "text": [
      "Training per zone:  50%|█████     | 138/275 [15:40<17:47,  7.79s/it]"
     ]
    },
    {
     "name": "stdout",
     "output_type": "stream",
     "text": [
      "Early stopping for zone 526 at epoch 24\n",
      "Trained zone 526, Train Loss: 99.9174, Val Loss: 28.2727\n"
     ]
    },
    {
     "name": "stderr",
     "output_type": "stream",
     "text": [
      "Training per zone:  51%|█████     | 139/275 [15:48<17:28,  7.71s/it]"
     ]
    },
    {
     "name": "stdout",
     "output_type": "stream",
     "text": [
      "Early stopping for zone 527 at epoch 20\n",
      "Trained zone 527, Train Loss: 47.9324, Val Loss: 12.1091\n"
     ]
    },
    {
     "name": "stderr",
     "output_type": "stream",
     "text": [
      "Training per zone:  51%|█████     | 140/275 [15:56<17:31,  7.79s/it]"
     ]
    },
    {
     "name": "stdout",
     "output_type": "stream",
     "text": [
      "Trained zone 528, Train Loss: 3.7522, Val Loss: 1.7431\n"
     ]
    },
    {
     "name": "stderr",
     "output_type": "stream",
     "text": [
      "Training per zone:  51%|█████▏    | 141/275 [16:03<16:49,  7.53s/it]"
     ]
    },
    {
     "name": "stdout",
     "output_type": "stream",
     "text": [
      "Early stopping for zone 529 at epoch 21\n",
      "Trained zone 529, Train Loss: 9.9391, Val Loss: 4.8552\n"
     ]
    },
    {
     "name": "stderr",
     "output_type": "stream",
     "text": [
      "Training per zone:  52%|█████▏    | 142/275 [16:10<16:43,  7.54s/it]"
     ]
    },
    {
     "name": "stdout",
     "output_type": "stream",
     "text": [
      "Early stopping for zone 552 at epoch 24\n",
      "Trained zone 552, Train Loss: 16.1699, Val Loss: 6.3242\n"
     ]
    },
    {
     "name": "stderr",
     "output_type": "stream",
     "text": [
      "Training per zone:  52%|█████▏    | 143/275 [16:16<15:35,  7.09s/it]"
     ]
    },
    {
     "name": "stdout",
     "output_type": "stream",
     "text": [
      "Early stopping for zone 553 at epoch 17\n",
      "Trained zone 553, Train Loss: 3.6017, Val Loss: 1.3226\n"
     ]
    },
    {
     "name": "stderr",
     "output_type": "stream",
     "text": [
      "Training per zone:  52%|█████▏    | 144/275 [16:23<15:06,  6.92s/it]"
     ]
    },
    {
     "name": "stdout",
     "output_type": "stream",
     "text": [
      "Early stopping for zone 558 at epoch 19\n",
      "Trained zone 558, Train Loss: 3.1546, Val Loss: 1.0678\n"
     ]
    },
    {
     "name": "stderr",
     "output_type": "stream",
     "text": [
      "Training per zone:  53%|█████▎    | 145/275 [16:30<15:22,  7.10s/it]"
     ]
    },
    {
     "name": "stdout",
     "output_type": "stream",
     "text": [
      "Trained zone 559, Train Loss: 2.7033, Val Loss: 0.8631\n"
     ]
    },
    {
     "name": "stderr",
     "output_type": "stream",
     "text": [
      "Training per zone:  53%|█████▎    | 146/275 [16:38<15:35,  7.25s/it]"
     ]
    },
    {
     "name": "stdout",
     "output_type": "stream",
     "text": [
      "Trained zone 568, Train Loss: 2.1821, Val Loss: 0.7978\n"
     ]
    },
    {
     "name": "stderr",
     "output_type": "stream",
     "text": [
      "Training per zone:  53%|█████▎    | 147/275 [16:43<14:11,  6.65s/it]"
     ]
    },
    {
     "name": "stdout",
     "output_type": "stream",
     "text": [
      "Early stopping for zone 570 at epoch 13\n",
      "Trained zone 570, Train Loss: 12.6628, Val Loss: 4.8231\n"
     ]
    },
    {
     "name": "stderr",
     "output_type": "stream",
     "text": [
      "Training per zone:  54%|█████▍    | 148/275 [16:50<14:03,  6.64s/it]"
     ]
    },
    {
     "name": "stdout",
     "output_type": "stream",
     "text": [
      "Early stopping for zone 575 at epoch 17\n",
      "Trained zone 575, Train Loss: 325.7024, Val Loss: 87.5631\n"
     ]
    },
    {
     "name": "stderr",
     "output_type": "stream",
     "text": [
      "Training per zone:  54%|█████▍    | 149/275 [16:58<15:07,  7.20s/it]"
     ]
    },
    {
     "name": "stdout",
     "output_type": "stream",
     "text": [
      "Trained zone 576, Train Loss: 446.0796, Val Loss: 104.1342\n"
     ]
    },
    {
     "name": "stderr",
     "output_type": "stream",
     "text": [
      "Training per zone:  55%|█████▍    | 150/275 [17:06<15:27,  7.42s/it]"
     ]
    },
    {
     "name": "stdout",
     "output_type": "stream",
     "text": [
      "Trained zone 577, Train Loss: 5.3164, Val Loss: 2.9672\n"
     ]
    },
    {
     "name": "stderr",
     "output_type": "stream",
     "text": [
      "Training per zone:  55%|█████▍    | 151/275 [17:14<15:32,  7.52s/it]"
     ]
    },
    {
     "name": "stdout",
     "output_type": "stream",
     "text": [
      "Trained zone 578, Train Loss: 2.8432, Val Loss: 0.9998\n"
     ]
    },
    {
     "name": "stderr",
     "output_type": "stream",
     "text": [
      "Training per zone:  55%|█████▌    | 152/275 [17:22<15:35,  7.61s/it]"
     ]
    },
    {
     "name": "stdout",
     "output_type": "stream",
     "text": [
      "Trained zone 580, Train Loss: 2.3339, Val Loss: 1.1354\n"
     ]
    },
    {
     "name": "stderr",
     "output_type": "stream",
     "text": [
      "Training per zone:  56%|█████▌    | 153/275 [17:29<15:14,  7.50s/it]"
     ]
    },
    {
     "name": "stdout",
     "output_type": "stream",
     "text": [
      "Early stopping for zone 582 at epoch 19\n",
      "Trained zone 582, Train Loss: 27.0099, Val Loss: 11.4855\n"
     ]
    },
    {
     "name": "stderr",
     "output_type": "stream",
     "text": [
      "Training per zone:  56%|█████▌    | 154/275 [17:36<14:49,  7.35s/it]"
     ]
    },
    {
     "name": "stdout",
     "output_type": "stream",
     "text": [
      "Early stopping for zone 584 at epoch 21\n",
      "Trained zone 584, Train Loss: 7.9381, Val Loss: 3.1611\n"
     ]
    },
    {
     "name": "stderr",
     "output_type": "stream",
     "text": [
      "Training per zone:  56%|█████▋    | 155/275 [17:44<14:58,  7.49s/it]"
     ]
    },
    {
     "name": "stdout",
     "output_type": "stream",
     "text": [
      "Trained zone 585, Train Loss: 2.8197, Val Loss: 1.0154\n"
     ]
    },
    {
     "name": "stderr",
     "output_type": "stream",
     "text": [
      "Training per zone:  57%|█████▋    | 156/275 [17:52<15:03,  7.59s/it]"
     ]
    },
    {
     "name": "stdout",
     "output_type": "stream",
     "text": [
      "Trained zone 587, Train Loss: 32.7401, Val Loss: 13.7316\n"
     ]
    },
    {
     "name": "stderr",
     "output_type": "stream",
     "text": [
      "Training per zone:  57%|█████▋    | 157/275 [18:00<15:31,  7.89s/it]"
     ]
    },
    {
     "name": "stdout",
     "output_type": "stream",
     "text": [
      "Trained zone 588, Train Loss: 51.9421, Val Loss: 14.4046\n"
     ]
    },
    {
     "name": "stderr",
     "output_type": "stream",
     "text": [
      "Training per zone:  57%|█████▋    | 158/275 [18:09<15:37,  8.01s/it]"
     ]
    },
    {
     "name": "stdout",
     "output_type": "stream",
     "text": [
      "Trained zone 589, Train Loss: 51.0025, Val Loss: 14.7916\n"
     ]
    },
    {
     "name": "stderr",
     "output_type": "stream",
     "text": [
      "Training per zone:  58%|█████▊    | 159/275 [18:14<13:55,  7.20s/it]"
     ]
    },
    {
     "name": "stdout",
     "output_type": "stream",
     "text": [
      "Early stopping for zone 592 at epoch 12\n",
      "Trained zone 592, Train Loss: 2403.0129, Val Loss: 534.6632\n"
     ]
    },
    {
     "name": "stderr",
     "output_type": "stream",
     "text": [
      "Training per zone:  58%|█████▊    | 160/275 [18:23<14:47,  7.72s/it]"
     ]
    },
    {
     "name": "stdout",
     "output_type": "stream",
     "text": [
      "Trained zone 594, Train Loss: 4.5176, Val Loss: 2.4122\n"
     ]
    },
    {
     "name": "stderr",
     "output_type": "stream",
     "text": [
      "C:\\Users\\shrey\\AppData\\Local\\Temp\\ipykernel_28632\\2385450052.py:108: RuntimeWarning: overflow encountered in expm1\n",
      "  train_preds_unscaled = np.expm1(scalers[target].inverse_transform(np.concatenate(all_train_preds).reshape(-1, 1)))\n",
      "Training per zone:  59%|█████▊    | 161/275 [18:28<12:54,  6.79s/it]"
     ]
    },
    {
     "name": "stdout",
     "output_type": "stream",
     "text": [
      "Early stopping for zone 595 at epoch 10\n",
      "Failed for zone 595: Input contains infinity or a value too large for dtype('float32').\n"
     ]
    },
    {
     "name": "stderr",
     "output_type": "stream",
     "text": [
      "Training per zone:  59%|█████▉    | 162/275 [18:36<13:45,  7.30s/it]"
     ]
    },
    {
     "name": "stdout",
     "output_type": "stream",
     "text": [
      "Trained zone 596, Train Loss: 26.4169, Val Loss: 10.8165\n"
     ]
    },
    {
     "name": "stderr",
     "output_type": "stream",
     "text": [
      "Training per zone:  59%|█████▉    | 163/275 [18:41<12:04,  6.47s/it]"
     ]
    },
    {
     "name": "stdout",
     "output_type": "stream",
     "text": [
      "Early stopping for zone 598 at epoch 12\n",
      "Trained zone 598, Train Loss: 3.3396, Val Loss: 1.6570\n"
     ]
    },
    {
     "name": "stderr",
     "output_type": "stream",
     "text": [
      "Training per zone:  60%|█████▉    | 164/275 [18:48<12:30,  6.76s/it]"
     ]
    },
    {
     "name": "stdout",
     "output_type": "stream",
     "text": [
      "Trained zone 601, Train Loss: 2.9496, Val Loss: 1.3285\n"
     ]
    },
    {
     "name": "stderr",
     "output_type": "stream",
     "text": [
      "Training per zone:  60%|██████    | 165/275 [18:56<12:51,  7.01s/it]"
     ]
    },
    {
     "name": "stdout",
     "output_type": "stream",
     "text": [
      "Early stopping for zone 628 at epoch 22\n",
      "Trained zone 628, Train Loss: 83.8443, Val Loss: 24.5205\n"
     ]
    },
    {
     "name": "stderr",
     "output_type": "stream",
     "text": [
      "Training per zone:  60%|██████    | 166/275 [19:04<13:32,  7.45s/it]"
     ]
    },
    {
     "name": "stdout",
     "output_type": "stream",
     "text": [
      "Early stopping for zone 631 at epoch 24\n",
      "Trained zone 631, Train Loss: 24.0702, Val Loss: 14.6432\n"
     ]
    },
    {
     "name": "stderr",
     "output_type": "stream",
     "text": [
      "Training per zone:  61%|██████    | 167/275 [19:11<13:14,  7.36s/it]"
     ]
    },
    {
     "name": "stdout",
     "output_type": "stream",
     "text": [
      "Early stopping for zone 632 at epoch 21\n",
      "Trained zone 632, Train Loss: 5.2020, Val Loss: 2.6393\n"
     ]
    },
    {
     "name": "stderr",
     "output_type": "stream",
     "text": [
      "C:\\Users\\shrey\\AppData\\Local\\Temp\\ipykernel_28632\\2385450052.py:108: RuntimeWarning: overflow encountered in expm1\n",
      "  train_preds_unscaled = np.expm1(scalers[target].inverse_transform(np.concatenate(all_train_preds).reshape(-1, 1)))\n",
      "Training per zone:  61%|██████    | 168/275 [19:18<12:40,  7.11s/it]"
     ]
    },
    {
     "name": "stdout",
     "output_type": "stream",
     "text": [
      "Early stopping for zone 633 at epoch 17\n",
      "Failed for zone 633: Input contains infinity or a value too large for dtype('float32').\n"
     ]
    },
    {
     "name": "stderr",
     "output_type": "stream",
     "text": [
      "Training per zone:  61%|██████▏   | 169/275 [19:25<12:52,  7.29s/it]"
     ]
    },
    {
     "name": "stdout",
     "output_type": "stream",
     "text": [
      "Trained zone 637, Train Loss: 79.8053, Val Loss: 26.7966\n"
     ]
    },
    {
     "name": "stderr",
     "output_type": "stream",
     "text": [
      "Training per zone:  62%|██████▏   | 170/275 [19:32<12:34,  7.19s/it]"
     ]
    },
    {
     "name": "stdout",
     "output_type": "stream",
     "text": [
      "Trained zone 638, Train Loss: 4.4607, Val Loss: 1.3237\n"
     ]
    },
    {
     "name": "stderr",
     "output_type": "stream",
     "text": [
      "Training per zone:  62%|██████▏   | 171/275 [19:40<12:45,  7.36s/it]"
     ]
    },
    {
     "name": "stdout",
     "output_type": "stream",
     "text": [
      "Trained zone 643, Train Loss: 7.1558, Val Loss: 5.4497\n"
     ]
    },
    {
     "name": "stderr",
     "output_type": "stream",
     "text": [
      "Training per zone:  63%|██████▎   | 172/275 [19:46<11:58,  6.98s/it]"
     ]
    },
    {
     "name": "stdout",
     "output_type": "stream",
     "text": [
      "Early stopping for zone 644 at epoch 19\n",
      "Trained zone 644, Train Loss: 6.3552, Val Loss: 3.3458\n"
     ]
    },
    {
     "name": "stderr",
     "output_type": "stream",
     "text": [
      "Training per zone:  63%|██████▎   | 173/275 [19:53<11:38,  6.84s/it]"
     ]
    },
    {
     "name": "stdout",
     "output_type": "stream",
     "text": [
      "Early stopping for zone 647 at epoch 22\n",
      "Trained zone 647, Train Loss: 3.4799, Val Loss: 1.0260\n"
     ]
    },
    {
     "name": "stderr",
     "output_type": "stream",
     "text": [
      "Training per zone:  63%|██████▎   | 174/275 [20:00<11:52,  7.06s/it]"
     ]
    },
    {
     "name": "stdout",
     "output_type": "stream",
     "text": [
      "Early stopping for zone 651 at epoch 24\n",
      "Trained zone 651, Train Loss: 2.2785, Val Loss: 0.8427\n"
     ]
    },
    {
     "name": "stderr",
     "output_type": "stream",
     "text": [
      "Training per zone:  64%|██████▎   | 175/275 [20:08<11:53,  7.14s/it]"
     ]
    },
    {
     "name": "stdout",
     "output_type": "stream",
     "text": [
      "Trained zone 655, Train Loss: 3.1895, Val Loss: 1.6775\n"
     ]
    },
    {
     "name": "stderr",
     "output_type": "stream",
     "text": [
      "Training per zone:  64%|██████▍   | 176/275 [20:14<11:18,  6.85s/it]"
     ]
    },
    {
     "name": "stdout",
     "output_type": "stream",
     "text": [
      "Early stopping for zone 656 at epoch 19\n",
      "Trained zone 656, Train Loss: 5.2730, Val Loss: 2.7837\n"
     ]
    },
    {
     "name": "stderr",
     "output_type": "stream",
     "text": [
      "Training per zone:  64%|██████▍   | 177/275 [20:21<11:20,  6.95s/it]"
     ]
    },
    {
     "name": "stdout",
     "output_type": "stream",
     "text": [
      "Trained zone 659, Train Loss: 3.5256, Val Loss: 1.9475\n"
     ]
    },
    {
     "name": "stderr",
     "output_type": "stream",
     "text": [
      "Training per zone:  65%|██████▍   | 178/275 [20:29<11:28,  7.09s/it]"
     ]
    },
    {
     "name": "stdout",
     "output_type": "stream",
     "text": [
      "Trained zone 681, Train Loss: 3.3463, Val Loss: 1.5445\n"
     ]
    },
    {
     "name": "stderr",
     "output_type": "stream",
     "text": [
      "Training per zone:  65%|██████▌   | 179/275 [20:37<11:47,  7.37s/it]"
     ]
    },
    {
     "name": "stdout",
     "output_type": "stream",
     "text": [
      "Early stopping for zone 682 at epoch 24\n",
      "Trained zone 682, Train Loss: 727.6462, Val Loss: 154.3368\n"
     ]
    },
    {
     "name": "stderr",
     "output_type": "stream",
     "text": [
      "Training per zone:  65%|██████▌   | 180/275 [20:42<10:34,  6.68s/it]"
     ]
    },
    {
     "name": "stdout",
     "output_type": "stream",
     "text": [
      "Early stopping for zone 686 at epoch 15\n",
      "Trained zone 686, Train Loss: 5.9205, Val Loss: 2.9576\n"
     ]
    },
    {
     "name": "stderr",
     "output_type": "stream",
     "text": [
      "Training per zone:  66%|██████▌   | 181/275 [20:49<10:45,  6.86s/it]"
     ]
    },
    {
     "name": "stdout",
     "output_type": "stream",
     "text": [
      "Trained zone 687, Train Loss: 4.6739, Val Loss: 1.0389\n"
     ]
    },
    {
     "name": "stderr",
     "output_type": "stream",
     "text": [
      "Training per zone:  66%|██████▌   | 182/275 [20:57<11:07,  7.18s/it]"
     ]
    },
    {
     "name": "stdout",
     "output_type": "stream",
     "text": [
      "Trained zone 690, Train Loss: 1667.5016, Val Loss: 314.2475\n"
     ]
    },
    {
     "name": "stderr",
     "output_type": "stream",
     "text": [
      "Training per zone:  67%|██████▋   | 183/275 [21:04<10:59,  7.17s/it]"
     ]
    },
    {
     "name": "stdout",
     "output_type": "stream",
     "text": [
      "Trained zone 691, Train Loss: 17.1886, Val Loss: 7.6055\n"
     ]
    },
    {
     "name": "stderr",
     "output_type": "stream",
     "text": [
      "Training per zone:  67%|██████▋   | 184/275 [21:11<10:51,  7.16s/it]"
     ]
    },
    {
     "name": "stdout",
     "output_type": "stream",
     "text": [
      "Trained zone 693, Train Loss: 8.5960, Val Loss: 3.8284\n"
     ]
    },
    {
     "name": "stderr",
     "output_type": "stream",
     "text": [
      "Training per zone:  67%|██████▋   | 185/275 [21:15<09:16,  6.18s/it]"
     ]
    },
    {
     "name": "stdout",
     "output_type": "stream",
     "text": [
      "Early stopping for zone 698 at epoch 10\n",
      "Trained zone 698, Train Loss: 3.0599, Val Loss: 1.4613\n"
     ]
    },
    {
     "name": "stderr",
     "output_type": "stream",
     "text": [
      "Training per zone:  68%|██████▊   | 186/275 [21:22<09:38,  6.50s/it]"
     ]
    },
    {
     "name": "stdout",
     "output_type": "stream",
     "text": [
      "Trained zone 699, Train Loss: 9.0107, Val Loss: 3.3524\n"
     ]
    },
    {
     "name": "stderr",
     "output_type": "stream",
     "text": [
      "Training per zone:  68%|██████▊   | 187/275 [21:30<10:03,  6.86s/it]"
     ]
    },
    {
     "name": "stdout",
     "output_type": "stream",
     "text": [
      "Trained zone 700, Train Loss: 17.6982, Val Loss: 6.3078\n"
     ]
    },
    {
     "name": "stderr",
     "output_type": "stream",
     "text": [
      "Training per zone:  68%|██████▊   | 188/275 [21:36<09:43,  6.70s/it]"
     ]
    },
    {
     "name": "stdout",
     "output_type": "stream",
     "text": [
      "Early stopping for zone 701 at epoch 21\n",
      "Trained zone 701, Train Loss: 3.3528, Val Loss: 1.1186\n"
     ]
    },
    {
     "name": "stderr",
     "output_type": "stream",
     "text": [
      "Training per zone:  69%|██████▊   | 189/275 [21:41<08:46,  6.12s/it]"
     ]
    },
    {
     "name": "stdout",
     "output_type": "stream",
     "text": [
      "Early stopping for zone 703 at epoch 11\n",
      "Trained zone 703, Train Loss: 107.3790, Val Loss: 34.5576\n"
     ]
    },
    {
     "name": "stderr",
     "output_type": "stream",
     "text": [
      "Training per zone:  69%|██████▉   | 190/275 [21:49<09:29,  6.70s/it]"
     ]
    },
    {
     "name": "stdout",
     "output_type": "stream",
     "text": [
      "Trained zone 704, Train Loss: 60.9671, Val Loss: 15.1175\n"
     ]
    },
    {
     "name": "stderr",
     "output_type": "stream",
     "text": [
      "Training per zone:  69%|██████▉   | 191/275 [21:56<09:34,  6.83s/it]"
     ]
    },
    {
     "name": "stdout",
     "output_type": "stream",
     "text": [
      "Trained zone 705, Train Loss: 6.3239, Val Loss: 2.7672\n"
     ]
    },
    {
     "name": "stderr",
     "output_type": "stream",
     "text": [
      "Training per zone:  70%|██████▉   | 192/275 [22:04<09:59,  7.22s/it]"
     ]
    },
    {
     "name": "stdout",
     "output_type": "stream",
     "text": [
      "Early stopping for zone 706 at epoch 24\n",
      "Trained zone 706, Train Loss: 3.5413, Val Loss: 1.9212\n"
     ]
    },
    {
     "name": "stderr",
     "output_type": "stream",
     "text": [
      "Training per zone:  70%|███████   | 193/275 [22:13<10:16,  7.51s/it]"
     ]
    },
    {
     "name": "stdout",
     "output_type": "stream",
     "text": [
      "Trained zone 708, Train Loss: 895.3399, Val Loss: 237.3366\n"
     ]
    },
    {
     "name": "stderr",
     "output_type": "stream",
     "text": [
      "Training per zone:  71%|███████   | 194/275 [22:17<08:59,  6.66s/it]"
     ]
    },
    {
     "name": "stdout",
     "output_type": "stream",
     "text": [
      "Early stopping for zone 709 at epoch 12\n",
      "Trained zone 709, Train Loss: 7.5870, Val Loss: 3.3919\n"
     ]
    },
    {
     "name": "stderr",
     "output_type": "stream",
     "text": [
      "Training per zone:  71%|███████   | 195/275 [22:24<09:02,  6.78s/it]"
     ]
    },
    {
     "name": "stdout",
     "output_type": "stream",
     "text": [
      "Early stopping for zone 710 at epoch 23\n",
      "Trained zone 710, Train Loss: 7.4066, Val Loss: 3.5774\n"
     ]
    },
    {
     "name": "stderr",
     "output_type": "stream",
     "text": [
      "Training per zone:  71%|███████▏  | 196/275 [22:29<07:58,  6.05s/it]"
     ]
    },
    {
     "name": "stdout",
     "output_type": "stream",
     "text": [
      "Early stopping for zone 711 at epoch 11\n",
      "Trained zone 711, Train Loss: 3.5947, Val Loss: 2.0685\n"
     ]
    },
    {
     "name": "stderr",
     "output_type": "stream",
     "text": [
      "Training per zone:  72%|███████▏  | 197/275 [22:37<08:36,  6.63s/it]"
     ]
    },
    {
     "name": "stdout",
     "output_type": "stream",
     "text": [
      "Trained zone 712, Train Loss: 30.4646, Val Loss: 11.4593\n"
     ]
    },
    {
     "name": "stderr",
     "output_type": "stream",
     "text": [
      "Training per zone:  72%|███████▏  | 198/275 [22:45<09:02,  7.05s/it]"
     ]
    },
    {
     "name": "stdout",
     "output_type": "stream",
     "text": [
      "Trained zone 715, Train Loss: 191.5825, Val Loss: 60.2371\n"
     ]
    },
    {
     "name": "stderr",
     "output_type": "stream",
     "text": [
      "Training per zone:  72%|███████▏  | 199/275 [22:53<09:21,  7.39s/it]"
     ]
    },
    {
     "name": "stdout",
     "output_type": "stream",
     "text": [
      "Trained zone 716, Train Loss: 176.8546, Val Loss: 53.9773\n"
     ]
    },
    {
     "name": "stderr",
     "output_type": "stream",
     "text": [
      "Training per zone:  73%|███████▎  | 200/275 [23:00<09:14,  7.39s/it]"
     ]
    },
    {
     "name": "stdout",
     "output_type": "stream",
     "text": [
      "Trained zone 718, Train Loss: 2.2075, Val Loss: 1.1027\n"
     ]
    },
    {
     "name": "stderr",
     "output_type": "stream",
     "text": [
      "Training per zone:  73%|███████▎  | 201/275 [23:08<09:05,  7.37s/it]"
     ]
    },
    {
     "name": "stdout",
     "output_type": "stream",
     "text": [
      "Trained zone 719, Train Loss: 3.8840, Val Loss: 1.4928\n"
     ]
    },
    {
     "name": "stderr",
     "output_type": "stream",
     "text": [
      "Training per zone:  73%|███████▎  | 202/275 [23:14<08:45,  7.20s/it]"
     ]
    },
    {
     "name": "stdout",
     "output_type": "stream",
     "text": [
      "Early stopping for zone 724 at epoch 20\n",
      "Trained zone 724, Train Loss: 32.9081, Val Loss: 11.6880\n"
     ]
    },
    {
     "name": "stderr",
     "output_type": "stream",
     "text": [
      "Training per zone:  74%|███████▍  | 203/275 [23:20<08:15,  6.88s/it]"
     ]
    },
    {
     "name": "stdout",
     "output_type": "stream",
     "text": [
      "Early stopping for zone 728 at epoch 19\n",
      "Trained zone 728, Train Loss: 6.7372, Val Loss: 3.5567\n"
     ]
    },
    {
     "name": "stderr",
     "output_type": "stream",
     "text": [
      "Training per zone:  74%|███████▍  | 204/275 [23:28<08:27,  7.15s/it]"
     ]
    },
    {
     "name": "stdout",
     "output_type": "stream",
     "text": [
      "Trained zone 729, Train Loss: 278.2139, Val Loss: 80.2056\n"
     ]
    },
    {
     "name": "stderr",
     "output_type": "stream",
     "text": [
      "Training per zone:  75%|███████▍  | 205/275 [23:33<07:36,  6.52s/it]"
     ]
    },
    {
     "name": "stdout",
     "output_type": "stream",
     "text": [
      "Early stopping for zone 731 at epoch 15\n",
      "Trained zone 731, Train Loss: 5.8498, Val Loss: 2.8173\n"
     ]
    },
    {
     "name": "stderr",
     "output_type": "stream",
     "text": [
      "Training per zone:  75%|███████▍  | 206/275 [23:40<07:39,  6.65s/it]"
     ]
    },
    {
     "name": "stdout",
     "output_type": "stream",
     "text": [
      "Trained zone 732, Train Loss: 2.2235, Val Loss: 0.8465\n"
     ]
    },
    {
     "name": "stderr",
     "output_type": "stream",
     "text": [
      "Training per zone:  75%|███████▌  | 207/275 [23:47<07:42,  6.80s/it]"
     ]
    },
    {
     "name": "stdout",
     "output_type": "stream",
     "text": [
      "Trained zone 733, Train Loss: 100.7660, Val Loss: 26.8377\n"
     ]
    },
    {
     "name": "stderr",
     "output_type": "stream",
     "text": [
      "Training per zone:  76%|███████▌  | 208/275 [23:55<07:45,  6.94s/it]"
     ]
    },
    {
     "name": "stdout",
     "output_type": "stream",
     "text": [
      "Trained zone 737, Train Loss: 3.4917, Val Loss: 2.0524\n"
     ]
    },
    {
     "name": "stderr",
     "output_type": "stream",
     "text": [
      "Training per zone:  76%|███████▌  | 209/275 [24:03<07:56,  7.22s/it]"
     ]
    },
    {
     "name": "stdout",
     "output_type": "stream",
     "text": [
      "Trained zone 741, Train Loss: 7.1534, Val Loss: 4.3079\n"
     ]
    },
    {
     "name": "stderr",
     "output_type": "stream",
     "text": [
      "Training per zone:  76%|███████▋  | 210/275 [24:10<07:54,  7.30s/it]"
     ]
    },
    {
     "name": "stdout",
     "output_type": "stream",
     "text": [
      "Early stopping for zone 744 at epoch 24\n",
      "Trained zone 744, Train Loss: 13.5650, Val Loss: 5.0989\n"
     ]
    },
    {
     "name": "stderr",
     "output_type": "stream",
     "text": [
      "Training per zone:  77%|███████▋  | 211/275 [24:17<07:43,  7.24s/it]"
     ]
    },
    {
     "name": "stdout",
     "output_type": "stream",
     "text": [
      "Trained zone 745, Train Loss: 4.6919, Val Loss: 2.3012\n"
     ]
    },
    {
     "name": "stderr",
     "output_type": "stream",
     "text": [
      "Training per zone:  77%|███████▋  | 212/275 [24:24<07:32,  7.18s/it]"
     ]
    },
    {
     "name": "stdout",
     "output_type": "stream",
     "text": [
      "Early stopping for zone 746 at epoch 23\n",
      "Trained zone 746, Train Loss: 53.4476, Val Loss: 13.9350\n"
     ]
    },
    {
     "name": "stderr",
     "output_type": "stream",
     "text": [
      "Training per zone:  77%|███████▋  | 213/275 [24:29<06:37,  6.41s/it]"
     ]
    },
    {
     "name": "stdout",
     "output_type": "stream",
     "text": [
      "Early stopping for zone 751 at epoch 12\n",
      "Trained zone 751, Train Loss: 13.1099, Val Loss: 5.2542\n"
     ]
    },
    {
     "name": "stderr",
     "output_type": "stream",
     "text": [
      "Training per zone:  78%|███████▊  | 214/275 [24:37<07:00,  6.89s/it]"
     ]
    },
    {
     "name": "stdout",
     "output_type": "stream",
     "text": [
      "Trained zone 771, Train Loss: 9.8065, Val Loss: 4.7813\n"
     ]
    },
    {
     "name": "stderr",
     "output_type": "stream",
     "text": [
      "Training per zone:  78%|███████▊  | 215/275 [24:43<06:49,  6.83s/it]"
     ]
    },
    {
     "name": "stdout",
     "output_type": "stream",
     "text": [
      "Early stopping for zone 773 at epoch 21\n",
      "Trained zone 773, Train Loss: 35.4685, Val Loss: 10.0280\n"
     ]
    },
    {
     "name": "stderr",
     "output_type": "stream",
     "text": [
      "Training per zone:  79%|███████▊  | 216/275 [24:51<07:01,  7.15s/it]"
     ]
    },
    {
     "name": "stdout",
     "output_type": "stream",
     "text": [
      "Trained zone 775, Train Loss: 1873.6476, Val Loss: 346.8353\n"
     ]
    },
    {
     "name": "stderr",
     "output_type": "stream",
     "text": [
      "Training per zone:  79%|███████▉  | 217/275 [24:59<07:05,  7.33s/it]"
     ]
    },
    {
     "name": "stdout",
     "output_type": "stream",
     "text": [
      "Early stopping for zone 777 at epoch 24\n",
      "Trained zone 777, Train Loss: 1882.6765, Val Loss: 527.8292\n"
     ]
    },
    {
     "name": "stderr",
     "output_type": "stream",
     "text": [
      "Training per zone:  79%|███████▉  | 218/275 [25:07<07:07,  7.50s/it]"
     ]
    },
    {
     "name": "stdout",
     "output_type": "stream",
     "text": [
      "Trained zone 781, Train Loss: 126.6080, Val Loss: 38.4566\n"
     ]
    },
    {
     "name": "stderr",
     "output_type": "stream",
     "text": [
      "Training per zone:  80%|███████▉  | 219/275 [25:15<07:04,  7.59s/it]"
     ]
    },
    {
     "name": "stdout",
     "output_type": "stream",
     "text": [
      "Trained zone 783, Train Loss: 3.2857, Val Loss: 0.9546\n"
     ]
    },
    {
     "name": "stderr",
     "output_type": "stream",
     "text": [
      "Training per zone:  80%|████████  | 220/275 [25:22<06:49,  7.45s/it]"
     ]
    },
    {
     "name": "stdout",
     "output_type": "stream",
     "text": [
      "Trained zone 790, Train Loss: 2.9192, Val Loss: 1.5619\n"
     ]
    },
    {
     "name": "stderr",
     "output_type": "stream",
     "text": [
      "Training per zone:  80%|████████  | 221/275 [25:29<06:31,  7.24s/it]"
     ]
    },
    {
     "name": "stdout",
     "output_type": "stream",
     "text": [
      "Early stopping for zone 792 at epoch 23\n",
      "Trained zone 792, Train Loss: 2.7393, Val Loss: 1.1087\n"
     ]
    },
    {
     "name": "stderr",
     "output_type": "stream",
     "text": [
      "Training per zone:  81%|████████  | 222/275 [25:36<06:32,  7.40s/it]"
     ]
    },
    {
     "name": "stdout",
     "output_type": "stream",
     "text": [
      "Early stopping for zone 795 at epoch 23\n",
      "Trained zone 795, Train Loss: 65.6171, Val Loss: 16.0669\n"
     ]
    },
    {
     "name": "stderr",
     "output_type": "stream",
     "text": [
      "Training per zone:  81%|████████  | 223/275 [25:44<06:24,  7.38s/it]"
     ]
    },
    {
     "name": "stdout",
     "output_type": "stream",
     "text": [
      "Trained zone 799, Train Loss: 30.7688, Val Loss: 9.0779\n"
     ]
    },
    {
     "name": "stderr",
     "output_type": "stream",
     "text": [
      "Training per zone:  81%|████████▏ | 224/275 [25:51<06:12,  7.30s/it]"
     ]
    },
    {
     "name": "stdout",
     "output_type": "stream",
     "text": [
      "Trained zone 802, Train Loss: 14.9264, Val Loss: 6.3074\n"
     ]
    },
    {
     "name": "stderr",
     "output_type": "stream",
     "text": [
      "Training per zone:  82%|████████▏ | 225/275 [25:57<05:45,  6.90s/it]"
     ]
    },
    {
     "name": "stdout",
     "output_type": "stream",
     "text": [
      "Early stopping for zone 804 at epoch 16\n",
      "Trained zone 804, Train Loss: 113.8772, Val Loss: 38.7290\n"
     ]
    },
    {
     "name": "stderr",
     "output_type": "stream",
     "text": [
      "Training per zone:  82%|████████▏ | 226/275 [26:04<05:43,  7.00s/it]"
     ]
    },
    {
     "name": "stdout",
     "output_type": "stream",
     "text": [
      "Trained zone 805, Train Loss: 5.8961, Val Loss: 2.7115\n"
     ]
    },
    {
     "name": "stderr",
     "output_type": "stream",
     "text": [
      "Training per zone:  83%|████████▎ | 227/275 [26:11<05:39,  7.08s/it]"
     ]
    },
    {
     "name": "stdout",
     "output_type": "stream",
     "text": [
      "Trained zone 809, Train Loss: 44.8792, Val Loss: 12.3986\n"
     ]
    },
    {
     "name": "stderr",
     "output_type": "stream",
     "text": [
      "Training per zone:  83%|████████▎ | 228/275 [26:17<05:13,  6.67s/it]"
     ]
    },
    {
     "name": "stdout",
     "output_type": "stream",
     "text": [
      "Early stopping for zone 832 at epoch 17\n",
      "Trained zone 832, Train Loss: 13.6782, Val Loss: 5.3132\n"
     ]
    },
    {
     "name": "stderr",
     "output_type": "stream",
     "text": [
      "Training per zone:  83%|████████▎ | 229/275 [26:24<05:16,  6.88s/it]"
     ]
    },
    {
     "name": "stdout",
     "output_type": "stream",
     "text": [
      "Trained zone 842, Train Loss: 44.3335, Val Loss: 12.1719\n"
     ]
    },
    {
     "name": "stderr",
     "output_type": "stream",
     "text": [
      "C:\\Users\\shrey\\AppData\\Local\\Temp\\ipykernel_28632\\2385450052.py:108: RuntimeWarning: overflow encountered in expm1\n",
      "  train_preds_unscaled = np.expm1(scalers[target].inverse_transform(np.concatenate(all_train_preds).reshape(-1, 1)))\n",
      "Training per zone:  84%|████████▎ | 230/275 [26:32<05:18,  7.09s/it]"
     ]
    },
    {
     "name": "stdout",
     "output_type": "stream",
     "text": [
      "Failed for zone 844: Input contains infinity or a value too large for dtype('float32').\n"
     ]
    },
    {
     "name": "stderr",
     "output_type": "stream",
     "text": [
      "Training per zone:  84%|████████▍ | 231/275 [26:39<05:14,  7.15s/it]"
     ]
    },
    {
     "name": "stdout",
     "output_type": "stream",
     "text": [
      "Trained zone 848, Train Loss: 3.0955, Val Loss: 1.3157\n"
     ]
    },
    {
     "name": "stderr",
     "output_type": "stream",
     "text": [
      "Training per zone:  84%|████████▍ | 232/275 [26:47<05:08,  7.17s/it]"
     ]
    },
    {
     "name": "stdout",
     "output_type": "stream",
     "text": [
      "Trained zone 849, Train Loss: 8.7491, Val Loss: 3.5430\n"
     ]
    },
    {
     "name": "stderr",
     "output_type": "stream",
     "text": [
      "Training per zone:  85%|████████▍ | 233/275 [26:54<05:09,  7.38s/it]"
     ]
    },
    {
     "name": "stdout",
     "output_type": "stream",
     "text": [
      "Trained zone 851, Train Loss: 93.3521, Val Loss: 31.5151\n"
     ]
    },
    {
     "name": "stderr",
     "output_type": "stream",
     "text": [
      "Training per zone:  85%|████████▌ | 234/275 [27:00<04:46,  6.98s/it]"
     ]
    },
    {
     "name": "stdout",
     "output_type": "stream",
     "text": [
      "Early stopping for zone 852 at epoch 18\n",
      "Trained zone 852, Train Loss: 2.9217, Val Loss: 1.2285\n"
     ]
    },
    {
     "name": "stderr",
     "output_type": "stream",
     "text": [
      "Training per zone:  85%|████████▌ | 235/275 [27:08<04:44,  7.12s/it]"
     ]
    },
    {
     "name": "stdout",
     "output_type": "stream",
     "text": [
      "Trained zone 855, Train Loss: 69.8557, Val Loss: 17.7342\n"
     ]
    },
    {
     "name": "stderr",
     "output_type": "stream",
     "text": [
      "Training per zone:  86%|████████▌ | 236/275 [27:16<04:46,  7.35s/it]"
     ]
    },
    {
     "name": "stdout",
     "output_type": "stream",
     "text": [
      "Trained zone 858, Train Loss: 407.1665, Val Loss: 123.0583\n"
     ]
    },
    {
     "name": "stderr",
     "output_type": "stream",
     "text": [
      "Training per zone:  86%|████████▌ | 237/275 [27:21<04:13,  6.67s/it]"
     ]
    },
    {
     "name": "stdout",
     "output_type": "stream",
     "text": [
      "Early stopping for zone 862 at epoch 14\n",
      "Trained zone 862, Train Loss: 5.4434, Val Loss: 2.3330\n"
     ]
    },
    {
     "name": "stderr",
     "output_type": "stream",
     "text": [
      "Training per zone:  87%|████████▋ | 238/275 [27:30<04:29,  7.29s/it]"
     ]
    },
    {
     "name": "stdout",
     "output_type": "stream",
     "text": [
      "Trained zone 881, Train Loss: 38.7421, Val Loss: 12.6712\n"
     ]
    },
    {
     "name": "stderr",
     "output_type": "stream",
     "text": [
      "Training per zone:  87%|████████▋ | 239/275 [27:37<04:27,  7.42s/it]"
     ]
    },
    {
     "name": "stdout",
     "output_type": "stream",
     "text": [
      "Trained zone 882, Train Loss: 2.3423, Val Loss: 1.1937\n"
     ]
    },
    {
     "name": "stderr",
     "output_type": "stream",
     "text": [
      "Training per zone:  87%|████████▋ | 240/275 [27:45<04:23,  7.53s/it]"
     ]
    },
    {
     "name": "stdout",
     "output_type": "stream",
     "text": [
      "Trained zone 883, Train Loss: 3.3859, Val Loss: 1.5022\n"
     ]
    },
    {
     "name": "stderr",
     "output_type": "stream",
     "text": [
      "Training per zone:  88%|████████▊ | 241/275 [27:50<03:50,  6.78s/it]"
     ]
    },
    {
     "name": "stdout",
     "output_type": "stream",
     "text": [
      "Early stopping for zone 887 at epoch 13\n",
      "Trained zone 887, Train Loss: 10.1710, Val Loss: 3.8808\n"
     ]
    },
    {
     "name": "stderr",
     "output_type": "stream",
     "text": [
      "Training per zone:  88%|████████▊ | 242/275 [27:57<03:46,  6.85s/it]"
     ]
    },
    {
     "name": "stdout",
     "output_type": "stream",
     "text": [
      "Early stopping for zone 888 at epoch 18\n",
      "Trained zone 888, Train Loss: 75.9922, Val Loss: 23.2796\n"
     ]
    },
    {
     "name": "stderr",
     "output_type": "stream",
     "text": [
      "Training per zone:  88%|████████▊ | 243/275 [28:05<03:49,  7.16s/it]"
     ]
    },
    {
     "name": "stdout",
     "output_type": "stream",
     "text": [
      "Trained zone 890, Train Loss: 3.4843, Val Loss: 0.3369\n"
     ]
    },
    {
     "name": "stderr",
     "output_type": "stream",
     "text": [
      "Training per zone:  89%|████████▊ | 244/275 [28:14<03:55,  7.61s/it]"
     ]
    },
    {
     "name": "stdout",
     "output_type": "stream",
     "text": [
      "Early stopping for zone 891 at epoch 24\n",
      "Trained zone 891, Train Loss: 587.5864, Val Loss: 145.6851\n"
     ]
    },
    {
     "name": "stderr",
     "output_type": "stream",
     "text": [
      "Training per zone:  89%|████████▉ | 245/275 [28:22<03:51,  7.71s/it]"
     ]
    },
    {
     "name": "stdout",
     "output_type": "stream",
     "text": [
      "Trained zone 893, Train Loss: 2.5068, Val Loss: 1.1558\n"
     ]
    },
    {
     "name": "stderr",
     "output_type": "stream",
     "text": [
      "Training per zone:  89%|████████▉ | 246/275 [28:30<03:51,  7.99s/it]"
     ]
    },
    {
     "name": "stdout",
     "output_type": "stream",
     "text": [
      "Trained zone 895, Train Loss: 944.0641, Val Loss: 300.7051\n"
     ]
    },
    {
     "name": "stderr",
     "output_type": "stream",
     "text": [
      "Training per zone:  90%|████████▉ | 247/275 [28:39<03:48,  8.16s/it]"
     ]
    },
    {
     "name": "stdout",
     "output_type": "stream",
     "text": [
      "Trained zone 897, Train Loss: 41.7254, Val Loss: 21.5743\n"
     ]
    },
    {
     "name": "stderr",
     "output_type": "stream",
     "text": [
      "Training per zone:  90%|█████████ | 248/275 [28:45<03:26,  7.64s/it]"
     ]
    },
    {
     "name": "stdout",
     "output_type": "stream",
     "text": [
      "Early stopping for zone 900 at epoch 17\n",
      "Trained zone 900, Train Loss: 3.6286, Val Loss: 1.8654\n"
     ]
    },
    {
     "name": "stderr",
     "output_type": "stream",
     "text": [
      "Training per zone:  91%|█████████ | 249/275 [28:53<03:23,  7.81s/it]"
     ]
    },
    {
     "name": "stdout",
     "output_type": "stream",
     "text": [
      "Trained zone 901, Train Loss: 3.0379, Val Loss: 1.2053\n"
     ]
    },
    {
     "name": "stderr",
     "output_type": "stream",
     "text": [
      "Training per zone:  91%|█████████ | 250/275 [29:00<03:05,  7.43s/it]"
     ]
    },
    {
     "name": "stdout",
     "output_type": "stream",
     "text": [
      "Early stopping for zone 902 at epoch 16\n",
      "Trained zone 902, Train Loss: 4.4588, Val Loss: 2.6661\n"
     ]
    },
    {
     "name": "stderr",
     "output_type": "stream",
     "text": [
      "Training per zone:  91%|█████████▏| 251/275 [29:05<02:43,  6.82s/it]"
     ]
    },
    {
     "name": "stdout",
     "output_type": "stream",
     "text": [
      "Early stopping for zone 903 at epoch 14\n",
      "Trained zone 903, Train Loss: 10.8009, Val Loss: 4.4616\n"
     ]
    },
    {
     "name": "stderr",
     "output_type": "stream",
     "text": [
      "Training per zone:  92%|█████████▏| 252/275 [29:14<02:46,  7.23s/it]"
     ]
    },
    {
     "name": "stdout",
     "output_type": "stream",
     "text": [
      "Trained zone 904, Train Loss: 8.9588, Val Loss: 4.2042\n"
     ]
    },
    {
     "name": "stderr",
     "output_type": "stream",
     "text": [
      "Training per zone:  92%|█████████▏| 253/275 [29:22<02:45,  7.51s/it]"
     ]
    },
    {
     "name": "stdout",
     "output_type": "stream",
     "text": [
      "Trained zone 937, Train Loss: 2.0921, Val Loss: 0.5858\n"
     ]
    },
    {
     "name": "stderr",
     "output_type": "stream",
     "text": [
      "Training per zone:  92%|█████████▏| 254/275 [29:30<02:40,  7.64s/it]"
     ]
    },
    {
     "name": "stdout",
     "output_type": "stream",
     "text": [
      "Trained zone 943, Train Loss: 6.8287, Val Loss: 3.7346\n"
     ]
    },
    {
     "name": "stderr",
     "output_type": "stream",
     "text": [
      "Training per zone:  93%|█████████▎| 255/275 [29:36<02:26,  7.34s/it]"
     ]
    },
    {
     "name": "stdout",
     "output_type": "stream",
     "text": [
      "Early stopping for zone 958 at epoch 18\n",
      "Trained zone 958, Train Loss: 9.1407, Val Loss: 4.1219\n"
     ]
    },
    {
     "name": "stderr",
     "output_type": "stream",
     "text": [
      "Training per zone:  93%|█████████▎| 256/275 [29:44<02:22,  7.49s/it]"
     ]
    },
    {
     "name": "stdout",
     "output_type": "stream",
     "text": [
      "Early stopping for zone 965 at epoch 21\n",
      "Trained zone 965, Train Loss: 98.4335, Val Loss: 26.1553\n"
     ]
    },
    {
     "name": "stderr",
     "output_type": "stream",
     "text": [
      "Training per zone:  93%|█████████▎| 257/275 [29:50<02:08,  7.12s/it]"
     ]
    },
    {
     "name": "stdout",
     "output_type": "stream",
     "text": [
      "Early stopping for zone 966 at epoch 15\n",
      "Trained zone 966, Train Loss: 101.0632, Val Loss: 26.6680\n"
     ]
    },
    {
     "name": "stderr",
     "output_type": "stream",
     "text": [
      "Training per zone:  94%|█████████▍| 258/275 [29:59<02:08,  7.54s/it]"
     ]
    },
    {
     "name": "stdout",
     "output_type": "stream",
     "text": [
      "Trained zone 967, Train Loss: 4.2698, Val Loss: 2.0183\n"
     ]
    },
    {
     "name": "stderr",
     "output_type": "stream",
     "text": [
      "Training per zone:  94%|█████████▍| 259/275 [30:04<01:50,  6.88s/it]"
     ]
    },
    {
     "name": "stdout",
     "output_type": "stream",
     "text": [
      "Early stopping for zone 969 at epoch 13\n",
      "Trained zone 969, Train Loss: 9.8608, Val Loss: 4.4952\n"
     ]
    },
    {
     "name": "stderr",
     "output_type": "stream",
     "text": [
      "Training per zone:  95%|█████████▍| 260/275 [30:12<01:49,  7.27s/it]"
     ]
    },
    {
     "name": "stdout",
     "output_type": "stream",
     "text": [
      "Trained zone 972, Train Loss: 25.6613, Val Loss: 9.2601\n"
     ]
    },
    {
     "name": "stderr",
     "output_type": "stream",
     "text": [
      "Training per zone:  95%|█████████▍| 261/275 [30:20<01:44,  7.49s/it]"
     ]
    },
    {
     "name": "stdout",
     "output_type": "stream",
     "text": [
      "Trained zone 974, Train Loss: 64.8150, Val Loss: 15.8339\n"
     ]
    },
    {
     "name": "stderr",
     "output_type": "stream",
     "text": [
      "Training per zone:  95%|█████████▌| 262/275 [30:28<01:38,  7.56s/it]"
     ]
    },
    {
     "name": "stdout",
     "output_type": "stream",
     "text": [
      "Trained zone 975, Train Loss: 3.1755, Val Loss: 1.6033\n"
     ]
    },
    {
     "name": "stderr",
     "output_type": "stream",
     "text": [
      "Training per zone:  96%|█████████▌| 263/275 [30:36<01:31,  7.66s/it]"
     ]
    },
    {
     "name": "stdout",
     "output_type": "stream",
     "text": [
      "Trained zone 977, Train Loss: 3.3371, Val Loss: 1.7896\n"
     ]
    },
    {
     "name": "stderr",
     "output_type": "stream",
     "text": [
      "Training per zone:  96%|█████████▌| 264/275 [30:43<01:20,  7.31s/it]"
     ]
    },
    {
     "name": "stdout",
     "output_type": "stream",
     "text": [
      "Early stopping for zone 979 at epoch 18\n",
      "Trained zone 979, Train Loss: 3.2770, Val Loss: 1.6962\n"
     ]
    },
    {
     "name": "stderr",
     "output_type": "stream",
     "text": [
      "Training per zone:  96%|█████████▋| 265/275 [30:50<01:13,  7.36s/it]"
     ]
    },
    {
     "name": "stdout",
     "output_type": "stream",
     "text": [
      "Early stopping for zone 981 at epoch 20\n",
      "Trained zone 981, Train Loss: 48.9797, Val Loss: 16.5717\n"
     ]
    },
    {
     "name": "stderr",
     "output_type": "stream",
     "text": [
      "Training per zone:  97%|█████████▋| 266/275 [30:56<01:01,  6.85s/it]"
     ]
    },
    {
     "name": "stdout",
     "output_type": "stream",
     "text": [
      "Early stopping for zone 982 at epoch 16\n",
      "Trained zone 982, Train Loss: 4.6343, Val Loss: 2.3929\n"
     ]
    },
    {
     "name": "stderr",
     "output_type": "stream",
     "text": [
      "Training per zone:  97%|█████████▋| 267/275 [31:04<00:57,  7.20s/it]"
     ]
    },
    {
     "name": "stdout",
     "output_type": "stream",
     "text": [
      "Trained zone 983, Train Loss: 3.9615, Val Loss: 2.0280\n"
     ]
    },
    {
     "name": "stderr",
     "output_type": "stream",
     "text": [
      "Training per zone:  97%|█████████▋| 268/275 [31:10<00:48,  6.97s/it]"
     ]
    },
    {
     "name": "stdout",
     "output_type": "stream",
     "text": [
      "Early stopping for zone 984 at epoch 18\n",
      "Trained zone 984, Train Loss: 2.9914, Val Loss: 1.3249\n"
     ]
    },
    {
     "name": "stderr",
     "output_type": "stream",
     "text": [
      "Training per zone:  98%|█████████▊| 269/275 [31:19<00:45,  7.51s/it]"
     ]
    },
    {
     "name": "stdout",
     "output_type": "stream",
     "text": [
      "Trained zone 986, Train Loss: 99.4446, Val Loss: 33.3211\n"
     ]
    },
    {
     "name": "stderr",
     "output_type": "stream",
     "text": [
      "Training per zone:  98%|█████████▊| 270/275 [31:27<00:37,  7.52s/it]"
     ]
    },
    {
     "name": "stdout",
     "output_type": "stream",
     "text": [
      "Early stopping for zone 987 at epoch 22\n",
      "Trained zone 987, Train Loss: 3.4263, Val Loss: 1.9907\n"
     ]
    },
    {
     "name": "stderr",
     "output_type": "stream",
     "text": [
      "Training per zone:  99%|█████████▊| 271/275 [31:35<00:31,  7.87s/it]"
     ]
    },
    {
     "name": "stdout",
     "output_type": "stream",
     "text": [
      "Trained zone 988, Train Loss: 6.0923, Val Loss: 3.1442\n"
     ]
    },
    {
     "name": "stderr",
     "output_type": "stream",
     "text": [
      "Training per zone:  99%|█████████▉| 272/275 [31:43<00:23,  7.95s/it]"
     ]
    },
    {
     "name": "stdout",
     "output_type": "stream",
     "text": [
      "Trained zone 989, Train Loss: 24.8964, Val Loss: 7.6260\n"
     ]
    },
    {
     "name": "stderr",
     "output_type": "stream",
     "text": [
      "Training per zone:  99%|█████████▉| 273/275 [31:50<00:15,  7.66s/it]"
     ]
    },
    {
     "name": "stdout",
     "output_type": "stream",
     "text": [
      "Early stopping for zone 991 at epoch 19\n",
      "Trained zone 991, Train Loss: 4.9363, Val Loss: 1.7165\n"
     ]
    },
    {
     "name": "stderr",
     "output_type": "stream",
     "text": [
      "Training per zone: 100%|█████████▉| 274/275 [31:58<00:07,  7.71s/it]"
     ]
    },
    {
     "name": "stdout",
     "output_type": "stream",
     "text": [
      "Early stopping for zone 996 at epoch 23\n",
      "Trained zone 996, Train Loss: 66.7169, Val Loss: 20.8717\n"
     ]
    },
    {
     "name": "stderr",
     "output_type": "stream",
     "text": [
      "Training per zone: 100%|██████████| 275/275 [32:04<00:00,  7.00s/it]"
     ]
    },
    {
     "name": "stdout",
     "output_type": "stream",
     "text": [
      "Early stopping for zone 998 at epoch 17\n",
      "Trained zone 998, Train Loss: 19.9416, Val Loss: 6.8628\n"
     ]
    },
    {
     "name": "stderr",
     "output_type": "stream",
     "text": [
      "\n"
     ]
    }
   ],
   "execution_count": 16
  },
  {
   "metadata": {
    "ExecuteTime": {
     "end_time": "2025-07-03T15:37:12.428620Z",
     "start_time": "2025-07-03T15:37:12.412956Z"
    }
   },
   "cell_type": "code",
   "source": [
    "with open(os.path.join(MODEL_SAVE_DIR, 'global_volume_scaler.pkl'), 'wb') as f:\n",
    "    pickle.dump(scalers['volume'], f)"
   ],
   "outputs": [],
   "execution_count": 17
  },
  {
   "metadata": {},
   "cell_type": "code",
   "outputs": [],
   "execution_count": null,
   "source": ""
  }
 ]
}
